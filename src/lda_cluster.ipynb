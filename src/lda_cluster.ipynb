{
 "cells": [
  {
   "cell_type": "code",
   "execution_count": 1,
   "metadata": {},
   "outputs": [],
   "source": [
    "import pandas as pd\n",
    "import numpy as np \n",
    "\n",
    "from gensim import corpora\n",
    "from gensim.models import TfidfModel\n",
    "from gensim.models.ldamulticore import LdaMulticore"
   ]
  },
  {
   "cell_type": "code",
   "execution_count": 2,
   "metadata": {},
   "outputs": [],
   "source": [
    "from budget_corpus import read_documents, read_raw_corpus"
   ]
  },
  {
   "cell_type": "code",
   "execution_count": 3,
   "metadata": {},
   "outputs": [],
   "source": [
    "from pathlib import Path"
   ]
  },
  {
   "cell_type": "code",
   "execution_count": 4,
   "metadata": {},
   "outputs": [],
   "source": [
    "import logging\n",
    "logging.basicConfig(format='%(asctime)s : %(levelname)s : %(message)s', level=logging.INFO)"
   ]
  },
  {
   "cell_type": "code",
   "execution_count": 5,
   "metadata": {},
   "outputs": [],
   "source": [
    "raw_corpus = read_raw_corpus()\n",
    "corpus = read_documents()"
   ]
  },
  {
   "cell_type": "code",
   "execution_count": 6,
   "metadata": {},
   "outputs": [
    {
     "name": "stderr",
     "output_type": "stream",
     "text": [
      "2019-02-28 13:18:30,584 : INFO : adding document #0 to Dictionary(0 unique tokens: [])\n",
      "2019-02-28 13:18:30,656 : INFO : built Dictionary(4392 unique tokens: ['acquisition', 'aircraft', 'authorize', 'capital', 'derive']...) from 1248 documents (total 69715 corpus positions)\n"
     ]
    }
   ],
   "source": [
    "dictionary = corpora.Dictionary(tokens for tokens in corpus)"
   ]
  },
  {
   "cell_type": "code",
   "execution_count": 7,
   "metadata": {},
   "outputs": [
    {
     "data": {
      "text/plain": [
       "2129"
      ]
     },
     "execution_count": 7,
     "metadata": {},
     "output_type": "execute_result"
    }
   ],
   "source": [
    "# thanks to the stemmer, butterfly is now misspelled\n",
    "dictionary.token2id['butterfly']"
   ]
  },
  {
   "cell_type": "code",
   "execution_count": 8,
   "metadata": {},
   "outputs": [],
   "source": [
    "tokened_corpus = [ dictionary.doc2bow(tokens) for tokens in corpus ]"
   ]
  },
  {
   "cell_type": "code",
   "execution_count": 9,
   "metadata": {},
   "outputs": [],
   "source": [
    "# Attempt LDA  - cranked the numer of passes up but the perplexity scores\n",
    "# do not decrease"
   ]
  },
  {
   "cell_type": "code",
   "execution_count": 10,
   "metadata": {},
   "outputs": [
    {
     "name": "stderr",
     "output_type": "stream",
     "text": [
      "2019-02-28 13:18:34,919 : INFO : using symmetric alpha at 0.05\n",
      "2019-02-28 13:18:34,920 : INFO : using symmetric eta at 0.05\n",
      "2019-02-28 13:18:34,922 : INFO : using serial LDA version on this node\n",
      "2019-02-28 13:18:34,938 : INFO : running online LDA training, 20 topics, 20 passes over the supplied corpus of 1248 documents, updating every 14000 documents, evaluating every ~1248 documents, iterating 50x with a convergence threshold of 0.001000\n",
      "2019-02-28 13:18:34,939 : INFO : training LDA model using 7 processes\n",
      "2019-02-28 13:18:34,981 : INFO : PROGRESS: pass 0, dispatched chunk #0 = documents up to #1248/1248, outstanding queue size 1\n",
      "2019-02-28 13:18:35,822 : INFO : topic #13 (0.050): 0.019*\"necessary\" + 0.018*\"remain\" + 0.017*\"include\" + 0.013*\"law\" + 0.012*\"appropriate\" + 0.012*\"carry\" + 0.011*\"head\" + 0.011*\"public\" + 0.011*\"year\" + 0.010*\"authorize\"\n",
      "2019-02-28 13:18:35,823 : INFO : topic #7 (0.050): 0.015*\"head\" + 0.014*\"law\" + 0.009*\"necessary\" + 0.009*\"project\" + 0.009*\"purpose\" + 0.009*\"transfer\" + 0.008*\"include\" + 0.008*\"secretary\" + 0.008*\"exceed\" + 0.007*\"remain\"\n",
      "2019-02-28 13:18:35,824 : INFO : topic #16 (0.050): 0.015*\"law\" + 0.012*\"housing\" + 0.012*\"year\" + 0.011*\"committee\" + 0.011*\"secretary\" + 0.011*\"authorize\" + 0.011*\"public\" + 0.010*\"include\" + 0.009*\"remain\" + 0.009*\"transfer\"\n",
      "2019-02-28 13:18:35,826 : INFO : topic #18 (0.050): 0.024*\"assistance\" + 0.016*\"appropriate\" + 0.016*\"head\" + 0.013*\"include\" + 0.012*\"law\" + 0.011*\"project\" + 0.010*\"remain\" + 0.010*\"authorize\" + 0.009*\"secretary\" + 0.009*\"contract\"\n",
      "2019-02-28 13:18:35,827 : INFO : topic #11 (0.050): 0.012*\"include\" + 0.012*\"secretary\" + 0.010*\"law\" + 0.009*\"appropriate\" + 0.009*\"public\" + 0.008*\"facility\" + 0.008*\"research\" + 0.008*\"year\" + 0.007*\"assistance\" + 0.007*\"necessary\"\n",
      "2019-02-28 13:18:35,828 : INFO : topic diff=10.454979, rho=1.000000\n",
      "2019-02-28 13:18:36,618 : INFO : -7.741 per-word bound, 214.0 perplexity estimate based on a held-out corpus of 1248 documents with 69715 words\n",
      "2019-02-28 13:18:36,619 : INFO : PROGRESS: pass 1, dispatched chunk #0 = documents up to #1248/1248, outstanding queue size 1\n",
      "2019-02-28 13:18:37,180 : INFO : topic #18 (0.050): 0.029*\"assistance\" + 0.020*\"appropriate\" + 0.018*\"head\" + 0.013*\"law\" + 0.013*\"include\" + 0.011*\"project\" + 0.011*\"foreign\" + 0.009*\"secretary\" + 0.009*\"contract\" + 0.009*\"committee\"\n",
      "2019-02-28 13:18:37,181 : INFO : topic #0 (0.050): 0.027*\"secretary\" + 0.023*\"housing\" + 0.021*\"assistance\" + 0.015*\"include\" + 0.013*\"public\" + 0.010*\"project\" + 0.010*\"appropriate\" + 0.009*\"year\" + 0.008*\"law\" + 0.007*\"committee\"\n",
      "2019-02-28 13:18:37,182 : INFO : topic #16 (0.050): 0.015*\"law\" + 0.014*\"committee\" + 0.013*\"authorize\" + 0.012*\"year\" + 0.011*\"fee\" + 0.011*\"house\" + 0.011*\"public\" + 0.010*\"secretary\" + 0.010*\"transfer\" + 0.010*\"remain\"\n",
      "2019-02-28 13:18:37,183 : INFO : topic #2 (0.050): 0.030*\"assistance\" + 0.020*\"foreign\" + 0.018*\"appropriate\" + 0.017*\"law\" + 0.013*\"secretary\" + 0.010*\"committee\" + 0.010*\"support\" + 0.009*\"report\" + 0.009*\"employee\" + 0.009*\"international\"\n",
      "2019-02-28 13:18:37,184 : INFO : topic #15 (0.050): 0.015*\"health\" + 0.012*\"law\" + 0.012*\"secretary\" + 0.011*\"housing\" + 0.011*\"year\" + 0.011*\"public\" + 0.010*\"development\" + 0.010*\"remain\" + 0.009*\"indian\" + 0.009*\"organization\"\n",
      "2019-02-28 13:18:37,185 : INFO : topic diff=1.517200, rho=0.617331\n",
      "2019-02-28 13:18:37,927 : INFO : -7.432 per-word bound, 172.6 perplexity estimate based on a held-out corpus of 1248 documents with 69715 words\n",
      "2019-02-28 13:18:37,928 : INFO : PROGRESS: pass 2, dispatched chunk #0 = documents up to #1248/1248, outstanding queue size 1\n",
      "2019-02-28 13:18:38,512 : INFO : topic #13 (0.050): 0.029*\"necessary\" + 0.026*\"remain\" + 0.019*\"include\" + 0.018*\"carry\" + 0.013*\"law\" + 0.013*\"inspector\" + 0.012*\"public\" + 0.012*\"authorize\" + 0.011*\"september\" + 0.011*\"year\"\n",
      "2019-02-28 13:18:38,513 : INFO : topic #6 (0.050): 0.023*\"secretary\" + 0.015*\"assistance\" + 0.013*\"security\" + 0.012*\"appropriate\" + 0.010*\"flood\" + 0.010*\"committee\" + 0.010*\"entity\" + 0.010*\"necessary\" + 0.008*\"include\" + 0.008*\"assistant\"\n",
      "2019-02-28 13:18:38,514 : INFO : topic #14 (0.050): 0.029*\"law\" + 0.026*\"public\" + 0.019*\"year\" + 0.013*\"exceed\" + 0.013*\"appropriate\" + 0.012*\"authorize\" + 0.010*\"remain\" + 0.009*\"include\" + 0.008*\"necessary\" + 0.008*\"security\"\n",
      "2019-02-28 13:18:38,514 : INFO : topic #18 (0.050): 0.032*\"assistance\" + 0.022*\"appropriate\" + 0.018*\"head\" + 0.014*\"law\" + 0.012*\"include\" + 0.012*\"foreign\" + 0.010*\"project\" + 0.010*\"support\" + 0.009*\"committee\" + 0.009*\"secretary\"\n",
      "2019-02-28 13:18:38,515 : INFO : topic #19 (0.050): 0.054*\"loan\" + 0.030*\"rural\" + 0.020*\"authorize\" + 0.016*\"direct\" + 0.015*\"transfer\" + 0.015*\"secretary\" + 0.015*\"development\" + 0.014*\"exceed\" + 0.012*\"assistance\" + 0.012*\"head\"\n",
      "2019-02-28 13:18:38,516 : INFO : topic diff=1.141840, rho=0.525298\n",
      "2019-02-28 13:18:39,267 : INFO : -7.286 per-word bound, 156.1 perplexity estimate based on a held-out corpus of 1248 documents with 69715 words\n",
      "2019-02-28 13:18:39,268 : INFO : PROGRESS: pass 3, dispatched chunk #0 = documents up to #1248/1248, outstanding queue size 1\n",
      "2019-02-28 13:18:39,806 : INFO : topic #17 (0.050): 0.020*\"committee\" + 0.017*\"appropriate\" + 0.015*\"year\" + 0.014*\"obligation\" + 0.013*\"secretary\" + 0.013*\"notification\" + 0.012*\"report\" + 0.011*\"include\" + 0.010*\"law\" + 0.009*\"pursuant\"\n",
      "2019-02-28 13:18:39,807 : INFO : topic #12 (0.050): 0.023*\"employee\" + 0.018*\"rate\" + 0.013*\"year\" + 0.012*\"forest\" + 0.012*\"assistance\" + 0.011*\"law\" + 0.011*\"school\" + 0.009*\"purpose\" + 0.009*\"bureau\" + 0.009*\"appropriate\"\n",
      "2019-02-28 13:18:39,808 : INFO : topic #14 (0.050): 0.032*\"law\" + 0.028*\"public\" + 0.020*\"year\" + 0.013*\"authorize\" + 0.013*\"exceed\" + 0.012*\"appropriate\" + 0.010*\"remain\" + 0.009*\"include\" + 0.008*\"necessary\" + 0.008*\"security\"\n",
      "2019-02-28 13:18:39,809 : INFO : topic #0 (0.050): 0.031*\"secretary\" + 0.031*\"housing\" + 0.024*\"assistance\" + 0.015*\"project\" + 0.014*\"include\" + 0.014*\"public\" + 0.009*\"paragraph\" + 0.008*\"year\" + 0.008*\"appropriate\" + 0.008*\"requirement\"\n",
      "2019-02-28 13:18:39,810 : INFO : topic #3 (0.050): 0.017*\"appropriate\" + 0.015*\"committee\" + 0.013*\"secretary\" + 0.012*\"year\" + 0.011*\"transfer\" + 0.010*\"international\" + 0.010*\"plan\" + 0.009*\"include\" + 0.008*\"prior\" + 0.008*\"law\"\n",
      "2019-02-28 13:18:39,811 : INFO : topic diff=0.857277, rho=0.465041\n",
      "2019-02-28 13:18:40,554 : INFO : -7.202 per-word bound, 147.2 perplexity estimate based on a held-out corpus of 1248 documents with 69715 words\n",
      "2019-02-28 13:18:40,554 : INFO : PROGRESS: pass 4, dispatched chunk #0 = documents up to #1248/1248, outstanding queue size 1\n",
      "2019-02-28 13:18:41,074 : INFO : topic #16 (0.050): 0.019*\"committee\" + 0.017*\"house\" + 0.015*\"senate\" + 0.014*\"authorize\" + 0.014*\"year\" + 0.013*\"fee\" + 0.013*\"transfer\" + 0.013*\"representative\" + 0.012*\"law\" + 0.011*\"security\"\n",
      "2019-02-28 13:18:41,075 : INFO : topic #13 (0.050): 0.032*\"necessary\" + 0.028*\"remain\" + 0.020*\"include\" + 0.020*\"carry\" + 0.014*\"inspector\" + 0.014*\"law\" + 0.013*\"public\" + 0.013*\"authorize\" + 0.012*\"september\" + 0.011*\"exceed\"\n",
      "2019-02-28 13:18:41,076 : INFO : topic #6 (0.050): 0.025*\"secretary\" + 0.015*\"security\" + 0.015*\"assistance\" + 0.013*\"flood\" + 0.011*\"entity\" + 0.011*\"appropriate\" + 0.010*\"assistant\" + 0.008*\"necessary\" + 0.008*\"committee\" + 0.007*\"include\"\n",
      "2019-02-28 13:18:41,077 : INFO : topic #15 (0.050): 0.026*\"health\" + 0.018*\"indian\" + 0.012*\"law\" + 0.011*\"year\" + 0.010*\"housing\" + 0.010*\"secretary\" + 0.010*\"public\" + 0.010*\"organization\" + 0.009*\"remain\" + 0.009*\"development\"\n",
      "2019-02-28 13:18:41,077 : INFO : topic #3 (0.050): 0.016*\"appropriate\" + 0.016*\"committee\" + 0.014*\"secretary\" + 0.012*\"year\" + 0.011*\"transfer\" + 0.011*\"international\" + 0.010*\"plan\" + 0.009*\"include\" + 0.009*\"report\" + 0.008*\"prior\"\n",
      "2019-02-28 13:18:41,078 : INFO : topic diff=0.644744, rho=0.421675\n",
      "2019-02-28 13:18:41,845 : INFO : -7.148 per-word bound, 141.8 perplexity estimate based on a held-out corpus of 1248 documents with 69715 words\n",
      "2019-02-28 13:18:41,845 : INFO : PROGRESS: pass 5, dispatched chunk #0 = documents up to #1248/1248, outstanding queue size 1\n",
      "2019-02-28 13:18:42,333 : INFO : topic #13 (0.050): 0.032*\"necessary\" + 0.028*\"remain\" + 0.021*\"include\" + 0.021*\"carry\" + 0.014*\"inspector\" + 0.014*\"law\" + 0.013*\"public\" + 0.013*\"authorize\" + 0.012*\"exceed\" + 0.012*\"september\"\n",
      "2019-02-28 13:18:42,334 : INFO : topic #16 (0.050): 0.021*\"committee\" + 0.019*\"house\" + 0.016*\"senate\" + 0.014*\"year\" + 0.014*\"fee\" + 0.014*\"transfer\" + 0.013*\"authorize\" + 0.013*\"representative\" + 0.012*\"law\" + 0.012*\"security\"\n",
      "2019-02-28 13:18:42,335 : INFO : topic #6 (0.050): 0.025*\"secretary\" + 0.016*\"security\" + 0.015*\"assistance\" + 0.014*\"flood\" + 0.011*\"entity\" + 0.011*\"assistant\" + 0.010*\"appropriate\" + 0.008*\"insurance\" + 0.007*\"export\" + 0.007*\"include\"\n",
      "2019-02-28 13:18:42,336 : INFO : topic #1 (0.050): 0.014*\"year\" + 0.013*\"rescind\" + 0.013*\"balance\" + 0.011*\"land\" + 0.010*\"include\" + 0.010*\"report\" + 0.009*\"unobligated\" + 0.008*\"immigration\" + 0.008*\"emergency\" + 0.008*\"project\"\n",
      "2019-02-28 13:18:42,336 : INFO : topic #3 (0.050): 0.016*\"committee\" + 0.016*\"appropriate\" + 0.014*\"secretary\" + 0.012*\"year\" + 0.011*\"transfer\" + 0.011*\"international\" + 0.011*\"plan\" + 0.010*\"include\" + 0.009*\"report\" + 0.008*\"authority\"\n",
      "2019-02-28 13:18:42,337 : INFO : topic diff=0.488686, rho=0.388544\n",
      "2019-02-28 13:18:43,079 : INFO : -7.111 per-word bound, 138.2 perplexity estimate based on a held-out corpus of 1248 documents with 69715 words\n",
      "2019-02-28 13:18:43,080 : INFO : PROGRESS: pass 6, dispatched chunk #0 = documents up to #1248/1248, outstanding queue size 1\n",
      "2019-02-28 13:18:43,590 : INFO : topic #7 (0.050): 0.023*\"forest\" + 0.018*\"head\" + 0.017*\"law\" + 0.013*\"project\" + 0.012*\"management\" + 0.012*\"entity\" + 0.011*\"enforcement\" + 0.011*\"area\" + 0.010*\"network\" + 0.010*\"use\"\n",
      "2019-02-28 13:18:43,591 : INFO : topic #6 (0.050): 0.026*\"secretary\" + 0.017*\"security\" + 0.015*\"assistance\" + 0.014*\"flood\" + 0.012*\"assistant\" + 0.011*\"entity\" + 0.010*\"appropriate\" + 0.008*\"insurance\" + 0.008*\"export\" + 0.007*\"include\"\n",
      "2019-02-28 13:18:43,592 : INFO : topic #8 (0.050): 0.025*\"authorize\" + 0.021*\"year\" + 0.020*\"necessary\" + 0.017*\"obligation\" + 0.017*\"columbia\" + 0.017*\"remain\" + 0.014*\"exceed\" + 0.014*\"vehicle\" + 0.014*\"highway\" + 0.014*\"official\"\n",
      "2019-02-28 13:18:43,593 : INFO : topic #16 (0.050): 0.022*\"committee\" + 0.020*\"house\" + 0.016*\"senate\" + 0.014*\"year\" + 0.014*\"transfer\" + 0.014*\"fee\" + 0.014*\"representative\" + 0.013*\"authorize\" + 0.012*\"security\" + 0.011*\"law\"\n",
      "2019-02-28 13:18:43,594 : INFO : topic #1 (0.050): 0.015*\"rescind\" + 0.015*\"balance\" + 0.014*\"year\" + 0.011*\"land\" + 0.010*\"unobligated\" + 0.010*\"include\" + 0.010*\"report\" + 0.009*\"immigration\" + 0.008*\"emergency\" + 0.008*\"project\"\n",
      "2019-02-28 13:18:43,595 : INFO : topic diff=0.374547, rho=0.362167\n",
      "2019-02-28 13:18:44,282 : INFO : -7.084 per-word bound, 135.6 perplexity estimate based on a held-out corpus of 1248 documents with 69715 words\n",
      "2019-02-28 13:18:44,283 : INFO : PROGRESS: pass 7, dispatched chunk #0 = documents up to #1248/1248, outstanding queue size 1\n",
      "2019-02-28 13:18:44,739 : INFO : topic #0 (0.050): 0.038*\"housing\" + 0.035*\"secretary\" + 0.025*\"assistance\" + 0.022*\"project\" + 0.015*\"public\" + 0.014*\"include\" + 0.010*\"contract\" + 0.009*\"paragraph\" + 0.009*\"head\" + 0.009*\"family\"\n",
      "2019-02-28 13:18:44,740 : INFO : topic #2 (0.050): 0.040*\"assistance\" + 0.026*\"foreign\" + 0.023*\"appropriate\" + 0.017*\"secretary\" + 0.016*\"law\" + 0.014*\"support\" + 0.014*\"report\" + 0.013*\"military\" + 0.012*\"committee\" + 0.012*\"international\"\n",
      "2019-02-28 13:18:44,741 : INFO : topic #9 (0.050): 0.020*\"contravention\" + 0.015*\"destruction\" + 0.014*\"public\" + 0.013*\"weapon\" + 0.013*\"law\" + 0.010*\"international\" + 0.010*\"mass\" + 0.009*\"commission\" + 0.009*\"class\" + 0.008*\"counter\"\n",
      "2019-02-28 13:18:44,742 : INFO : topic #17 (0.050): 0.023*\"committee\" + 0.019*\"appropriate\" + 0.015*\"report\" + 0.015*\"notification\" + 0.014*\"year\" + 0.014*\"obligation\" + 0.013*\"secretary\" + 0.012*\"include\" + 0.011*\"submit\" + 0.011*\"pursuant\"\n",
      "2019-02-28 13:18:44,743 : INFO : topic #6 (0.050): 0.026*\"secretary\" + 0.017*\"security\" + 0.015*\"assistance\" + 0.015*\"flood\" + 0.012*\"assistant\" + 0.012*\"entity\" + 0.010*\"appropriate\" + 0.008*\"insurance\" + 0.008*\"export\" + 0.007*\"commodity\"\n",
      "2019-02-28 13:18:44,744 : INFO : topic diff=0.291059, rho=0.340522\n",
      "2019-02-28 13:18:45,426 : INFO : -7.062 per-word bound, 133.7 perplexity estimate based on a held-out corpus of 1248 documents with 69715 words\n",
      "2019-02-28 13:18:45,426 : INFO : PROGRESS: pass 8, dispatched chunk #0 = documents up to #1248/1248, outstanding queue size 1\n",
      "2019-02-28 13:18:45,900 : INFO : topic #2 (0.050): 0.040*\"assistance\" + 0.026*\"foreign\" + 0.023*\"appropriate\" + 0.017*\"secretary\" + 0.016*\"law\" + 0.014*\"report\" + 0.014*\"support\" + 0.013*\"military\" + 0.012*\"committee\" + 0.012*\"international\"\n",
      "2019-02-28 13:18:45,901 : INFO : topic #5 (0.050): 0.022*\"inspector\" + 0.015*\"project\" + 0.012*\"law\" + 0.011*\"transfer\" + 0.010*\"airport\" + 0.010*\"control\" + 0.008*\"secretary\" + 0.007*\"russian\" + 0.007*\"authority\" + 0.007*\"surface\"\n",
      "2019-02-28 13:18:45,902 : INFO : topic #7 (0.050): 0.030*\"forest\" + 0.018*\"law\" + 0.017*\"head\" + 0.013*\"project\" + 0.012*\"management\" + 0.012*\"entity\" + 0.012*\"enforcement\" + 0.011*\"network\" + 0.011*\"area\" + 0.011*\"use\"\n",
      "2019-02-28 13:18:45,903 : INFO : topic #14 (0.050): 0.044*\"law\" + 0.037*\"public\" + 0.022*\"year\" + 0.019*\"authorize\" + 0.011*\"exceed\" + 0.011*\"remain\" + 0.010*\"child\" + 0.009*\"appropriate\" + 0.009*\"security\" + 0.008*\"justice\"\n",
      "2019-02-28 13:18:45,904 : INFO : topic #0 (0.050): 0.039*\"housing\" + 0.035*\"secretary\" + 0.026*\"assistance\" + 0.023*\"project\" + 0.016*\"public\" + 0.014*\"include\" + 0.011*\"contract\" + 0.010*\"head\" + 0.009*\"paragraph\" + 0.009*\"family\"\n",
      "2019-02-28 13:18:45,905 : INFO : topic diff=0.229992, rho=0.322346\n",
      "2019-02-28 13:18:46,578 : INFO : -7.046 per-word bound, 132.1 perplexity estimate based on a held-out corpus of 1248 documents with 69715 words\n",
      "2019-02-28 13:18:46,579 : INFO : PROGRESS: pass 9, dispatched chunk #0 = documents up to #1248/1248, outstanding queue size 1\n",
      "2019-02-28 13:18:47,040 : INFO : topic #6 (0.050): 0.026*\"secretary\" + 0.017*\"security\" + 0.015*\"flood\" + 0.015*\"assistance\" + 0.013*\"assistant\" + 0.012*\"entity\" + 0.010*\"appropriate\" + 0.009*\"insurance\" + 0.008*\"export\" + 0.007*\"commodity\"\n",
      "2019-02-28 13:18:47,041 : INFO : topic #18 (0.050): 0.039*\"assistance\" + 0.029*\"appropriate\" + 0.018*\"head\" + 0.017*\"foreign\" + 0.013*\"international\" + 0.013*\"include\" + 0.013*\"law\" + 0.013*\"committee\" + 0.013*\"support\" + 0.009*\"development\"\n",
      "2019-02-28 13:18:47,042 : INFO : topic #15 (0.050): 0.033*\"health\" + 0.032*\"indian\" + 0.012*\"law\" + 0.012*\"year\" + 0.010*\"organization\" + 0.009*\"contract\" + 0.009*\"public\" + 0.008*\"secretary\" + 0.008*\"remain\" + 0.008*\"housing\"\n",
      "2019-02-28 13:18:47,042 : INFO : topic #2 (0.050): 0.040*\"assistance\" + 0.026*\"foreign\" + 0.023*\"appropriate\" + 0.018*\"secretary\" + 0.016*\"law\" + 0.014*\"report\" + 0.014*\"support\" + 0.013*\"military\" + 0.012*\"committee\" + 0.012*\"international\"\n",
      "2019-02-28 13:18:47,043 : INFO : topic #7 (0.050): 0.033*\"forest\" + 0.018*\"law\" + 0.016*\"head\" + 0.013*\"project\" + 0.012*\"management\" + 0.012*\"entity\" + 0.012*\"enforcement\" + 0.011*\"network\" + 0.011*\"use\" + 0.011*\"area\"\n",
      "2019-02-28 13:18:47,044 : INFO : topic diff=0.184937, rho=0.306800\n",
      "2019-02-28 13:18:47,732 : INFO : -7.033 per-word bound, 130.9 perplexity estimate based on a held-out corpus of 1248 documents with 69715 words\n",
      "2019-02-28 13:18:47,733 : INFO : PROGRESS: pass 10, dispatched chunk #0 = documents up to #1248/1248, outstanding queue size 1\n",
      "2019-02-28 13:18:48,196 : INFO : topic #0 (0.050): 0.040*\"housing\" + 0.036*\"secretary\" + 0.026*\"assistance\" + 0.025*\"project\" + 0.016*\"public\" + 0.013*\"include\" + 0.011*\"contract\" + 0.011*\"head\" + 0.009*\"paragraph\" + 0.009*\"family\"\n",
      "2019-02-28 13:18:48,197 : INFO : topic #11 (0.050): 0.016*\"facility\" + 0.015*\"agreement\" + 0.014*\"land\" + 0.014*\"secretary\" + 0.013*\"management\" + 0.012*\"research\" + 0.011*\"bureau\" + 0.011*\"use\" + 0.010*\"contract\" + 0.010*\"cooperative\"\n",
      "2019-02-28 13:18:48,197 : INFO : topic #2 (0.050): 0.040*\"assistance\" + 0.026*\"foreign\" + 0.023*\"appropriate\" + 0.018*\"secretary\" + 0.016*\"law\" + 0.015*\"report\" + 0.014*\"support\" + 0.013*\"military\" + 0.012*\"committee\" + 0.012*\"international\"\n",
      "2019-02-28 13:18:48,198 : INFO : topic #12 (0.050): 0.034*\"employee\" + 0.026*\"rate\" + 0.015*\"year\" + 0.013*\"school\" + 0.011*\"law\" + 0.010*\"position\" + 0.010*\"bureau\" + 0.009*\"purpose\" + 0.009*\"executive\" + 0.008*\"applicable\"\n",
      "2019-02-28 13:18:48,199 : INFO : topic #6 (0.050): 0.026*\"secretary\" + 0.018*\"security\" + 0.016*\"flood\" + 0.015*\"assistance\" + 0.013*\"assistant\" + 0.012*\"entity\" + 0.010*\"appropriate\" + 0.009*\"insurance\" + 0.008*\"export\" + 0.008*\"commodity\"\n",
      "2019-02-28 13:18:48,200 : INFO : topic diff=0.151364, rho=0.293307\n",
      "2019-02-28 13:18:48,857 : INFO : -7.021 per-word bound, 129.9 perplexity estimate based on a held-out corpus of 1248 documents with 69715 words\n",
      "2019-02-28 13:18:48,859 : INFO : PROGRESS: pass 11, dispatched chunk #0 = documents up to #1248/1248, outstanding queue size 1\n",
      "2019-02-28 13:18:49,357 : INFO : topic #18 (0.050): 0.040*\"assistance\" + 0.030*\"appropriate\" + 0.018*\"head\" + 0.018*\"foreign\" + 0.014*\"international\" + 0.014*\"committee\" + 0.013*\"include\" + 0.013*\"support\" + 0.013*\"law\" + 0.009*\"development\"\n",
      "2019-02-28 13:18:49,358 : INFO : topic #13 (0.050): 0.034*\"necessary\" + 0.029*\"remain\" + 0.022*\"carry\" + 0.021*\"include\" + 0.015*\"law\" + 0.014*\"inspector\" + 0.014*\"public\" + 0.014*\"authorize\" + 0.013*\"exceed\" + 0.012*\"pursuant\"\n",
      "2019-02-28 13:18:49,359 : INFO : topic #19 (0.050): 0.081*\"loan\" + 0.044*\"rural\" + 0.023*\"development\" + 0.023*\"authorize\" + 0.022*\"direct\" + 0.020*\"guarantee\" + 0.017*\"farm\" + 0.015*\"exceed\" + 0.013*\"remain\" + 0.013*\"housing\"\n",
      "2019-02-28 13:18:49,361 : INFO : topic #12 (0.050): 0.035*\"employee\" + 0.026*\"rate\" + 0.015*\"year\" + 0.013*\"school\" + 0.011*\"law\" + 0.010*\"position\" + 0.010*\"bureau\" + 0.010*\"executive\" + 0.009*\"purpose\" + 0.008*\"applicable\"\n",
      "2019-02-28 13:18:49,362 : INFO : topic #17 (0.050): 0.023*\"committee\" + 0.019*\"appropriate\" + 0.018*\"report\" + 0.015*\"notification\" + 0.015*\"year\" + 0.014*\"obligation\" + 0.013*\"secretary\" + 0.013*\"include\" + 0.012*\"submit\" + 0.012*\"pursuant\"\n",
      "2019-02-28 13:18:49,363 : INFO : topic diff=0.125846, rho=0.281450\n",
      "2019-02-28 13:18:50,089 : INFO : -7.012 per-word bound, 129.0 perplexity estimate based on a held-out corpus of 1248 documents with 69715 words\n",
      "2019-02-28 13:18:50,090 : INFO : PROGRESS: pass 12, dispatched chunk #0 = documents up to #1248/1248, outstanding queue size 1\n",
      "2019-02-28 13:18:50,616 : INFO : topic #12 (0.050): 0.036*\"employee\" + 0.027*\"rate\" + 0.015*\"year\" + 0.013*\"school\" + 0.011*\"law\" + 0.010*\"position\" + 0.010*\"bureau\" + 0.010*\"executive\" + 0.009*\"purpose\" + 0.009*\"applicable\"\n",
      "2019-02-28 13:18:50,617 : INFO : topic #10 (0.050): 0.045*\"remain\" + 0.039*\"necessary\" + 0.031*\"exceed\" + 0.021*\"september\" + 0.021*\"authorize\" + 0.018*\"representation\" + 0.017*\"include\" + 0.015*\"reception\" + 0.015*\"law\" + 0.015*\"support\"\n",
      "2019-02-28 13:18:50,618 : INFO : topic #7 (0.050): 0.041*\"forest\" + 0.018*\"law\" + 0.015*\"head\" + 0.013*\"project\" + 0.012*\"management\" + 0.012*\"entity\" + 0.012*\"network\" + 0.012*\"enforcement\" + 0.012*\"use\" + 0.011*\"area\"\n",
      "2019-02-28 13:18:50,619 : INFO : topic #19 (0.050): 0.082*\"loan\" + 0.045*\"rural\" + 0.023*\"development\" + 0.023*\"authorize\" + 0.023*\"direct\" + 0.021*\"guarantee\" + 0.017*\"farm\" + 0.015*\"exceed\" + 0.013*\"remain\" + 0.013*\"community\"\n",
      "2019-02-28 13:18:50,620 : INFO : topic #13 (0.050): 0.034*\"necessary\" + 0.029*\"remain\" + 0.022*\"carry\" + 0.021*\"include\" + 0.015*\"law\" + 0.014*\"inspector\" + 0.014*\"public\" + 0.014*\"authorize\" + 0.013*\"exceed\" + 0.012*\"pursuant\"\n",
      "2019-02-28 13:18:50,621 : INFO : topic diff=0.106176, rho=0.270924\n",
      "2019-02-28 13:18:51,336 : INFO : -7.003 per-word bound, 128.3 perplexity estimate based on a held-out corpus of 1248 documents with 69715 words\n",
      "2019-02-28 13:18:51,337 : INFO : PROGRESS: pass 13, dispatched chunk #0 = documents up to #1248/1248, outstanding queue size 1\n",
      "2019-02-28 13:18:51,811 : INFO : topic #2 (0.050): 0.041*\"assistance\" + 0.026*\"foreign\" + 0.023*\"appropriate\" + 0.019*\"secretary\" + 0.016*\"law\" + 0.015*\"report\" + 0.015*\"support\" + 0.013*\"military\" + 0.013*\"committee\" + 0.012*\"international\"\n",
      "2019-02-28 13:18:51,812 : INFO : topic #11 (0.050): 0.017*\"agreement\" + 0.016*\"facility\" + 0.016*\"land\" + 0.014*\"secretary\" + 0.013*\"management\" + 0.012*\"research\" + 0.011*\"bureau\" + 0.011*\"contract\" + 0.011*\"use\" + 0.011*\"cooperative\"\n",
      "2019-02-28 13:18:51,813 : INFO : topic #7 (0.050): 0.043*\"forest\" + 0.018*\"law\" + 0.014*\"head\" + 0.013*\"project\" + 0.012*\"management\" + 0.012*\"network\" + 0.012*\"entity\" + 0.012*\"enforcement\" + 0.012*\"use\" + 0.011*\"area\"\n",
      "2019-02-28 13:18:51,814 : INFO : topic #6 (0.050): 0.026*\"secretary\" + 0.018*\"security\" + 0.016*\"flood\" + 0.016*\"assistance\" + 0.014*\"assistant\" + 0.012*\"entity\" + 0.010*\"appropriate\" + 0.009*\"insurance\" + 0.009*\"export\" + 0.008*\"commodity\"\n",
      "2019-02-28 13:18:51,814 : INFO : topic #17 (0.050): 0.023*\"committee\" + 0.020*\"appropriate\" + 0.018*\"report\" + 0.015*\"year\" + 0.015*\"notification\" + 0.014*\"obligation\" + 0.013*\"secretary\" + 0.013*\"include\" + 0.012*\"submit\" + 0.012*\"pursuant\"\n",
      "2019-02-28 13:18:51,815 : INFO : topic diff=0.090820, rho=0.261497\n",
      "2019-02-28 13:18:52,516 : INFO : -6.996 per-word bound, 127.6 perplexity estimate based on a held-out corpus of 1248 documents with 69715 words\n",
      "2019-02-28 13:18:52,517 : INFO : PROGRESS: pass 14, dispatched chunk #0 = documents up to #1248/1248, outstanding queue size 1\n",
      "2019-02-28 13:18:53,010 : INFO : topic #11 (0.050): 0.017*\"agreement\" + 0.016*\"facility\" + 0.016*\"land\" + 0.014*\"secretary\" + 0.013*\"management\" + 0.012*\"research\" + 0.011*\"contract\" + 0.011*\"bureau\" + 0.011*\"use\" + 0.011*\"cooperative\"\n",
      "2019-02-28 13:18:53,011 : INFO : topic #13 (0.050): 0.034*\"necessary\" + 0.029*\"remain\" + 0.022*\"carry\" + 0.021*\"include\" + 0.015*\"law\" + 0.015*\"inspector\" + 0.014*\"public\" + 0.014*\"authorize\" + 0.013*\"exceed\" + 0.012*\"pursuant\"\n",
      "2019-02-28 13:18:53,012 : INFO : topic #8 (0.050): 0.026*\"authorize\" + 0.024*\"year\" + 0.020*\"obligation\" + 0.019*\"columbia\" + 0.019*\"necessary\" + 0.017*\"vehicle\" + 0.017*\"highway\" + 0.016*\"remain\" + 0.014*\"motor\" + 0.013*\"transportation\"\n",
      "2019-02-28 13:18:53,013 : INFO : topic #12 (0.050): 0.038*\"employee\" + 0.027*\"rate\" + 0.015*\"year\" + 0.013*\"school\" + 0.011*\"law\" + 0.011*\"position\" + 0.010*\"executive\" + 0.010*\"bureau\" + 0.010*\"purpose\" + 0.009*\"applicable\"\n",
      "2019-02-28 13:18:53,014 : INFO : topic #2 (0.050): 0.041*\"assistance\" + 0.026*\"foreign\" + 0.023*\"appropriate\" + 0.020*\"secretary\" + 0.016*\"law\" + 0.015*\"report\" + 0.015*\"support\" + 0.013*\"military\" + 0.013*\"committee\" + 0.012*\"international\"\n",
      "2019-02-28 13:18:53,015 : INFO : topic diff=0.078585, rho=0.252990\n",
      "2019-02-28 13:18:53,737 : INFO : -6.990 per-word bound, 127.1 perplexity estimate based on a held-out corpus of 1248 documents with 69715 words\n",
      "2019-02-28 13:18:53,738 : INFO : PROGRESS: pass 15, dispatched chunk #0 = documents up to #1248/1248, outstanding queue size 1\n",
      "2019-02-28 13:18:54,231 : INFO : topic #1 (0.050): 0.026*\"balance\" + 0.020*\"rescind\" + 0.016*\"unobligated\" + 0.016*\"year\" + 0.012*\"immigration\" + 0.011*\"emergency\" + 0.010*\"bank\" + 0.010*\"report\" + 0.010*\"include\" + 0.009*\"land\"\n",
      "2019-02-28 13:18:54,232 : INFO : topic #2 (0.050): 0.041*\"assistance\" + 0.026*\"foreign\" + 0.023*\"appropriate\" + 0.020*\"secretary\" + 0.016*\"law\" + 0.016*\"report\" + 0.015*\"support\" + 0.013*\"military\" + 0.013*\"committee\" + 0.012*\"international\"\n",
      "2019-02-28 13:18:54,233 : INFO : topic #3 (0.050): 0.017*\"secretary\" + 0.016*\"committee\" + 0.014*\"appropriate\" + 0.013*\"executive\" + 0.013*\"plan\" + 0.012*\"year\" + 0.012*\"nations\" + 0.011*\"include\" + 0.010*\"capital\" + 0.010*\"international\"\n",
      "2019-02-28 13:18:54,234 : INFO : topic #7 (0.050): 0.046*\"forest\" + 0.018*\"law\" + 0.014*\"head\" + 0.013*\"project\" + 0.013*\"network\" + 0.013*\"management\" + 0.012*\"entity\" + 0.012*\"use\" + 0.012*\"enforcement\" + 0.011*\"area\"\n",
      "2019-02-28 13:18:54,235 : INFO : topic #17 (0.050): 0.023*\"committee\" + 0.020*\"appropriate\" + 0.019*\"report\" + 0.015*\"year\" + 0.015*\"notification\" + 0.014*\"obligation\" + 0.013*\"include\" + 0.013*\"secretary\" + 0.013*\"submit\" + 0.012*\"pursuant\"\n",
      "2019-02-28 13:18:54,236 : INFO : topic diff=0.068695, rho=0.245263\n",
      "2019-02-28 13:18:54,909 : INFO : -6.984 per-word bound, 126.6 perplexity estimate based on a held-out corpus of 1248 documents with 69715 words\n",
      "2019-02-28 13:18:54,910 : INFO : PROGRESS: pass 16, dispatched chunk #0 = documents up to #1248/1248, outstanding queue size 1\n",
      "2019-02-28 13:18:55,353 : INFO : topic #14 (0.050): 0.053*\"law\" + 0.044*\"public\" + 0.022*\"authorize\" + 0.022*\"year\" + 0.011*\"child\" + 0.011*\"justice\" + 0.011*\"enforcement\" + 0.010*\"remain\" + 0.009*\"amend\" + 0.009*\"security\"\n",
      "2019-02-28 13:18:55,354 : INFO : topic #6 (0.050): 0.026*\"secretary\" + 0.018*\"security\" + 0.016*\"flood\" + 0.016*\"assistance\" + 0.014*\"assistant\" + 0.013*\"entity\" + 0.010*\"insurance\" + 0.009*\"appropriate\" + 0.009*\"export\" + 0.008*\"revenue\"\n",
      "2019-02-28 13:18:55,355 : INFO : topic #13 (0.050): 0.034*\"necessary\" + 0.030*\"remain\" + 0.022*\"carry\" + 0.021*\"include\" + 0.015*\"law\" + 0.015*\"public\" + 0.015*\"inspector\" + 0.014*\"authorize\" + 0.013*\"exceed\" + 0.012*\"pursuant\"\n",
      "2019-02-28 13:18:55,355 : INFO : topic #17 (0.050): 0.023*\"committee\" + 0.020*\"appropriate\" + 0.019*\"report\" + 0.016*\"year\" + 0.015*\"notification\" + 0.014*\"obligation\" + 0.013*\"include\" + 0.013*\"submit\" + 0.013*\"secretary\" + 0.012*\"pursuant\"\n",
      "2019-02-28 13:18:55,357 : INFO : topic #16 (0.050): 0.027*\"committee\" + 0.025*\"house\" + 0.019*\"senate\" + 0.016*\"transfer\" + 0.015*\"representative\" + 0.014*\"year\" + 0.013*\"fee\" + 0.013*\"security\" + 0.013*\"information\" + 0.012*\"secretary\"\n",
      "2019-02-28 13:18:55,358 : INFO : topic diff=0.060719, rho=0.238203\n",
      "2019-02-28 13:18:56,018 : INFO : -6.978 per-word bound, 126.1 perplexity estimate based on a held-out corpus of 1248 documents with 69715 words\n",
      "2019-02-28 13:18:56,019 : INFO : PROGRESS: pass 17, dispatched chunk #0 = documents up to #1248/1248, outstanding queue size 1\n",
      "2019-02-28 13:18:56,495 : INFO : topic #4 (0.050): 0.034*\"water\" + 0.018*\"public\" + 0.015*\"control\" + 0.015*\"designate\" + 0.013*\"percent\" + 0.013*\"include\" + 0.012*\"project\" + 0.010*\"additional\" + 0.009*\"construction\" + 0.009*\"pursuant\"\n",
      "2019-02-28 13:18:56,496 : INFO : topic #8 (0.050): 0.026*\"authorize\" + 0.024*\"year\" + 0.021*\"obligation\" + 0.020*\"columbia\" + 0.018*\"necessary\" + 0.017*\"vehicle\" + 0.017*\"highway\" + 0.015*\"remain\" + 0.014*\"transportation\" + 0.014*\"motor\"\n",
      "2019-02-28 13:18:56,497 : INFO : topic #6 (0.050): 0.026*\"secretary\" + 0.018*\"security\" + 0.016*\"flood\" + 0.016*\"assistance\" + 0.014*\"assistant\" + 0.013*\"entity\" + 0.010*\"insurance\" + 0.009*\"appropriate\" + 0.009*\"export\" + 0.009*\"revenue\"\n",
      "2019-02-28 13:18:56,499 : INFO : topic #19 (0.050): 0.084*\"loan\" + 0.047*\"rural\" + 0.024*\"development\" + 0.023*\"authorize\" + 0.023*\"direct\" + 0.022*\"guarantee\" + 0.018*\"farm\" + 0.015*\"exceed\" + 0.014*\"credit\" + 0.014*\"remain\"\n",
      "2019-02-28 13:18:56,500 : INFO : topic #10 (0.050): 0.046*\"remain\" + 0.041*\"necessary\" + 0.034*\"exceed\" + 0.022*\"authorize\" + 0.022*\"september\" + 0.020*\"representation\" + 0.019*\"include\" + 0.016*\"reception\" + 0.016*\"official\" + 0.016*\"support\"\n",
      "2019-02-28 13:18:56,501 : INFO : topic diff=0.054007, rho=0.231720\n",
      "2019-02-28 13:18:57,204 : INFO : -6.974 per-word bound, 125.7 perplexity estimate based on a held-out corpus of 1248 documents with 69715 words\n",
      "2019-02-28 13:18:57,205 : INFO : PROGRESS: pass 18, dispatched chunk #0 = documents up to #1248/1248, outstanding queue size 1\n",
      "2019-02-28 13:18:57,669 : INFO : topic #5 (0.050): 0.024*\"inspector\" + 0.015*\"airport\" + 0.012*\"law\" + 0.012*\"transfer\" + 0.011*\"control\" + 0.011*\"corporation\" + 0.010*\"project\" + 0.008*\"authority\" + 0.008*\"russian\" + 0.008*\"territory\"\n",
      "2019-02-28 13:18:57,670 : INFO : topic #10 (0.050): 0.046*\"remain\" + 0.042*\"necessary\" + 0.034*\"exceed\" + 0.022*\"authorize\" + 0.022*\"september\" + 0.020*\"representation\" + 0.019*\"include\" + 0.017*\"reception\" + 0.016*\"official\" + 0.016*\"support\"\n",
      "2019-02-28 13:18:57,671 : INFO : topic #0 (0.050): 0.043*\"housing\" + 0.038*\"secretary\" + 0.029*\"project\" + 0.027*\"assistance\" + 0.017*\"public\" + 0.014*\"head\" + 0.013*\"include\" + 0.012*\"contract\" + 0.010*\"requirement\" + 0.010*\"family\"\n",
      "2019-02-28 13:18:57,672 : INFO : topic #13 (0.050): 0.034*\"necessary\" + 0.030*\"remain\" + 0.022*\"carry\" + 0.021*\"include\" + 0.016*\"law\" + 0.015*\"public\" + 0.015*\"inspector\" + 0.014*\"authorize\" + 0.013*\"exceed\" + 0.012*\"year\"\n",
      "2019-02-28 13:18:57,673 : INFO : topic #12 (0.050): 0.042*\"employee\" + 0.028*\"rate\" + 0.015*\"year\" + 0.013*\"school\" + 0.011*\"law\" + 0.011*\"position\" + 0.010*\"executive\" + 0.010*\"bureau\" + 0.010*\"purpose\" + 0.009*\"applicable\"\n",
      "2019-02-28 13:18:57,674 : INFO : topic diff=0.048327, rho=0.225739\n",
      "2019-02-28 13:18:58,347 : INFO : -6.969 per-word bound, 125.3 perplexity estimate based on a held-out corpus of 1248 documents with 69715 words\n",
      "2019-02-28 13:18:58,348 : INFO : PROGRESS: pass 19, dispatched chunk #0 = documents up to #1248/1248, outstanding queue size 1\n",
      "2019-02-28 13:18:58,823 : INFO : topic #6 (0.050): 0.026*\"secretary\" + 0.018*\"security\" + 0.016*\"flood\" + 0.016*\"assistance\" + 0.014*\"assistant\" + 0.013*\"entity\" + 0.010*\"insurance\" + 0.009*\"revenue\" + 0.009*\"appropriate\" + 0.009*\"export\"\n",
      "2019-02-28 13:18:58,825 : INFO : topic #2 (0.050): 0.041*\"assistance\" + 0.026*\"foreign\" + 0.023*\"appropriate\" + 0.021*\"secretary\" + 0.016*\"report\" + 0.016*\"law\" + 0.016*\"support\" + 0.013*\"military\" + 0.013*\"committee\" + 0.013*\"international\"\n",
      "2019-02-28 13:18:58,825 : INFO : topic #1 (0.050): 0.029*\"balance\" + 0.021*\"rescind\" + 0.018*\"unobligated\" + 0.016*\"year\" + 0.013*\"immigration\" + 0.012*\"emergency\" + 0.010*\"bank\" + 0.010*\"report\" + 0.010*\"include\" + 0.009*\"land\"\n",
      "2019-02-28 13:18:58,826 : INFO : topic #16 (0.050): 0.028*\"committee\" + 0.025*\"house\" + 0.019*\"senate\" + 0.016*\"transfer\" + 0.015*\"representative\" + 0.014*\"year\" + 0.013*\"security\" + 0.013*\"information\" + 0.013*\"fee\" + 0.012*\"secretary\"\n",
      "2019-02-28 13:18:58,827 : INFO : topic #17 (0.050): 0.023*\"committee\" + 0.020*\"appropriate\" + 0.020*\"report\" + 0.016*\"year\" + 0.015*\"notification\" + 0.014*\"obligation\" + 0.013*\"include\" + 0.013*\"submit\" + 0.013*\"pursuant\" + 0.013*\"secretary\"\n",
      "2019-02-28 13:18:58,828 : INFO : topic diff=0.043633, rho=0.220198\n",
      "2019-02-28 13:18:59,551 : INFO : -6.965 per-word bound, 125.0 perplexity estimate based on a held-out corpus of 1248 documents with 69715 words\n"
     ]
    }
   ],
   "source": [
    "lda = LdaMulticore(tokened_corpus, id2word=dictionary, passes=20, num_topics=20)"
   ]
  },
  {
   "cell_type": "code",
   "execution_count": 13,
   "metadata": {},
   "outputs": [],
   "source": [
    "datapath =  Path('../data')\n",
    "filepath = str(datapath / 'lda.model')"
   ]
  },
  {
   "cell_type": "code",
   "execution_count": 14,
   "metadata": {},
   "outputs": [
    {
     "name": "stderr",
     "output_type": "stream",
     "text": [
      "2019-02-28 13:19:28,687 : INFO : saving LdaState object under ../data/lda.model.state, separately None\n",
      "2019-02-28 13:19:28,691 : INFO : saved ../data/lda.model.state\n",
      "2019-02-28 13:19:28,695 : INFO : saving LdaMulticore object under ../data/lda.model, separately ['expElogbeta', 'sstats']\n",
      "2019-02-28 13:19:28,696 : INFO : storing np array 'expElogbeta' to ../data/lda.model.expElogbeta.npy\n",
      "2019-02-28 13:19:28,699 : INFO : not storing attribute state\n",
      "2019-02-28 13:19:28,700 : INFO : not storing attribute id2word\n",
      "2019-02-28 13:19:28,700 : INFO : not storing attribute dispatcher\n",
      "2019-02-28 13:19:28,702 : INFO : saved ../data/lda.model\n"
     ]
    }
   ],
   "source": [
    "lda.save(filepath)"
   ]
  },
  {
   "cell_type": "code",
   "execution_count": 15,
   "metadata": {},
   "outputs": [],
   "source": [
    "# When a term only appears once, LDA cannot assign it to a topic"
   ]
  },
  {
   "cell_type": "code",
   "execution_count": 16,
   "metadata": {},
   "outputs": [
    {
     "data": {
      "text/plain": [
       "2129"
      ]
     },
     "execution_count": 16,
     "metadata": {},
     "output_type": "execute_result"
    }
   ],
   "source": [
    "dictionary.token2id['butterfly']"
   ]
  },
  {
   "cell_type": "code",
   "execution_count": 17,
   "metadata": {},
   "outputs": [
    {
     "data": {
      "text/plain": [
       "[]"
      ]
     },
     "execution_count": 17,
     "metadata": {},
     "output_type": "execute_result"
    }
   ],
   "source": [
    "lda.get_term_topics(2129)"
   ]
  },
  {
   "cell_type": "code",
   "execution_count": 18,
   "metadata": {},
   "outputs": [],
   "source": [
    "# But we can see what the model did with the butterfly document as whole"
   ]
  },
  {
   "cell_type": "code",
   "execution_count": 19,
   "metadata": {},
   "outputs": [
    {
     "data": {
      "text/plain": [
       "[(13, 0.9693548)]"
      ]
     },
     "execution_count": 19,
     "metadata": {},
     "output_type": "execute_result"
    }
   ],
   "source": [
    "lda.get_document_topics(tokened_corpus[234] )"
   ]
  },
  {
   "cell_type": "code",
   "execution_count": 21,
   "metadata": {},
   "outputs": [
    {
     "name": "stdout",
     "output_type": "stream",
     "text": [
      "necessary 0.033961415\n",
      "remain 0.029824775\n",
      "carry 0.021809978\n",
      "include 0.021231653\n",
      "law 0.01578866\n",
      "public 0.01504455\n",
      "inspector 0.014662895\n",
      "authorize 0.014362977\n",
      "exceed 0.013320975\n",
      "year 0.012662586\n"
     ]
    }
   ],
   "source": [
    "for term, prob in lda.get_topic_terms(13):\n",
    "    print( dictionary.id2token[term], prob ) "
   ]
  },
  {
   "cell_type": "code",
   "execution_count": 22,
   "metadata": {},
   "outputs": [],
   "source": [
    "# what else wound up in topic 13? "
   ]
  },
  {
   "cell_type": "code",
   "execution_count": 23,
   "metadata": {},
   "outputs": [],
   "source": [
    "all_topics = [ lda.get_document_topics(doc) for doc in tokened_corpus ] "
   ]
  },
  {
   "cell_type": "code",
   "execution_count": 24,
   "metadata": {},
   "outputs": [],
   "source": [
    "topic_docs = []\n",
    "for idx, cat in enumerate(all_topics):\n",
    "    for weights in cat:\n",
    "        if weights[0] == 13 and weights[1] > .50:\n",
    "            topic_docs.append((idx, cat))\n",
    "            "
   ]
  },
  {
   "cell_type": "code",
   "execution_count": 25,
   "metadata": {},
   "outputs": [
    {
     "data": {
      "text/plain": [
       "95"
      ]
     },
     "execution_count": 25,
     "metadata": {},
     "output_type": "execute_result"
    }
   ],
   "source": [
    "len(topic_docs)"
   ]
  },
  {
   "cell_type": "code",
   "execution_count": 27,
   "metadata": {},
   "outputs": [],
   "source": [
    "# What else got clustered with the butterflies? \n",
    "# print a sampling"
   ]
  },
  {
   "cell_type": "code",
   "execution_count": 30,
   "metadata": {},
   "outputs": [
    {
     "name": "stdout",
     "output_type": "stream",
     "text": [
      "--- 0.71291846 ---\n",
      "For necessary expenses of the Office of Inspector General in carrying out the provisions of the Inspector General Reform Act of 2008, Public Law 110–409 , 122 Stat. 4302–16 (2008), and the Inspector General Act of 1978 (5 U.S.C. App.), and for the hire of passenger motor vehicles, $4,823,000.\n",
      "\n",
      "--- 0.6044413 ---\n",
      "For necessary expenses for protection, use, improvement, development, disposal, cadastral surveying, classification, acquisition of easements and other interests in lands, and performance of other functions, including maintenance of facilities, as authorized by law, in the management of lands and their resources under the jurisdiction of the Bureau of Land Management, including the general administration of the Bureau, and assessment of mineral potential of public lands pursuant to section 1010(\n",
      "\n",
      "--- 0.6354518 ---\n",
      "For necessary expenses of the Council of Economic Advisers in carrying out its functions under the Employment Act of 1946 ( 15 U.S.C. 1021 et seq.), $4,187,000.\n",
      "\n",
      "--- 0.50787306 ---\n",
      "For necessary expenses of the Federal Communications Commission, as authorized by law, including uniforms and allowances therefor, as authorized by 5 U.S.C. 5901–5902 ; not to exceed $4,000 for official reception and representation expenses; purchase and hire of motor vehicles; special counsel fees; and services as authorized by 5 U.S.C. 3109 , $339,000,000, to remain available until expended: Provided , That $339,000,000 of offsetting collections shall be assessed and collected pursuant to sect\n",
      "\n",
      "--- 0.68333334 ---\n",
      "For necessary expenses of the Office of Budget and Program Analysis, $9,525,000.\n",
      "\n",
      "--- 0.6218054 ---\n",
      "For necessary expenses of the Office of Inspector General in carrying out the provisions of the Inspector General Act of 1978, $37,044,000, including hire of passenger motor vehicles; of which not to exceed $100,000 shall be available for unforeseen emergencies of a confidential nature, to be allocated and expended under the direction of the Inspector General of the Treasury; of which up to $2,800,000 to remain available until September 30, 2020, shall be for audits and investigations conducted \n",
      "\n",
      "--- 0.73783416 ---\n",
      "For necessary expenses of the Surface Transportation Board, including services authorized by 5 U.S.C. 3109 , $37,100,000: Provided , That notwithstanding any other provision of law, not to exceed $1,250,000 from fees established by the Chairman of the Surface Transportation Board shall be credited to this appropriation as offsetting collections and used for necessary and authorized expenses under this heading: Provided further , That the sum herein appropriated from the general fund shall be red\n",
      "\n",
      "--- 0.5658983 ---\n",
      "For necessary expenses as authorized by the National Manufactured Housing Construction and Safety Standards Act of 1974 ( 42 U.S.C. 5401 et seq.), up to $12,000,000, to remain available until expended, of which $12,000,000 is to be derived from the Manufactured Housing Fees Trust Fund: Provided , That not to exceed the total amount appropriated under this heading shall be available from the general fund of the Treasury to the extent necessary to incur obligations and make expenditures pending th\n",
      "\n",
      "--- 0.75577 ---\n",
      "For necessary expenses to carry out the provisions of the Peace Corps Act ( 22 U.S.C. 2501 et seq.), including the purchase of not to exceed five passenger motor vehicles for administrative purposes for use outside of the United States, $410,500,000, of which $6,000,000 is for the Office of Inspector General, to remain available until September 30, 2020: Provided , That the Director of the Peace Corps may transfer to the Foreign Currency Fluctuations Account, as authorized by section 16 of the P\n",
      "\n",
      "--- 0.5281232 ---\n",
      "For expenses necessary to carry out recreation programs, natural programs, cultural programs, heritage partnership programs, environmental compliance and review, international park affairs, and grant administration, not otherwise provided for, $64,138,000.\n",
      "\n",
      "--- 0.95681816 ---\n",
      "For expenses necessary to carry out chapter 2003 of title 54, United States Code, including administrative expenses, and for acquisition of lands or waters, or interest therein, in accordance with the statutory authority applicable to the National Park Service, $168,444,000, to be derived from the Land and Water Conservation Fund and to remain available until expended, of which $124,006,000 is for the State assistance program and of which $10,000,000 shall be for the American Battlefield Protect\n",
      "\n",
      "--- 0.58638805 ---\n",
      "202.None of the funds appropriated by this title shall be available to pay for an abortion, except where the life of the mother would be endangered if the fetus were carried to term, or in the case of rape or incest: Provided , That should this prohibition be declared unconstitutional by a court of competent jurisdiction, this section shall be null and void.\n",
      "\n",
      "--- 0.92083335 ---\n",
      "For necessary salaries and expenses of the Office of Inspector General in carrying out the Inspector General Act of 1978, as amended, $128,082,000: Provided , That the Inspector General shall have independent authority over all personnel issues within this office.\n",
      "\n",
      "--- 0.9409971 ---\n",
      "For environmental programs and management, including necessary expenses, not otherwise provided for, for personnel and related costs and travel expenses; hire of passenger motor vehicles; hire, maintenance, and operation of aircraft; purchase of reprints; library memberships in societies or associations which issue publications to members only or at a price to members lower than to subscribers who are not members; administrative costs of the brownfields program under the Small Business Liability\n",
      "\n"
     ]
    }
   ],
   "source": [
    "import random\n",
    "\n",
    "for entry in topic_docs:\n",
    "    if random.random() < .15:\n",
    "        index = entry[0]\n",
    "        topics = entry[1]\n",
    "        for t13 in topics:\n",
    "            if t13[0] == 13:\n",
    "                break\n",
    "            \n",
    "        print('---', t13[1], '---')\n",
    "        print(raw_corpus[index][:500]) # first 500 chars in case its a long one\n",
    "        print('')"
   ]
  },
  {
   "cell_type": "code",
   "execution_count": 31,
   "metadata": {},
   "outputs": [],
   "source": [
    "# Again, because of the high prevalance of unique words, this is \n",
    "# not going to be fixed by any sort of tuning.\n",
    "# This is just to show an attempt at standard clustering."
   ]
  },
  {
   "cell_type": "code",
   "execution_count": null,
   "metadata": {},
   "outputs": [],
   "source": []
  }
 ],
 "metadata": {
  "kernelspec": {
   "display_name": "Python 3",
   "language": "python",
   "name": "python3"
  },
  "language_info": {
   "codemirror_mode": {
    "name": "ipython",
    "version": 3
   },
   "file_extension": ".py",
   "mimetype": "text/x-python",
   "name": "python",
   "nbconvert_exporter": "python",
   "pygments_lexer": "ipython3",
   "version": "3.6.8"
  }
 },
 "nbformat": 4,
 "nbformat_minor": 2
}
