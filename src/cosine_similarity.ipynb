{
 "cells": [
  {
   "cell_type": "markdown",
   "metadata": {},
   "source": [
    "# Cosine Similarity\n",
    "\n",
    "This was one of my minimal viable project investigations - which documents have the least cosine similarity\n",
    "with the rest of the budget? "
   ]
  },
  {
   "cell_type": "code",
   "execution_count": 45,
   "metadata": {},
   "outputs": [],
   "source": [
    "import pandas as pd\n",
    "import numpy as np \n",
    "\n",
    "from pathlib import Path\n",
    "\n",
    "from gensim import corpora\n",
    "\n",
    "import logging\n",
    "logging.basicConfig(format='%(asctime)s : %(levelname)s : %(message)s', level=logging.INFO)"
   ]
  },
  {
   "cell_type": "code",
   "execution_count": 46,
   "metadata": {},
   "outputs": [],
   "source": [
    "from budget_corpus import read_raw_corpus, read_documents\n",
    "\n",
    "raw_corpus = read_raw_corpus()\n",
    "corpus = read_documents()"
   ]
  },
  {
   "cell_type": "code",
   "execution_count": 47,
   "metadata": {},
   "outputs": [
    {
     "name": "stderr",
     "output_type": "stream",
     "text": [
      "2019-02-28 15:35:12,349 : INFO : adding document #0 to Dictionary(0 unique tokens: [])\n",
      "2019-02-28 15:35:12,429 : INFO : built Dictionary(4392 unique tokens: ['acquisition', 'aircraft', 'authorize', 'capital', 'derive']...) from 1248 documents (total 69715 corpus positions)\n"
     ]
    }
   ],
   "source": [
    "dictionary = corpora.Dictionary(tokens for tokens in corpus)"
   ]
  },
  {
   "cell_type": "code",
   "execution_count": 48,
   "metadata": {},
   "outputs": [],
   "source": [
    "tokened_corpus = [dictionary.doc2bow(tokens) for tokens in corpus ]"
   ]
  },
  {
   "cell_type": "markdown",
   "metadata": {},
   "source": [
    "# Data prep\n",
    "\n",
    "Use TF-DIF to normalize and LSI to reduce dimensionality"
   ]
  },
  {
   "cell_type": "code",
   "execution_count": 60,
   "metadata": {},
   "outputs": [],
   "source": [
    "# dimensionality reduction\n",
    "from gensim.models import TfidfModel, LsiModel\n",
    "\n",
    "# first convert words to tfidf values\n",
    "tfidf = TfidfModel(dictionary=dictionary, normalize=True)\n",
    "vectored_corpus = [ tfidf[doc] for doc in tokened_corpus]"
   ]
  },
  {
   "cell_type": "code",
   "execution_count": 65,
   "metadata": {},
   "outputs": [
    {
     "name": "stderr",
     "output_type": "stream",
     "text": [
      "2019-02-28 15:37:19,975 : INFO : using serial LSI version on this node\n",
      "2019-02-28 15:37:19,976 : INFO : updating model with new documents\n",
      "2019-02-28 15:37:19,976 : INFO : preparing a new chunk of documents\n",
      "2019-02-28 15:37:19,994 : INFO : using 100 extra samples and 2 power iterations\n",
      "2019-02-28 15:37:19,996 : INFO : 1st phase: constructing (4392, 300) action matrix\n",
      "2019-02-28 15:37:20,020 : INFO : orthonormalizing (4392, 300) action matrix\n",
      "2019-02-28 15:37:20,217 : INFO : 2nd phase: running dense svd on (300, 1248) matrix\n",
      "2019-02-28 15:37:20,269 : INFO : computing the final decomposition\n",
      "2019-02-28 15:37:20,270 : INFO : keeping 200 factors (discarding 15.371% of energy spectrum)\n",
      "2019-02-28 15:37:20,280 : INFO : processed documents up to #1248\n",
      "2019-02-28 15:37:20,286 : INFO : topic #0(5.975): 0.177*\"assistance\" + 0.146*\"necessary\" + 0.146*\"remain\" + 0.144*\"year\" + 0.142*\"transfer\" + 0.142*\"exceed\" + 0.141*\"head\" + 0.140*\"secretary\" + 0.139*\"law\" + 0.138*\"public\"\n",
      "2019-02-28 15:37:20,287 : INFO : topic #1(3.804): 0.405*\"inspector\" + -0.253*\"loan\" + 0.251*\"reception\" + 0.249*\"representation\" + 0.209*\"official\" + 0.206*\"necessary\" + 0.195*\"exceed\" + -0.186*\"housing\" + 0.184*\"vehicle\" + 0.166*\"motor\"\n",
      "2019-02-28 15:37:20,291 : INFO : topic #2(3.543): -0.581*\"loan\" + -0.333*\"inspector\" + -0.254*\"rural\" + -0.247*\"housing\" + -0.210*\"guarantee\" + -0.138*\"direct\" + -0.122*\"guaranteed\" + 0.118*\"committee\" + -0.097*\"principal\" + -0.094*\"farm\"\n",
      "2019-02-28 15:37:20,295 : INFO : topic #3(3.526): -0.718*\"inspector\" + 0.198*\"reception\" + 0.186*\"representation\" + 0.166*\"official\" + 0.163*\"exceed\" + -0.160*\"foreign\" + -0.145*\"assistance\" + 0.133*\"loan\" + -0.125*\"carry\" + 0.115*\"authorize\"\n",
      "2019-02-28 15:37:20,297 : INFO : topic #4(3.285): 0.313*\"assistance\" + -0.257*\"transfer\" + 0.254*\"foreign\" + -0.209*\"inspector\" + -0.185*\"obligation\" + -0.172*\"year\" + -0.172*\"house\" + -0.170*\"current\" + -0.167*\"expressly\" + -0.160*\"senate\"\n"
     ]
    }
   ],
   "source": [
    "# next do dimensionalty reduction\n",
    "lsi = LsiModel(corpus=vectored_corpus, num_topics=200, id2word=dictionary)"
   ]
  },
  {
   "cell_type": "code",
   "execution_count": 66,
   "metadata": {},
   "outputs": [
    {
     "data": {
      "text/plain": [
       "(1248, 200)"
      ]
     },
     "execution_count": 66,
     "metadata": {},
     "output_type": "execute_result"
    }
   ],
   "source": [
    "lsi_corpus = [ lsi[doc] for doc in vectored_corpus ]\n",
    "\n",
    "lsi_array = np.array(lsi_corpus)\n",
    "lsi_array = lsi_array[:,:,1]\n",
    "lsi_array.shape"
   ]
  },
  {
   "cell_type": "markdown",
   "metadata": {},
   "source": [
    "# which documents are least similar to the rest of the corpus? "
   ]
  },
  {
   "cell_type": "code",
   "execution_count": 71,
   "metadata": {},
   "outputs": [
    {
     "name": "stderr",
     "output_type": "stream",
     "text": [
      "2019-02-28 15:38:04,284 : WARNING : scanning corpus to determine the number of features (consider setting `num_features` explicitly)\n",
      "2019-02-28 15:38:04,313 : INFO : creating matrix with 1248 documents and 200 features\n"
     ]
    }
   ],
   "source": [
    "from gensim import similarities\n",
    "\n",
    "index = similarities.MatrixSimilarity(lsi_corpus)"
   ]
  },
  {
   "cell_type": "code",
   "execution_count": 72,
   "metadata": {},
   "outputs": [],
   "source": [
    "sims = index[lsi_corpus]"
   ]
  },
  {
   "cell_type": "code",
   "execution_count": 73,
   "metadata": {},
   "outputs": [
    {
     "data": {
      "text/plain": [
       "(1248, 1248)"
      ]
     },
     "execution_count": 73,
     "metadata": {},
     "output_type": "execute_result"
    }
   ],
   "source": [
    "sims.shape"
   ]
  },
  {
   "cell_type": "code",
   "execution_count": 83,
   "metadata": {},
   "outputs": [],
   "source": [
    "df_sims = pd.DataFrame(sims)\n",
    "avg_sim = df_sims.median()"
   ]
  },
  {
   "cell_type": "code",
   "execution_count": 84,
   "metadata": {},
   "outputs": [
    {
     "data": {
      "text/plain": [
       "806    0.000035\n",
       "763    0.000035\n",
       "55     0.000043\n",
       "670    0.000367\n",
       "302    0.000701\n",
       "805    0.000707\n",
       "657    0.000716\n",
       "874    0.000891\n",
       "575    0.000902\n",
       "919    0.001006\n",
       "dtype: float32"
      ]
     },
     "execution_count": 84,
     "metadata": {},
     "output_type": "execute_result"
    }
   ],
   "source": [
    "avg_sim.sort_values().head(10)"
   ]
  },
  {
   "cell_type": "code",
   "execution_count": 85,
   "metadata": {},
   "outputs": [
    {
     "name": "stdout",
     "output_type": "stream",
     "text": [
      "-----\n",
      "401.None of the funds in this Act shall be used for the planning or execution of any program to pay the expenses of, or otherwise compensate, non-Federal parties intervening in regulatory or adjudicatory proceedings funded in this Act.\n",
      "-----\n",
      "601.None of the funds in this Act shall be used for the planning or execution of any program to pay the expenses of, or otherwise compensate, non-Federal parties intervening in regulatory or adjudicatory proceedings funded in this Act.\n",
      "-----\n",
      "624.None of the funds made available in this Act may be used in contravention of chapter 29, 31, or 33 of title 44, United States Code.\n",
      "-----\n",
      "For salaries and expenses, not otherwise provided for, $48,134,000.\n",
      "-----\n",
      "This title may be cited as the Judiciary Appropriations Act, 2019 .\n",
      "-----\n",
      "520.Funds available to the General Services Administration shall be available for the hire of passenger motor vehicles.\n",
      "-----\n",
      "517.None of the funds made available in this Act may be used for first-class travel by the employees of agencies funded by this Act in contravention of sections 301–10.122 through 301–10.124 of title 41, Code of Federal Regulations.\n",
      "-----\n",
      "525.None of the funds made available in this Act may be used to purchase first class or premium airline travel in contravention of sections 301–10.122 through 301–10.124 of title 41 of the Code of Federal Regulations.\n",
      "-----\n",
      "518.None of the funds made available in this Act may be used to employ workers described in section 274A(h)(3) of the Immigration and Nationality Act ( 8 U.S.C. 1324a(h)(3) ).\n",
      "-----\n",
      "118.None of the funds in this Act shall be available for salaries and expenses of more than eight political and Presidential appointees in the Federal Aviation Administration.\n"
     ]
    }
   ],
   "source": [
    "least_sim = avg_sim.sort_values().head(10).index\n",
    "for i in least_sim:\n",
    "    print('-----')\n",
    "    print(raw_corpus[i][:500])"
   ]
  },
  {
   "cell_type": "markdown",
   "metadata": {},
   "source": [
    "# Simple BOW\n",
    "\n",
    "Not using the TF-IDF normalization for this one "
   ]
  },
  {
   "cell_type": "code",
   "execution_count": 86,
   "metadata": {},
   "outputs": [
    {
     "name": "stderr",
     "output_type": "stream",
     "text": [
      "2019-02-28 15:42:09,463 : INFO : using serial LSI version on this node\n",
      "2019-02-28 15:42:09,464 : INFO : updating model with new documents\n",
      "2019-02-28 15:42:09,465 : INFO : preparing a new chunk of documents\n",
      "2019-02-28 15:42:09,481 : INFO : using 100 extra samples and 2 power iterations\n",
      "2019-02-28 15:42:09,481 : INFO : 1st phase: constructing (4392, 300) action matrix\n",
      "2019-02-28 15:42:09,517 : INFO : orthonormalizing (4392, 300) action matrix\n",
      "2019-02-28 15:42:09,714 : INFO : 2nd phase: running dense svd on (300, 1248) matrix\n",
      "2019-02-28 15:42:09,757 : INFO : computing the final decomposition\n",
      "2019-02-28 15:42:09,758 : INFO : keeping 200 factors (discarding 3.810% of energy spectrum)\n",
      "2019-02-28 15:42:09,772 : INFO : processed documents up to #1248\n",
      "2019-02-28 15:42:09,773 : INFO : topic #0(236.398): 0.437*\"assistance\" + 0.305*\"secretary\" + 0.290*\"appropriate\" + 0.217*\"law\" + 0.200*\"include\" + 0.197*\"committee\" + 0.190*\"public\" + 0.182*\"foreign\" + 0.147*\"head\" + 0.141*\"report\"\n",
      "2019-02-28 15:42:09,775 : INFO : topic #1(121.208): -0.513*\"housing\" + 0.261*\"appropriate\" + -0.249*\"project\" + -0.243*\"public\" + 0.222*\"foreign\" + 0.217*\"committee\" + -0.215*\"secretary\" + -0.179*\"voucher\" + 0.136*\"support\" + 0.135*\"report\"\n",
      "2019-02-28 15:42:09,776 : INFO : topic #2(98.516): -0.491*\"law\" + -0.321*\"authorize\" + -0.304*\"public\" + 0.254*\"secretary\" + 0.241*\"assistance\" + 0.225*\"housing\" + -0.154*\"year\" + -0.130*\"remain\" + 0.104*\"report\" + -0.101*\"indian\"\n",
      "2019-02-28 15:42:09,777 : INFO : topic #3(87.213): -0.498*\"project\" + 0.317*\"public\" + 0.259*\"law\" + 0.258*\"assistance\" + -0.255*\"transfer\" + -0.223*\"year\" + 0.129*\"voucher\" + -0.124*\"remain\" + -0.113*\"water\" + -0.110*\"percent\"\n",
      "2019-02-28 15:42:09,778 : INFO : topic #4(75.153): -0.532*\"project\" + 0.266*\"year\" + 0.265*\"secretary\" + -0.237*\"law\" + -0.213*\"assistance\" + -0.206*\"transfer\" + 0.186*\"fee\" + 0.146*\"include\" + 0.127*\"remain\" + 0.119*\"paragraph\"\n"
     ]
    }
   ],
   "source": [
    "# next do dimensionalty reduction\n",
    "lsi2 = LsiModel(corpus=tokened_corpus, num_topics=200, id2word=dictionary)"
   ]
  },
  {
   "cell_type": "code",
   "execution_count": 88,
   "metadata": {},
   "outputs": [],
   "source": [
    "lsi2_corpus = [ lsi2[doc] for doc in tokened_corpus ]\n",
    "\n",
    "lsi2_array = np.array(lsi2_corpus)\n",
    "lsi2_array = lsi2_array[:,:,1]"
   ]
  },
  {
   "cell_type": "code",
   "execution_count": 89,
   "metadata": {},
   "outputs": [],
   "source": [
    "avg_sim = pd.DataFrame(lsi2_array).median()"
   ]
  },
  {
   "cell_type": "code",
   "execution_count": 90,
   "metadata": {},
   "outputs": [
    {
     "name": "stdout",
     "output_type": "stream",
     "text": [
      "-----\n",
      "235.(a) Authority The Secretary of Housing and Urban Development (in this section referred to as the Secretary ) may carry out a mobility demonstration program to enable public housing agencies to administer housing choice voucher assistance under section 8(o) of the United States Housing Act of 1937 ( 42 U.S.C. 1437f(o) ) in a manner designed to encourage families receiving such voucher assistance to move to lower-poverty areas and expand access to opportunity areas.(b) Selection of PHAs (1) Re\n",
      "-----\n",
      "For necessary expenses of the Center for Middle Eastern-Western Dialogue Trust Fund, as authorized by section 633 of the Departments of Commerce, Justice, and State, the Judiciary, and Related Agencies Appropriations Act, 2004 ( 22 U.S.C. 2078 ), the total amount of the interest and earnings accruing to such Fund on or before September 30, 2019, to remain available until expended.\n",
      "-----\n",
      "406.Except as otherwise specifically provided by law, not to exceed 50 percent of unobligated balances remaining available at the end of fiscal year 2019 from appropriations made available for salaries and expenses for fiscal year 2019 in this Act, shall remain available through September 30, 2020, for each such account for the purposes authorized: Provided , That a request shall be submitted to the House and Senate Committees on Appropriations for approval prior to the expenditure of such funds\n",
      "-----\n",
      "103.Not to exceed 5 percent of any appropriation made available for the current fiscal year for the Department of Commerce in this Act may be transferred between such appropriations, but no such appropriation shall be increased by more than 10 percent by any such transfers: Provided , That any transfer pursuant to this section shall be treated as a reprogramming of funds under section 505 of this Act and shall not be available for obligation or expenditure except in compliance with the procedure\n",
      "-----\n",
      "105.Notwithstanding the numerical limitation set forth in section 214(g)(1)(B) of the Immigration and Nationality Act ( 8 U.S.C. 1184(g)(1)(B) ), the Secretary of Homeland Security, after consultation with the Secretary of Labor, and upon the determination that the needs of American businesses cannot be satisfied in fiscal year 2019 with United States workers who are willing, qualified, and able to perform temporary nonagricultural labor, may increase the total number of aliens who may receive a\n",
      "-----\n",
      "For necessary expenses of the Internal Revenue Service to support taxpayer services and enforcement programs, including rent payments; facilities services; printing; postage; physical security; headquarters and other IRS-wide administration activities; research and statistics of income; telecommunications; information technology development, enhancement, operations, maintenance, and security; the hire of passenger motor vehicles ( 31 U.S.C. 1343(b) ); the operations of the Internal Revenue Servi\n",
      "-----\n",
      "415.The Department of the Interior, the Environmental Protection Agency, the Forest Service, and the Indian Health Service shall provide the Committees on Appropriations of the House of Representatives and Senate quarterly reports on the status of balances of appropriations including all uncommitted, committed, and unobligated funds in each program and activity.\n",
      "-----\n",
      "For necessary expenses to carry out fixed guideway capital investment grants under section 5309 of title 49, United States Code, and section 3005(b) of the Fixing America's Surface Transportation Act, $2,552,687,000, to remain available until September 30, 2022: Provided , That of the amounts made available under this heading, $2,169,783,950 shall be obligated by December 31, 2020: Provided further , That of the amounts made available under this heading, $1,265,670,000 shall be available for pro\n",
      "-----\n",
      "For necessary expenses to carry out section 3024 of the Solid Waste Disposal Act ( 42 U.S.C. 6939g ), including the development, operation, maintenance, and upgrading of the hazardous waste electronic manifest system established by such section, $8,000,000, to remain available until expended: Provided , That the sum herein appropriated from the general fund shall be reduced as offsetting collections under such section 3024 are received during fiscal year 2019, which shall remain available until \n",
      "-----\n",
      "For necessary expenses for the Women’s Suffrage Centennial Commission, as authorized by the Women’s Suffrage Centennial Commission Act (section 431(a)(3) of division G of Public Law 115–31 ), $1,000,000, to remain available until expended.\n"
     ]
    }
   ],
   "source": [
    "least_sim = avg_sim.sort_values().head(10).index\n",
    "for i in least_sim:\n",
    "    print('-----')\n",
    "    print(raw_corpus[i][:500])"
   ]
  },
  {
   "cell_type": "markdown",
   "metadata": {},
   "source": [
    "> Just looking at cosine similarity does not point unusual parts of the budget."
   ]
  },
  {
   "cell_type": "code",
   "execution_count": null,
   "metadata": {},
   "outputs": [],
   "source": []
  }
 ],
 "metadata": {
  "kernelspec": {
   "display_name": "Python 3",
   "language": "python",
   "name": "python3"
  },
  "language_info": {
   "codemirror_mode": {
    "name": "ipython",
    "version": 3
   },
   "file_extension": ".py",
   "mimetype": "text/x-python",
   "name": "python",
   "nbconvert_exporter": "python",
   "pygments_lexer": "ipython3",
   "version": "3.6.8"
  }
 },
 "nbformat": 4,
 "nbformat_minor": 2
}
