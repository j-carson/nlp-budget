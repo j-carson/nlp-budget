{
 "cells": [
  {
   "cell_type": "markdown",
   "metadata": {},
   "source": [
    "# An attempt at clustering\n",
    "\n",
    "So, if you read the unique_words notebook, it's clear that\n",
    "clustering this in a traditional way is hopeless.\n",
    "\n",
    "The algorithm that seemed to work somewhat was hdbscan which let me \n",
    "have some very small clusters (by setting the method=leaf). This at \n",
    "least clustered a bunch of cut-n-pasted sections.  But even so, most\n",
    "of the corpus was unclassifiable."
   ]
  },
  {
   "cell_type": "code",
   "execution_count": 58,
   "metadata": {},
   "outputs": [],
   "source": [
    "import pandas as pd\n",
    "import numpy as np \n",
    "\n",
    "from gensim import corpora\n",
    "from gensim.models import TfidfModel, LsiModel"
   ]
  },
  {
   "cell_type": "markdown",
   "metadata": {},
   "source": [
    "# Read the data"
   ]
  },
  {
   "cell_type": "code",
   "execution_count": 59,
   "metadata": {},
   "outputs": [],
   "source": [
    "from budget_corpus import read_documents, read_raw_corpus\n",
    "corpus = read_documents()\n",
    "raw_corpus = read_raw_corpus() # so I can see the original doc for debugging"
   ]
  },
  {
   "cell_type": "code",
   "execution_count": 60,
   "metadata": {},
   "outputs": [],
   "source": [
    "dictionary = corpora.Dictionary(tokens for tokens in corpus)"
   ]
  },
  {
   "cell_type": "code",
   "execution_count": 61,
   "metadata": {},
   "outputs": [],
   "source": [
    "tokened_corpus = [dictionary.doc2bow(tokens) for tokens in corpus ]"
   ]
  },
  {
   "cell_type": "markdown",
   "metadata": {},
   "source": [
    "# TFIDF and LSI\n",
    "\n",
    "TFIDF compensates for variation in document length (at least if this \n",
    "were a normal corpus)\n",
    "\n",
    "LSI (called LSA in sklearn) does dimensionality reduction. Went from 4000\n",
    "vocabulary words down to 100 dimensions so that thing would cluster for HDBSCAN."
   ]
  },
  {
   "cell_type": "code",
   "execution_count": 62,
   "metadata": {},
   "outputs": [],
   "source": [
    "# first convert words to tfidf values (this helps compensate for the\n",
    "# uneven document sizes)\n",
    "\n",
    "tfidf = TfidfModel(dictionary=dictionary)\n",
    "vectored_corpus = [ tfidf[doc] for doc in tokened_corpus]\n",
    "\n",
    "# next do dimensionalty reduction - \n",
    "lsi = LsiModel(corpus=vectored_corpus, num_topics=100, id2word=dictionary, onepass=False, power_iters=3)"
   ]
  },
  {
   "cell_type": "code",
   "execution_count": 63,
   "metadata": {},
   "outputs": [
    {
     "data": {
      "text/plain": [
       "[(0,\n",
       "  '0.177*\"assistance\" + 0.146*\"necessary\" + 0.146*\"remain\" + 0.144*\"year\" + 0.142*\"transfer\" + 0.142*\"exceed\" + 0.141*\"head\" + 0.140*\"secretary\" + 0.139*\"law\" + 0.138*\"authorize\"'),\n",
       " (1,\n",
       "  '0.405*\"inspector\" + -0.253*\"loan\" + 0.251*\"reception\" + 0.248*\"representation\" + 0.209*\"official\" + 0.206*\"necessary\" + 0.195*\"exceed\" + -0.186*\"housing\" + 0.184*\"vehicle\" + 0.166*\"motor\"'),\n",
       " (2,\n",
       "  '0.581*\"loan\" + 0.333*\"inspector\" + 0.254*\"rural\" + 0.247*\"housing\" + 0.210*\"guarantee\" + 0.138*\"direct\" + 0.122*\"guaranteed\" + -0.118*\"committee\" + 0.097*\"principal\" + 0.094*\"farm\"'),\n",
       " (3,\n",
       "  '-0.718*\"inspector\" + 0.198*\"reception\" + 0.186*\"representation\" + 0.167*\"official\" + 0.163*\"exceed\" + -0.160*\"foreign\" + -0.145*\"assistance\" + 0.133*\"loan\" + -0.125*\"carry\" + 0.115*\"authorize\"'),\n",
       " (4,\n",
       "  '-0.312*\"assistance\" + 0.257*\"transfer\" + -0.254*\"foreign\" + 0.209*\"inspector\" + 0.185*\"obligation\" + 0.172*\"year\" + 0.172*\"house\" + 0.170*\"current\" + 0.167*\"expressly\" + 0.160*\"senate\"'),\n",
       " (5,\n",
       "  '0.337*\"housing\" + -0.278*\"loan\" + 0.196*\"public\" + -0.183*\"foreign\" + -0.165*\"representation\" + -0.155*\"reception\" + 0.155*\"indian\" + -0.146*\"exceed\" + 0.146*\"construction\" + 0.144*\"contract\"'),\n",
       " (6,\n",
       "  '0.268*\"housing\" + 0.198*\"assistance\" + -0.174*\"transfer\" + -0.172*\"emergency\" + -0.168*\"construction\" + -0.166*\"balanced\" + -0.163*\"deficit\" + -0.160*\"remain\" + -0.159*\"expressly\" + -0.154*\"contingency\"'),\n",
       " (7,\n",
       "  '0.257*\"expressly\" + 0.219*\"public\" + 0.214*\"current\" + 0.211*\"insert\" + 0.208*\"year\" + 0.201*\"law\" + 0.197*\"amend\" + 0.181*\"obligation\" + 0.168*\"striking\" + -0.163*\"house\"'),\n",
       " (8,\n",
       "  '0.244*\"research\" + 0.231*\"foreign\" + 0.188*\"september\" + -0.187*\"public\" + 0.187*\"assistance\" + 0.178*\"expressly\" + 0.175*\"remain\" + -0.172*\"insert\" + 0.170*\"development\" + -0.167*\"emergency\"'),\n",
       " (9,\n",
       "  '0.519*\"housing\" + -0.174*\"loan\" + 0.167*\"salary\" + 0.162*\"expressly\" + -0.139*\"law\" + 0.132*\"reception\" + 0.130*\"representation\" + -0.126*\"enforcement\" + 0.122*\"current\" + 0.116*\"contingency\"'),\n",
       " (10,\n",
       "  '0.241*\"vehicle\" + 0.228*\"motor\" + -0.198*\"representation\" + 0.193*\"passenger\" + 0.190*\"hire\" + -0.173*\"reception\" + -0.171*\"transfer\" + -0.169*\"september\" + 0.144*\"expressly\" + 0.140*\"research\"'),\n",
       " (11,\n",
       "  '-0.295*\"indian\" + 0.253*\"insert\" + 0.245*\"research\" + 0.230*\"amend\" + -0.218*\"land\" + 0.201*\"striking\" + 0.194*\"division\" + 0.182*\"development\" + 0.173*\"security\" + 0.156*\"september\"'),\n",
       " (12,\n",
       "  '0.337*\"transfer\" + 0.269*\"salary\" + 0.224*\"research\" + -0.216*\"construction\" + -0.182*\"procurement\" + -0.177*\"security\" + -0.166*\"expressly\" + -0.142*\"improvement\" + 0.134*\"indian\" + 0.132*\"development\"'),\n",
       " (13,\n",
       "  '-0.227*\"enforcement\" + 0.223*\"land\" + -0.204*\"expressly\" + -0.194*\"network\" + 0.173*\"water\" + 0.168*\"forest\" + -0.153*\"employee\" + -0.147*\"officer\" + 0.140*\"project\" + 0.134*\"conservation\"'),\n",
       " (14,\n",
       "  '0.305*\"transfer\" + -0.230*\"salary\" + -0.185*\"food\" + -0.170*\"employee\" + 0.167*\"vehicle\" + -0.159*\"officer\" + -0.154*\"chief\" + 0.148*\"motor\" + 0.143*\"enforcement\" + 0.133*\"passenger\"'),\n",
       " (15,\n",
       "  '0.335*\"indian\" + 0.213*\"expressly\" + -0.179*\"highway\" + -0.173*\"transportation\" + -0.162*\"network\" + -0.151*\"credit\" + -0.145*\"collection\" + -0.141*\"safety\" + -0.134*\"fee\" + 0.126*\"health\"'),\n",
       " (16,\n",
       "  '0.245*\"indian\" + -0.228*\"transfer\" + 0.201*\"network\" + 0.169*\"research\" + 0.156*\"obligation\" + -0.147*\"corporation\" + 0.142*\"highway\" + 0.128*\"tribal\" + -0.127*\"procurement\" + -0.126*\"officer\"'),\n",
       " (17,\n",
       "  '0.361*\"indian\" + -0.189*\"rural\" + -0.181*\"network\" + 0.179*\"salary\" + -0.164*\"expressly\" + -0.148*\"water\" + 0.138*\"health\" + -0.135*\"land\" + -0.128*\"forest\" + 0.128*\"transportation\"'),\n",
       " (18,\n",
       "  '0.316*\"security\" + -0.275*\"salary\" + 0.249*\"homeland\" + 0.211*\"research\" + 0.179*\"transfer\" + -0.165*\"september\" + 0.144*\"support\" + 0.143*\"secretary\" + -0.134*\"foreign\" + -0.127*\"committee\"'),\n",
       " (19,\n",
       "  '0.281*\"security\" + 0.235*\"homeland\" + 0.215*\"commission\" + 0.173*\"land\" + -0.160*\"project\" + -0.142*\"chief\" + 0.134*\"water\" + -0.134*\"officer\" + 0.126*\"conservation\" + -0.124*\"highway\"')]"
      ]
     },
     "execution_count": 63,
     "metadata": {},
     "output_type": "execute_result"
    }
   ],
   "source": [
    "lsi.print_topics()"
   ]
  },
  {
   "cell_type": "code",
   "execution_count": 64,
   "metadata": {},
   "outputs": [
    {
     "data": {
      "text/plain": [
       "[(0, 0.08837494518307108),\n",
       " (1, 0.026074224555865326),\n",
       " (2, -0.016551861764710026),\n",
       " (3, 0.047667914966584166),\n",
       " (4, 0.015880671024923635),\n",
       " (5, 0.04245770095562856),\n",
       " (6, -0.02706591516144045),\n",
       " (7, -0.018622189133790976),\n",
       " (8, -0.0010137140280048898),\n",
       " (9, -0.04471173692014821)]"
      ]
     },
     "execution_count": 64,
     "metadata": {},
     "output_type": "execute_result"
    }
   ],
   "source": [
    "lsi_corpus = [ lsi[doc] for doc in vectored_corpus ]\n",
    "\n",
    "# each element of lsi corpus is a topic number and a percentage,\n",
    "# to turn this into an array of vectors for clustering, need to\n",
    "# drop the topic numbers\n",
    "lsi_corpus[0][ :10]"
   ]
  },
  {
   "cell_type": "code",
   "execution_count": 65,
   "metadata": {},
   "outputs": [
    {
     "data": {
      "text/plain": [
       "(1248, 100, 2)"
      ]
     },
     "execution_count": 65,
     "metadata": {},
     "output_type": "execute_result"
    }
   ],
   "source": [
    "lsi_array = np.array(lsi_corpus)\n",
    "lsi_array.shape"
   ]
  },
  {
   "cell_type": "code",
   "execution_count": 66,
   "metadata": {},
   "outputs": [
    {
     "data": {
      "text/plain": [
       "(1248, 100)"
      ]
     },
     "execution_count": 66,
     "metadata": {},
     "output_type": "execute_result"
    }
   ],
   "source": [
    "lsi_array = lsi_array[:,:,1]\n",
    "lsi_array.shape"
   ]
  },
  {
   "cell_type": "code",
   "execution_count": 67,
   "metadata": {},
   "outputs": [
    {
     "data": {
      "text/plain": [
       "array([ 0.08837495,  0.02607422, -0.01655186,  0.04766791,  0.01588067,\n",
       "        0.0424577 , -0.02706592, -0.01862219, -0.00101371, -0.04471174])"
      ]
     },
     "execution_count": 67,
     "metadata": {},
     "output_type": "execute_result"
    }
   ],
   "source": [
    "# and you can see we have the same numbers as the sample above,\n",
    "# just in a different shape\n",
    "lsi_array[0, :10]"
   ]
  },
  {
   "cell_type": "code",
   "execution_count": 68,
   "metadata": {},
   "outputs": [
    {
     "data": {
      "text/plain": [
       "HDBSCAN(algorithm='best', allow_single_cluster=False, alpha=1.0,\n",
       "    approx_min_span_tree=True, cluster_selection_method='leaf',\n",
       "    core_dist_n_jobs=4, gen_min_span_tree=False, leaf_size=40,\n",
       "    match_reference_implementation=False, memory=Memory(location=None),\n",
       "    metric='euclidean', min_cluster_size=5, min_samples=None, p=None,\n",
       "    prediction_data=False)"
      ]
     },
     "execution_count": 68,
     "metadata": {},
     "output_type": "execute_result"
    }
   ],
   "source": [
    "# cluster with hdbscan, telling it to go with fine grained clusters\n",
    "# because the broad ones created with other models make even less sense...\n",
    "\n",
    "import hdbscan\n",
    "hdb = hdbscan.HDBSCAN(cluster_selection_method='leaf')\n",
    "hdb.fit(lsi_array)"
   ]
  },
  {
   "cell_type": "code",
   "execution_count": 69,
   "metadata": {},
   "outputs": [
    {
     "data": {
      "text/plain": [
       "array([-1, -1, -1, ...,  4, -1, 12])"
      ]
     },
     "execution_count": 69,
     "metadata": {},
     "output_type": "execute_result"
    }
   ],
   "source": [
    "hdb.labels_"
   ]
  },
  {
   "cell_type": "code",
   "execution_count": 70,
   "metadata": {},
   "outputs": [],
   "source": [
    "labels = pd.Series(hdb.labels_)"
   ]
  },
  {
   "cell_type": "code",
   "execution_count": 71,
   "metadata": {},
   "outputs": [
    {
     "data": {
      "text/plain": [
       "-1     980\n",
       " 12    177\n",
       " 4      12\n",
       " 1       9\n",
       " 13      8\n",
       " 10      7\n",
       " 8       7\n",
       " 6       7\n",
       " 5       7\n",
       " 9       6\n",
       " 3       6\n",
       " 2       6\n",
       " 0       6\n",
       " 11      5\n",
       " 7       5\n",
       "dtype: int64"
      ]
     },
     "execution_count": 71,
     "metadata": {},
     "output_type": "execute_result"
    }
   ],
   "source": [
    "labels.value_counts()"
   ]
  },
  {
   "cell_type": "code",
   "execution_count": 72,
   "metadata": {},
   "outputs": [],
   "source": [
    "# The clustering is good at finding repeated texts at least"
   ]
  },
  {
   "cell_type": "code",
   "execution_count": 73,
   "metadata": {},
   "outputs": [
    {
     "name": "stdout",
     "output_type": "stream",
     "text": [
      " \n",
      "For necessary expenses, not otherwise provided for, in the conduct and support of science research and development activities, including research, development, operations, support, and services; maintenance and repair, facility planning and design; space flight, spacecraft control, and communications activities; program management; personnel and related costs, including uniforms or allowances therefor, as authorized by sections 5901 and 5902 of title 5, United States Code; travel expenses; purchase and hire of passenger motor vehicles; and purchase, lease, charter, maintenance, and operation of mission and administrative aircraft, $6,905,700,000, to remain available until September 30, 2020: Provided , That, of the amounts provided, $545,000,000 is for an orbiter and $195,000,000 is for a lander to meet the science goals for the Jupiter Europa mission as recommended in previous Planetary Science Decadal surveys: Provided further , That the National Aeronautics and Space Administration shall use the Space Launch System as the launch vehicles for the Jupiter Europa missions, plan for an orbiter launch no later than 2023 and a lander launch no later than 2025, and include in the fiscal year 2020 budget the 5-year funding profile necessary to achieve these goals.\n",
      " \n",
      "For necessary expenses, not otherwise provided for, in the conduct and support of aeronautics research and development activities, including research, development, operations, support, and services; maintenance and repair, facility planning and design; space flight, spacecraft control, and communications activities; program management; personnel and related costs, including uniforms or allowances therefor, as authorized by sections 5901 and 5902 of title 5, United States Code; travel expenses; purchase and hire of passenger motor vehicles; and purchase, lease, charter, maintenance, and operation of mission and administrative aircraft, $725,000,000, to remain available until September 30, 2020.\n",
      " \n",
      "For necessary expenses, not otherwise provided for, in the conduct and support of space technology research and development activities, including research, development, operations, support, and services; maintenance and repair, facility planning and design; space flight, spacecraft control, and communications activities; program management; personnel and related costs, including uniforms or allowances therefor, as authorized by sections 5901 and 5902 of title 5, United States Code; travel expenses; purchase and hire of passenger motor vehicles; and purchase, lease, charter, maintenance, and operation of mission and administrative aircraft, $926,900,000, to remain available until September 30, 2020: Provided , That $180,000,000 shall be for RESTORE–L.\n",
      " \n",
      "For necessary expenses, not otherwise provided for, in the conduct and support of aerospace and aeronautical education research and development activities, including research, development, operations, support, and services; program management; personnel and related costs, including uniforms or allowances therefor, as authorized by sections 5901 and 5902 of title 5, United States Code; travel expenses; purchase and hire of passenger motor vehicles; and purchase, lease, charter, maintenance, and operation of mission and administrative aircraft, $110,000,000, to remain available until September 30, 2020, of which $21,000,000 shall be for the Established Program to Stimulate Competitive Research and $44,000,000 shall be for the National Space Grant College and Fellowship Program.\n",
      " \n",
      "For necessary expenses, not otherwise provided for, in the conduct and support of science, aeronautics, space technology, exploration, space operations and education research and development activities, including research, development, operations, support, and services; maintenance and repair, facility planning and design; space flight, spacecraft control, and communications activities; program management; personnel and related costs, including uniforms or allowances therefor, as authorized by sections 5901 and 5902 of title 5, United States Code; travel expenses; purchase and hire of passenger motor vehicles; not to exceed $63,000 for official reception and representation expenses; and purchase, lease, charter, maintenance, and operation of mission and administrative aircraft, $2,755,000,000, to remain available until September 30, 2020.\n",
      " \n",
      "For necessary expenses, not otherwise provided for, in the conduct and support of exploration research and development activities, including research, development, operations, support, and services; maintenance and repair, facility planning and design; space flight, spacecraft control, and communications activities; program management; personnel and related costs, including uniforms or allowances therefor, as authorized by sections 5901 and 5902 of title 5, United States Code; travel expenses; purchase and hire of passenger motor vehicles; and purchase, lease, charter, maintenance, and operation of mission and administrative aircraft, $5,050,800,000, to remain available until September 30, 2020: Provided , That not less than $1,350,000,000 shall be for the Orion Multi-Purpose Crew Vehicle: Provided further , That not less than $2,150,000,000 shall be for the Space Launch System (SLS) launch vehicle, which shall have a lift capability not less than 130 metric tons and which shall have core elements and an Exploration Upper Stage developed simultaneously: Provided further , That of the amounts provided for SLS, not less than $150,000,000 shall be for Exploration Upper Stage development: Provided further , That $592,800,000 shall be for Exploration Ground Systems, including $48,000,000 for a second mobile launch platform and associated SLS activities: Provided further , That the National Aeronautics and Space Administration (NASA) shall provide to the Committees on Appropriations of the House of Representatives and the Senate, concurrent with the annual budget submission, a 5-year budget profile for an integrated system that includes the Space Launch System, the Orion Multi-Purpose Crew Vehicle, and associated ground systems that will ensure an Exploration Mission-2 crewed launch as early as possible, as well as a system-based funding profile for a sustained launch cadence beyond the initial crewed test launch: Provided further , That $958,000,000 shall be for exploration research and development.\n",
      " \n",
      "For necessary expenses, not otherwise provided for, in the conduct and support of space operations research and development activities, including research, development, operations, support and services; space flight, spacecraft control and communications activities, including operations, production, and services; maintenance and repair, facility planning and design; program management; personnel and related costs, including uniforms or allowances therefor, as authorized by sections 5901 and 5902 of title 5, United States Code; travel expenses; purchase and hire of passenger motor vehicles; and purchase, lease, charter, maintenance and operation of mission and administrative aircraft, $4,639,100,000, to remain available until September 30, 2020.\n"
     ]
    }
   ],
   "source": [
    "for idx, lab in enumerate(hdb.labels_):\n",
    "    if lab == 8:\n",
    "        print(\" \" )\n",
    "        print(raw_corpus[idx])"
   ]
  },
  {
   "cell_type": "code",
   "execution_count": 74,
   "metadata": {},
   "outputs": [],
   "source": [
    "# Let's take a peek at the bigger category : You can see\n",
    "# that it's not particularly obvious why they're combined"
   ]
  },
  {
   "cell_type": "code",
   "execution_count": 75,
   "metadata": {},
   "outputs": [
    {
     "name": "stdout",
     "output_type": "stream",
     "text": [
      " \n",
      "516.(a) Notwithstanding any other provision of law or treaty, none of the funds appropriated or otherwise made available under this Act or any other Act may be expended or obligated by a department, agency, or instrumentality of the United States to pay administrative expenses or to compensate an officer or employee of the United States in connection with requiring an export license for the export to Canada of components, parts, accessories or attachments for firearms listed in Category I, secti\n",
      " \n",
      "7042.(a) African great lakes region assistance restriction Funds appropriated by this Act under the heading International Military Education and Training for the central government of a country in the African Great Lakes region may be made available only for Expanded International Military Education and Training and professional military education until the Secretary of State determines and reports to the Committees on Appropriations that such government is not facilitating or otherwise particip\n",
      " \n",
      "For necessary expenses to carry out the provisions of the Millennium Challenge Act of 2003 ( 22 U.S.C. 7701 et seq.) (MCA), $905,000,000, to remain available until expended: Provided , That of the funds appropriated under this heading, up to $105,000,000 may be available for administrative expenses of the Millennium Challenge Corporation: Provided further , That section 605(e) of the MCA shall apply to funds appropriated under this heading: Provided further , That funds appropriated under this h\n",
      " \n",
      "Pursuant to section 5136 of title 31, United States Code, the United States Mint is provided funding through the United States Mint Public Enterprise Fund for costs associated with the production of circulating coins, numismatic coins, and protective services, including both operating expenses and capital investments: Provided , That the aggregate amount of new liabilities and obligations incurred during fiscal year 2019 under such section 5136 for circulating coinage and protective service capi\n",
      " \n",
      "727.The United States is committed to ensuring the health of its Olympic, Pan American, and Paralympic athletes, and supports the strict adherence to anti-doping in sport through testing, adjudication, education, and research as performed by nationally recognized oversight authorities.\n",
      " \n",
      "231.None of the funds made available by this Act or prior Acts are available for the construction of pedestrian fencing—(1) within the Santa Ana Wildlife Refuge;(2) within the Bentsen-Rio Grande Valley State Park;(3) within La Lomita Historical park;(4) within the National Butterfly Center; or(5) within or east of the Vista del Mar Ranch tract of the Lower Rio Grande Valley National Wildlife Refuge.\n",
      " \n",
      "747.If, for fiscal year 2019, new budget authority provided in appropriations Acts exceeds the discretionary spending limit for any category set forth in section 251(c) of the Balanced Budget and Emergency Deficit Control Act of 1985 due to estimating differences with the Congressional Budget Office, an adjustment to the discretionary spending limit in such category for fiscal year 2019 shall be made by the Director of the Office of Management and Budget in the amount of the excess but the total\n",
      " \n",
      "416.Notwithstanding any other provision of law, none of the funds made available in this Act or any other Act may be used to promulgate or implement any regulation requiring the issuance of permits under title V of the Clean Air Act ( 42 U.S.C. 7661 et seq.) for carbon dioxide, nitrous oxide, water vapor, or methane emissions resulting from biological processes associated with livestock production.\n",
      " \n",
      "7045.(a) Central America (1) Conditions on assistance for the central governments of el salvador, guatemala, and honduras Of the funds appropriated by this Act under titles III and IV that are made available for assistance for each of the central governments of El Salvador, Guatemala, and Honduras, 50 percent may only be obligated after the Secretary of State certifies and reports to the appropriate congressional committees that such government is— (A) informing its citizens of the dangers of th\n",
      " \n",
      "201.(a) Section 3(20)(B) of the Carl D. Perkins Career and Technical Education Act of 2006 ( 20 U.S.C. 2302(20)(B) ), as amended by section 7 of the Strengthening Career and Technical Education for the 21st Century Act ( Public Law 115–224 ), is amended by inserting , except that, for the purpose of section 132, the term recognized postsecondary credential as used in this subparagraph shall not include a baccalaureate degree after associate degree .(b) The amendment made by subsection (a) shall \n",
      " \n",
      "105.Notwithstanding any other provision of law, the Secretary of the Interior is authorized to redistribute any Tribal Priority Allocation funds, including tribal base funds, to alleviate tribal funding inequities by transferring funds to address identified, unmet needs, dual enrollment, overlapping service areas or inaccurate distribution methodologies. No tribe shall receive a reduction in Tribal Priority Allocation funds of more than 10 percent in fiscal year 2019. Under circumstances of dual\n",
      " \n",
      "For expenses necessary in carrying out the provisions of the Woodrow Wilson Memorial Act of 1968 (82 Stat. 1356) including hire of passenger vehicles and services as authorized by 5 U.S.C. 3109 , $12,000,000, to remain available until September 30, 2020.\n",
      " \n",
      "416.None of the funds made available by this Act may be used by the Department of Transportation, the Department of Housing and Urban Development, or any other Federal agency to lease or purchase new light duty vehicles for any executive fleet, or for an agency's fleet inventory, except in accordance with Presidential Memorandum—Federal Fleet Performance, dated May 24, 2011.\n",
      " \n",
      "For necessary expenses involved in making indemnity payments to dairy farmers and manufacturers of dairy products under a dairy indemnity program, such sums as may be necessary, to remain available until expended: Provided , That such program is carried out by the Secretary in the same manner as the dairy indemnity program described in the Agriculture, Rural Development, Food and Drug Administration, and Related Agencies Appropriations Act, 2001 ( Public Law 106–387 , 114 Stat. 1549A–12).\n",
      " \n",
      "230.With respect to grant amounts awarded under the heading Homeless Assistance Grants for fiscal years 2015, 2016, 2017, 2018 and 2019 for the continuum of care (CoC) program as authorized under subtitle C of title IV of the McKinney-Vento Homeless Assistance Act, costs paid by program income of grant recipients may count toward meeting the recipient’s matching requirements, provided the costs are eligible CoC costs that supplement the recipient's CoC program.\n",
      " \n",
      "523.None of the funds provided in this Act may be used to increase the amount of occupiable square feet, provide cleaning services, security enhancements, or any other service usually provided through the Federal Buildings Fund, to any agency that does not pay the rate per square foot assessment for space and services as determined by the General Services Administration in consideration of the Public Buildings Amendments Act of 1972 ( Public Law 92–313 ).\n",
      " \n",
      "For the Family Self-Sufficiency program to support family self-sufficiency coordinators under section 23 of the United States Housing Act of 1937, to promote the development of local strategies to coordinate the use of assistance under sections 8(o) and 9 of such Act with public and private resources, and enable eligible families to achieve economic independence and self-sufficiency, $80,000,000, to remain available until September 30, 2020: Provided , That the Secretary may, by Federal Register\n",
      " \n",
      "117.Notwithstanding any other provision of law, none of the funds made available under this Act or any prior Act may be used to implement or to continue to implement any limitation on the ability of any owner or operator of a private aircraft to obtain, upon a request to the Administrator of the Federal Aviation Administration, a blocking of that owner's or operator's aircraft registration number from any display of the Federal Aviation Administration's Aircraft Situational Display to Industry d\n",
      " \n",
      "7008.None of the funds appropriated or otherwise made available pursuant to titles III through VI of this Act shall be obligated or expended to finance directly any assistance to the government of any country whose duly elected head of government is deposed by military coup d'état or decree or, after the date of enactment of this Act, a coup d'état or decree in which the military plays a decisive role: Provided , That assistance may be resumed to such government if the Secretary of State certifi\n",
      " \n",
      "131.None of the funds appropriated or otherwise made available to the Department of Transportation by this Act or any other Act may be obligated or expended to implement, administer, or enforce the requirements of section 31137 of title 49, United States Code, or any regulation issued by the Secretary pursuant to such section, with respect to the use of electronic logging devices by operators of commercial motor vehicles, as defined in section 31132(1) of such title, transporting livestock as de\n",
      " \n",
      "123.Within 45 days after the date of enactment of this Act, the Secretary of the Treasury shall submit an itemized report to the Committees on Appropriations of the House of Representatives and the Senate on the amount of total funds charged to each office by the Franchise Fund including the amount charged for each service provided by the Franchise Fund to each office, a detailed description of the services, a detailed explanation of how each charge for each service is calculated, and a descript\n",
      " \n",
      "730.None of the funds made available by this Act may be used to propose, promulgate, or implement any rule, or take any other action with respect to, allowing or requiring information intended for a prescribing health care professional, in the case of a drug or biological product subject to section 503(b)(1) of the Federal Food, Drug, and Cosmetic Act ( 21 U.S.C. 353(b)(1) ), to be distributed to such professional electronically (in lieu of in paper form) unless and until a Federal law is enacte\n",
      " \n",
      "7067.(a) Limitation None of the funds made available by this Act may be used to support or justify the use of torture and other cruel, inhuman, or degrading treatment or punishment by any official or contract employee of the United States Government.(b) Assistance Funds appropriated under titles III and IV of this Act shall be made available, notwithstanding section 660 of the Foreign Assistance Act of 1961 and following consultation with the Committees on Appropriations, for assistance to elimi\n",
      " \n",
      "For payment to the Neighborhood Reinvestment Corporation for use in neighborhood reinvestment activities, as authorized by the Neighborhood Reinvestment Corporation Act ( 42 U.S.C. 8101–8107 ), $150,000,000, of which $5,000,000 shall be for a multi-family rental housing program: Provided , That an additional $2,000,000, to remain available until September 30, 2023, shall be for the promotion and development of shared equity housing models.\n",
      " \n",
      "For fiscal year 2019, up to $400,000 of the payments authorized by chapter 69 of title 31, United States Code, may be retained for administrative expenses of the Payments in Lieu of Taxes Program: Provided , That the amounts provided under this Act specifically for the Payments in Lieu of Taxes program are the only amounts available for payments authorized under chapter 69 of title 31, United States Code: Provided further , That in the event the sums appropriated for any fiscal year for payments\n",
      " \n",
      "7077.None of the funds appropriated by this Act under the heading International Military Education and Training may be made available for assistance for the Government of Saudi Arabia.\n",
      " \n",
      "224.(a) None of the funds provided by this Act or any other Act, or provided from any accounts in the Treasury of the United States derived by the collection of fees available to the components funded by this Act, may be used by the Secretary of Homeland Security to place in detention, remove, refer for a decision whether to initiate removal proceedings, or initiate removal proceedings against a sponsor, potential sponsor, or member of a household of a sponsor or potential sponsor of an unaccomp\n",
      " \n",
      "533.(a) Except as provided in subsection (b), none of the funds made available in this Act may be used to place restraints on a woman in the custody of the Department of Homeland Security (including during transport, in a detention facility, or at an outside medical facility) who is pregnant or in post-delivery recuperation.(b) Subsection (a) shall not apply with respect to a pregnant woman if— (1) an appropriate official of the Department of Homeland Security makes an individualized determinati\n",
      " \n",
      "112.Notwithstanding any other provision of law, the Secretary of the Interior may transfer excess wild horses or burros that have been removed from the public lands to other Federal, State, and local government agencies for use as work animals: Provided , That the Secretary may make any such transfer immediately upon request of such Federal, State, or local government agency: Provided further , That any excess animal transferred under this provision shall lose its status as a wild free-roaming h\n",
      " \n",
      "207.(a) None of the funds appropriated by this Act may be used by Federal prisons to purchase cable television services, or to rent or purchase audiovisual or electronic media or equipment used primarily for recreational purposes.(b) Subsection (a) does not preclude the rental, maintenance, or purchase of audiovisual or electronic media or equipment for inmate training, religious, or educational programs.\n",
      " \n",
      "408.No funds provided in this Act may be expended to conduct preleasing, leasing and related activities under either the Mineral Leasing Act ( 30 U.S.C. 181 et seq.) or the Outer Continental Shelf Lands Act ( 43 U.S.C. 1331 et seq.) within the boundaries of a National Monument established pursuant to the Act of June 8, 1906 ( 16 U.S.C. 431 et seq.) as such boundary existed on January 20, 2001, except where such activities are allowed under the Presidential proclamation establishing such monument\n",
      " \n",
      "421.Section 127(l) of title 23, United States Code, is amended by adding at the end the following:(3) Additional highway segments (A) In general If any segment of highway described in clause (i) or (ii) of this subparagraph is designated as a route of the Interstate System, a vehicle that could operate legally on that segment before the date of such designation may continue to operate on that segment, without regard to any requirement under subsection (a), except that such vehicle shall not exce\n",
      " \n",
      "765.Not later than September 30, 2019, the Secretary of Health and Human Services shall finalize the draft guidance for industry entitled “Bacterial Risk Control Strategies for Blood Collection Establishments and Transfusion Services to Enhance the Safety and Availability of Platelets for Transfusion” issued by the Food and Drug Administration in March of 2016.\n",
      " \n",
      "7044.(a) Afghanistan (1) Funding and limitations Funds appropriated by this Act under the headings Economic Support Fund and International Narcotics Control and Law Enforcement that are made available for assistance for Afghanistan— (A) shall be made available to implement the South Asia Strategy, the Revised Strategy for United States Engagement in Afghanistan, and the United States Agency for International Development Country Development Cooperation Strategy for Afghanistan; (B) shall be made \n",
      " \n",
      "401.No part of any appropriation contained in this Act shall be available for any activity or the publication or distribution of literature that in any way tends to promote public support or opposition to any legislative proposal on which Congressional action is not complete other than to communicate to Members of Congress as described in 18 U.S.C. 1913 .\n",
      " \n",
      "For necessary expenses to carry out preventive measures, including but not limited to surveys and investigations, engineering operations, works of improvement, and changes in use of land, in accordance with the Watershed Protection and Flood Prevention Act ( 16 U.S.C. 1001–1005 and 1007–1009) and in accordance with the provisions of laws relating to the activities of the Department, $150,000,000, to remain available until expended: Provided , That for funds provided by this Act or any other prio\n",
      " \n",
      "For necessary expenses for collecting, compiling, analyzing, preparing, and publishing statistics, provided for by law, $270,000,000: Provided , That, from amounts provided herein, funds may be used for promotion, outreach, and marketing activities.\n",
      " \n",
      "418.None of the funds made available by this or any other Act may be used to regulate the lead content of ammunition, ammunition components, or fishing tackle under the Toxic Substances Control Act ( 15 U.S.C. 2601 et seq.) or any other law.\n",
      " \n",
      "617.Notwithstanding section 708 of this Act, funds made available to the Commodity Futures Trading Commission and the Securities and Exchange Commission by this or any other Act may be used for the interagency funding and sponsorship of a joint advisory committee to advise on emerging regulatory issues.\n",
      " \n",
      "423.Section 31112(c) of title 49, United States Code, is amended—(1) in the subsection heading by striking and Kansas and inserting Kansas, and Oregon ;(2) in paragraph (4) by striking and at the end;(3) in paragraph (5) by striking the period at the end and inserting ; and ; and(4) by adding at the end the following: (6) Oregon may allow the operation of a truck tractor and 2 property-carrying units not in actual lawful operation on a regular or periodic basis on June 1, 1991, if— (A) the lengt\n",
      " \n",
      "704.Unless otherwise specified in law during the current fiscal year, no part of any appropriation contained in this or any other Act shall be used to pay the compensation of any officer or employee of the Government of the United States (including any agency the majority of the stock of which is owned by the Government of the United States) whose post of duty is in the continental United States unless such person: (1) is a citizen of the United States; (2) is a person who is lawfully admitted f\n",
      " \n",
      "625.None of the funds made available in this Act may be used by a governmental entity to require the disclosure by a provider of electronic communication service to the public or remote computing service of the contents of a wire or electronic communication that is in electronic storage with the provider (as such terms are defined in sections 2510 and 2711 of title 18, United States Code) in a manner that violates the Fourth Amendment to the Constitution of the United States.\n",
      " \n",
      "712.Of the funds made available by this Act, not more than $2,900,000 shall be used to cover necessary expenses of activities related to all advisory committees, panels, commissions, and task forces of the Department of Agriculture, except for panels used to comply with negotiated rule makings and panels used to evaluate competitively awarded grants.\n"
     ]
    }
   ],
   "source": [
    "import random\n",
    "for idx, lab in enumerate(hdb.labels_):\n",
    "    if lab == 12 and random.random() > .8:\n",
    "        print(\" \" )\n",
    "        print(raw_corpus[idx][:500])"
   ]
  },
  {
   "cell_type": "code",
   "execution_count": 47,
   "metadata": {},
   "outputs": [],
   "source": [
    "# Finally, a peek at what the clusterer could not cluster at all"
   ]
  },
  {
   "cell_type": "code",
   "execution_count": 48,
   "metadata": {},
   "outputs": [
    {
     "name": "stdout",
     "output_type": "stream",
     "text": [
      " \n",
      "For expenses necessary for the enforcement of antitrust and kindred laws, $164,977,000, to remain available until expended: Provided , That notwithstanding any other provision of law, fees collected for premerger notification filings under the Hart-Scott-Rodino Antitrust Improvements Act of 1976 ( 15 U.S.C. 18a ), regardless of the year of collection (and estimated to be $136,000,000 in fiscal year 2019), shall be retained and used for necessary expenses in this appropriation, and shall remain a\n",
      " \n",
      "415.None of the funds appropriated or otherwise made available under this Act may be used by the Surface Transportation Board to charge or collect any filing fee for rate or practice complaints filed with the Board in an amount in excess of the amount authorized for district court civil suit filing fees under section 1914 of title 28, United States Code.\n",
      " \n",
      "183.None of the funds in this Act shall be available for salaries and expenses of more than 125 political and Presidential appointees in the Department of Transportation: Provided , That none of the personnel covered by this provision may be assigned on temporary detail outside the Department of Transportation.\n",
      " \n",
      "For necessary expenses of the United States Secret Service for procurement, construction, and improvements, $97,131,000, to remain available until September 30, 2021.\n",
      " \n",
      "428.To support the key role that forests in the United States can play in addressing the energy needs of the United States, the Secretary of Energy, the Secretary of Agriculture, and the Administrator of the Environmental Protection Agency shall, consistent with their missions, jointly—(1) ensure that Federal policy relating to forest bioenergy— (A) is consistent across all Federal departments and agencies; and (B) recognizes the full benefits of the use of forest biomass for energy, conservatio\n",
      " \n",
      "105.Notwithstanding any other provision of law, the Secretary may furnish services (including but not limited to utilities, telecommunications, and security services) necessary to support the operation, maintenance, and improvement of space that persons, firms, or organizations are authorized, pursuant to the Public Buildings Cooperative Use Act of 1976 or other authority, to use or occupy in the Herbert C. Hoover Building, Washington, DC, or other buildings, the maintenance, operation, and prot\n",
      " \n",
      "227.Amounts made available under this Act which are either appropriated, allocated, advanced on a reimbursable basis, or transferred to the Office of Policy Development and Research in the Department of Housing and Urban Development and functions thereof, for research, evaluation, or statistical purposes, and which are unexpended at the time of completion of a contract, grant, or cooperative agreement, may be deobligated and shall immediately become available and may be reobligated in that fisca\n"
     ]
    }
   ],
   "source": [
    "for idx, lab in enumerate(hdb.labels_):\n",
    "    if lab == -1 and random.random() > .99:\n",
    "        print(\" \" )\n",
    "        print(raw_corpus[idx][:500])"
   ]
  },
  {
   "cell_type": "code",
   "execution_count": 49,
   "metadata": {},
   "outputs": [],
   "source": [
    "# and where's my butterfly? See above..."
   ]
  },
  {
   "cell_type": "code",
   "execution_count": 50,
   "metadata": {},
   "outputs": [
    {
     "data": {
      "text/plain": [
       "'231.None of the funds made available by this Act or prior Acts are available for the construction of pedestrian fencing—(1) within the Santa Ana Wildlife Refuge;(2) within the Bentsen-Rio Grande Valley State Park;(3) within La Lomita Historical park;(4) within the National Butterfly Center; or(5) within or east of the Vista del Mar Ranch tract of the Lower Rio Grande Valley National Wildlife Refuge.'"
      ]
     },
     "execution_count": 50,
     "metadata": {},
     "output_type": "execute_result"
    }
   ],
   "source": [
    "raw_corpus[234]"
   ]
  },
  {
   "cell_type": "code",
   "execution_count": 51,
   "metadata": {},
   "outputs": [
    {
     "data": {
      "text/plain": [
       "11"
      ]
     },
     "execution_count": 51,
     "metadata": {},
     "output_type": "execute_result"
    }
   ],
   "source": [
    "hdb.labels_[234]"
   ]
  }
 ],
 "metadata": {
  "kernelspec": {
   "display_name": "Python 3",
   "language": "python",
   "name": "python3"
  },
  "language_info": {
   "codemirror_mode": {
    "name": "ipython",
    "version": 3
   },
   "file_extension": ".py",
   "mimetype": "text/x-python",
   "name": "python",
   "nbconvert_exporter": "python",
   "pygments_lexer": "ipython3",
   "version": "3.6.8"
  }
 },
 "nbformat": 4,
 "nbformat_minor": 2
}
