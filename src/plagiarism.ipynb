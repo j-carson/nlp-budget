{
 "cells": [
  {
   "cell_type": "code",
   "execution_count": 1,
   "metadata": {},
   "outputs": [],
   "source": [
    "import pandas as pd\n",
    "import numpy as np \n",
    "\n",
    "from pathlib import Path"
   ]
  },
  {
   "cell_type": "code",
   "execution_count": 2,
   "metadata": {},
   "outputs": [],
   "source": [
    "from pattern.metrics import intertextuality"
   ]
  },
  {
   "cell_type": "code",
   "execution_count": 3,
   "metadata": {},
   "outputs": [],
   "source": [
    "from gensim.parsing.preprocessing import strip_punctuation, strip_numeric, strip_short"
   ]
  },
  {
   "cell_type": "code",
   "execution_count": 4,
   "metadata": {},
   "outputs": [],
   "source": [
    "docdir = Path('../data/docs')"
   ]
  },
  {
   "cell_type": "code",
   "execution_count": 5,
   "metadata": {},
   "outputs": [],
   "source": [
    "raw_corpus = []"
   ]
  },
  {
   "cell_type": "code",
   "execution_count": 6,
   "metadata": {},
   "outputs": [],
   "source": [
    "files = list(docdir.glob('*.body'))\n",
    "for f in files:\n",
    "    with open(f, 'r') as fp:\n",
    "        raw_corpus.append(fp.read())\n",
    "        fp.close()"
   ]
  },
  {
   "cell_type": "code",
   "execution_count": 15,
   "metadata": {},
   "outputs": [],
   "source": [
    "# results of the plagiarism check are definitely sensitive to the amount of preprocessing done\n",
    "# corpus = [ strip_punctuation(doc.lower()) for doc in raw_corpus ]\n",
    "corpus = [ strip_short(strip_numeric(strip_punctuation(doc.lower()))) for doc in raw_corpus ]"
   ]
  },
  {
   "cell_type": "code",
   "execution_count": 16,
   "metadata": {},
   "outputs": [],
   "source": [
    "# the smaller the n-gram level passed to the plagiarism checker, the slower it runs\n",
    "# and perhaps a bit less useful (interacts with preprocessing above)\n",
    "plag_check = intertextuality(corpus, n=3)"
   ]
  },
  {
   "cell_type": "code",
   "execution_count": 17,
   "metadata": {},
   "outputs": [
    {
     "data": {
      "text/plain": [
       "collections.defaultdict"
      ]
     },
     "execution_count": 17,
     "metadata": {},
     "output_type": "execute_result"
    }
   ],
   "source": [
    "type(plag_check)"
   ]
  },
  {
   "cell_type": "code",
   "execution_count": 18,
   "metadata": {},
   "outputs": [
    {
     "data": {
      "text/plain": [
       "648396"
      ]
     },
     "execution_count": 18,
     "metadata": {},
     "output_type": "execute_result"
    }
   ],
   "source": [
    "%matplotlib inline\n",
    "values = list(plag_check.values())\n",
    "len(values)"
   ]
  },
  {
   "cell_type": "code",
   "execution_count": 19,
   "metadata": {},
   "outputs": [
    {
     "data": {
      "text/plain": [
       "<matplotlib.axes._subplots.AxesSubplot at 0x1a4ab40d30>"
      ]
     },
     "execution_count": 19,
     "metadata": {},
     "output_type": "execute_result"
    },
    {
     "data": {
      "image/png": "[encoded data removed]",
      "text/plain": [
       "<Figure size 432x288 with 1 Axes>"
      ]
     },
     "metadata": {
      "needs_background": "light"
     },
     "output_type": "display_data"
    }
   ],
   "source": [
    "values = pd.Series(values)\n",
    "values.hist()"
   ]
  },
  {
   "cell_type": "code",
   "execution_count": 20,
   "metadata": {},
   "outputs": [
    {
     "data": {
      "text/plain": [
       "count    648396.000000\n",
       "mean          0.045694\n",
       "std           0.061933\n",
       "min           0.000375\n",
       "25%           0.011429\n",
       "50%           0.025424\n",
       "75%           0.055556\n",
       "max           1.000000\n",
       "dtype: float64"
      ]
     },
     "execution_count": 20,
     "metadata": {},
     "output_type": "execute_result"
    }
   ],
   "source": [
    "values.describe()"
   ]
  },
  {
   "cell_type": "code",
   "execution_count": 21,
   "metadata": {},
   "outputs": [],
   "source": [
    "original = []\n",
    "for i in range(len(corpus)):\n",
    "    plag_weight =  max([plag_check[i,j] for j in range(len(corpus)) if j != i ])\n",
    "    if plag_weight < 0.015:\n",
    "        original.append((i, plag_weight))"
   ]
  },
  {
   "cell_type": "code",
   "execution_count": 22,
   "metadata": {},
   "outputs": [
    {
     "data": {
      "text/plain": [
       "1"
      ]
     },
     "execution_count": 22,
     "metadata": {},
     "output_type": "execute_result"
    }
   ],
   "source": [
    "len(original)"
   ]
  },
  {
   "cell_type": "code",
   "execution_count": 23,
   "metadata": {},
   "outputs": [
    {
     "name": "stdout",
     "output_type": "stream",
     "text": [
      "\n",
      "-------- weight =   0.009345794392523364\n",
      "410.No timber sale in Alaska’s Region 10 shall be advertised if the indicated rate is deficit (defined as the value of the timber is not sufficient to cover all logging and stumpage costs and provide a normal profit and risk allowance under the Forest Service’s appraisal process) when appraised using a residual value appraisal. The western red cedar timber from those sales which is surplus to the needs of the domestic processors in Alaska, shall be made available to domestic processors in the contiguous 48 United States at prevailing domestic prices. All additional western red cedar volume not sold to Alaska or contiguous 48 United States domestic processors may be exported to foreign markets at the election of the timber sale holder. All Alaska yellow cedar may be sold at prevailing export prices at the election of the timber sale holder.\n"
     ]
    }
   ],
   "source": [
    "for idx,weight in original:\n",
    "    print('\\n-------- weight =  ', weight)\n",
    "    print(raw_corpus[idx])"
   ]
  },
  {
   "cell_type": "code",
   "execution_count": null,
   "metadata": {},
   "outputs": [],
   "source": []
  }
 ],
 "metadata": {
  "kernelspec": {
   "display_name": "Python 3",
   "language": "python",
   "name": "python3"
  },
  "language_info": {
   "codemirror_mode": {
    "name": "ipython",
    "version": 3
   },
   "file_extension": ".py",
   "mimetype": "text/x-python",
   "name": "python",
   "nbconvert_exporter": "python",
   "pygments_lexer": "ipython3",
   "version": "3.6.8"
  }
 },
 "nbformat": 4,
 "nbformat_minor": 2
}
