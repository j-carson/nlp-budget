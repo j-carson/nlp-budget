{
 "cells": [
  {
   "cell_type": "code",
   "execution_count": 2,
   "metadata": {},
   "outputs": [],
   "source": [
    "import pandas as pd\n",
    "import numpy as np \n",
    "\n",
    "from pathlib import Path"
   ]
  },
  {
   "cell_type": "code",
   "execution_count": 10,
   "metadata": {},
   "outputs": [],
   "source": [
    "from gensim import corpora\n",
    "from gensim.parsing.preprocessing import strip_non_alphanum, strip_numeric\n",
    "from gensim.parsing.preprocessing import strip_punctuation, strip_short, remove_stopwords\n",
    "from gensim.parsing.preprocessing import preprocess_string\n",
    "from gensim.utils import lemmatize\n",
    "from gensim.parsing.preprocessing import STOPWORDS as gs_stopwords"
   ]
  },
  {
   "cell_type": "code",
   "execution_count": 4,
   "metadata": {},
   "outputs": [],
   "source": [
    "import logging\n",
    "logging.basicConfig(format='%(asctime)s : %(levelname)s : %(message)s', level=logging.INFO)"
   ]
  },
  {
   "cell_type": "code",
   "execution_count": 5,
   "metadata": {},
   "outputs": [],
   "source": [
    "docdir = Path('../data/docs')"
   ]
  },
  {
   "cell_type": "code",
   "execution_count": 6,
   "metadata": {},
   "outputs": [],
   "source": [
    "raw_corpus = []"
   ]
  },
  {
   "cell_type": "code",
   "execution_count": 7,
   "metadata": {},
   "outputs": [],
   "source": [
    "files = list(docdir.glob('*.body'))\n",
    "for f in files:\n",
    "    with open(f, 'r') as fp:\n",
    "        raw_corpus.append(fp.read())\n",
    "        fp.close()"
   ]
  },
  {
   "cell_type": "code",
   "execution_count": 40,
   "metadata": {},
   "outputs": [],
   "source": [
    "corpus = []\n",
    "for doc in raw_corpus:\n",
    "    # from this lemmatization tutorial\n",
    "    # https://www.machinelearningplus.com/nlp/lemmatization-examples-python/\n",
    "    lemmatized = [wd.decode('utf-8').split('/')[0] for wd in lemmatize(doc, stopwords=gs_stopwords, min_length=4)]\n",
    "    corpus.append(lemmatized)\n"
   ]
  },
  {
   "cell_type": "code",
   "execution_count": null,
   "metadata": {},
   "outputs": [],
   "source": []
  },
  {
   "cell_type": "code",
   "execution_count": 41,
   "metadata": {},
   "outputs": [
    {
     "name": "stderr",
     "output_type": "stream",
     "text": [
      "2019-02-24 14:00:02,754 : INFO : adding document #0 to Dictionary(0 unique tokens: [])\n",
      "2019-02-24 14:00:02,838 : INFO : built Dictionary(4417 unique tokens: ['acquisition', 'aircraft', 'authorize', 'available', 'capital']...) from 1248 documents (total 93137 corpus positions)\n"
     ]
    }
   ],
   "source": [
    "dictionary = corpora.Dictionary(tokens for tokens in corpus)"
   ]
  },
  {
   "cell_type": "code",
   "execution_count": 13,
   "metadata": {},
   "outputs": [],
   "source": [
    "tokened_corpus = [dictionary.doc2bow(tokens) for tokens in corpus ]"
   ]
  },
  {
   "cell_type": "code",
   "execution_count": 14,
   "metadata": {},
   "outputs": [],
   "source": [
    "# dimensionality reduction\n",
    "from gensim.models import TfidfModel, LsiModel\n",
    "\n",
    "# first convert words to tfidf values\n",
    "tfidf = TfidfModel(dictionary=dictionary, normalize=True)\n",
    "vectored_corpus = [ tfidf[doc] for doc in tokened_corpus]"
   ]
  },
  {
   "cell_type": "code",
   "execution_count": 15,
   "metadata": {},
   "outputs": [
    {
     "name": "stderr",
     "output_type": "stream",
     "text": [
      "2019-02-23 19:16:56,510 : INFO : using serial LSI version on this node\n",
      "2019-02-23 19:16:56,511 : INFO : updating model with new documents\n",
      "2019-02-23 19:16:56,512 : INFO : using 100 extra samples and 3 power iterations\n",
      "2019-02-23 19:16:56,512 : INFO : 1st phase: constructing (4417, 300) action matrix\n",
      "2019-02-23 19:16:56,514 : INFO : PROGRESS: at document #0\n",
      "2019-02-23 19:16:56,621 : INFO : running power iteration #1\n",
      "2019-02-23 19:16:56,634 : INFO : PROGRESS: at document #0/1248\n",
      "2019-02-23 19:16:56,713 : INFO : running power iteration #2\n",
      "2019-02-23 19:16:56,718 : INFO : PROGRESS: at document #0/1248\n",
      "2019-02-23 19:16:56,788 : INFO : running power iteration #3\n",
      "2019-02-23 19:16:56,793 : INFO : PROGRESS: at document #0/1248\n",
      "2019-02-23 19:16:56,870 : INFO : 2nd phase: constructing (300, 300) covariance matrix\n",
      "2019-02-23 19:16:56,871 : INFO : PROGRESS: at document #0/1248\n",
      "2019-02-23 19:16:56,902 : INFO : running dense decomposition on (300, 300) covariance matrix\n",
      "2019-02-23 19:16:56,930 : INFO : computing the final decomposition\n",
      "2019-02-23 19:16:56,931 : INFO : keeping 200 factors (discarding 15.395% of energy spectrum)\n"
     ]
    }
   ],
   "source": [
    "# next do dimensionalty reduction\n",
    "lsi = LsiModel(corpus=vectored_corpus, num_topics=200, id2word=dictionary, onepass=False, power_iters=3)"
   ]
  },
  {
   "cell_type": "code",
   "execution_count": 16,
   "metadata": {},
   "outputs": [
    {
     "data": {
      "text/plain": [
       "(1248, 200)"
      ]
     },
     "execution_count": 16,
     "metadata": {},
     "output_type": "execute_result"
    }
   ],
   "source": [
    "lsi_corpus = [ lsi[doc] for doc in vectored_corpus ]\n",
    "\n",
    "lsi_array = np.array(lsi_corpus)\n",
    "lsi_array = lsi_array[:,:,1]\n",
    "lsi_array.shape"
   ]
  },
  {
   "cell_type": "code",
   "execution_count": 17,
   "metadata": {},
   "outputs": [
    {
     "name": "stderr",
     "output_type": "stream",
     "text": [
      "2019-02-23 19:17:00,343 : WARNING : scanning corpus to determine the number of features (consider setting `num_features` explicitly)\n",
      "2019-02-23 19:17:00,361 : INFO : creating matrix with 1248 documents and 200 features\n"
     ]
    }
   ],
   "source": [
    "from gensim import similarities\n",
    "\n",
    "index = similarities.MatrixSimilarity(lsi_corpus)"
   ]
  },
  {
   "cell_type": "code",
   "execution_count": 18,
   "metadata": {},
   "outputs": [],
   "source": [
    "sims = index[lsi_corpus]\n"
   ]
  },
  {
   "cell_type": "code",
   "execution_count": 19,
   "metadata": {},
   "outputs": [
    {
     "data": {
      "text/plain": [
       "(1248, 1248)"
      ]
     },
     "execution_count": 19,
     "metadata": {},
     "output_type": "execute_result"
    }
   ],
   "source": [
    "sims.shape"
   ]
  },
  {
   "cell_type": "code",
   "execution_count": 20,
   "metadata": {},
   "outputs": [],
   "source": [
    "df = pd.DataFrame(sims).agg(np.mean).sort_values().head(10)"
   ]
  },
  {
   "cell_type": "code",
   "execution_count": 21,
   "metadata": {},
   "outputs": [
    {
     "data": {
      "text/plain": [
       "930     0.012042\n",
       "271     0.013199\n",
       "967     0.013199\n",
       "352     0.014439\n",
       "763     0.016221\n",
       "806     0.016221\n",
       "90      0.017107\n",
       "575     0.017672\n",
       "804     0.018047\n",
       "1077    0.018047\n",
       "dtype: float32"
      ]
     },
     "execution_count": 21,
     "metadata": {},
     "output_type": "execute_result"
    }
   ],
   "source": [
    "df"
   ]
  },
  {
   "cell_type": "code",
   "execution_count": 22,
   "metadata": {},
   "outputs": [
    {
     "data": {
      "text/plain": [
       "array([[<matplotlib.axes._subplots.AxesSubplot object at 0x1a287d9240>,\n",
       "        <matplotlib.axes._subplots.AxesSubplot object at 0x1a28820668>,\n",
       "        <matplotlib.axes._subplots.AxesSubplot object at 0x1a28849be0>],\n",
       "       [<matplotlib.axes._subplots.AxesSubplot object at 0x1a2887b198>,\n",
       "        <matplotlib.axes._subplots.AxesSubplot object at 0x1a288a1710>,\n",
       "        <matplotlib.axes._subplots.AxesSubplot object at 0x1a288cac88>],\n",
       "       [<matplotlib.axes._subplots.AxesSubplot object at 0x1a29053240>,\n",
       "        <matplotlib.axes._subplots.AxesSubplot object at 0x1a290777f0>,\n",
       "        <matplotlib.axes._subplots.AxesSubplot object at 0x1a29077828>],\n",
       "       [<matplotlib.axes._subplots.AxesSubplot object at 0x1a290d32e8>,\n",
       "        <matplotlib.axes._subplots.AxesSubplot object at 0x1a290f8860>,\n",
       "        <matplotlib.axes._subplots.AxesSubplot object at 0x1a2911fdd8>]],\n",
       "      dtype=object)"
      ]
     },
     "execution_count": 22,
     "metadata": {},
     "output_type": "execute_result"
    },
    {
     "data": {
      "image/png": "[encoded data removed]",
      "text/plain": [
       "<Figure size 432x288 with 12 Axes>"
      ]
     },
     "metadata": {
      "needs_background": "light"
     },
     "output_type": "display_data"
    }
   ],
   "source": [
    "%matplotlib inline \n",
    "pd.DataFrame(sims).loc[:,df.index].hist()"
   ]
  },
  {
   "cell_type": "code",
   "execution_count": 25,
   "metadata": {},
   "outputs": [
    {
     "data": {
      "text/plain": [
       "'731.Unless otherwise authorized by existing law, none of the funds provided in this or any other Act may be used by an executive branch agency to produce any prepackaged news story intended for broadcast or distribution in the United States, unless the story includes a clear notification within the text or audio of the prepackaged news story that the prepackaged news story was prepared or funded by that executive branch agency.'"
      ]
     },
     "execution_count": 25,
     "metadata": {},
     "output_type": "execute_result"
    }
   ],
   "source": [
    "raw_corpus[271]"
   ]
  },
  {
   "cell_type": "code",
   "execution_count": 26,
   "metadata": {},
   "outputs": [
    {
     "data": {
      "text/plain": [
       "['authorize',\n",
       " 'exist',\n",
       " 'fund',\n",
       " 'provide',\n",
       " 'executive',\n",
       " 'branch',\n",
       " 'agency',\n",
       " 'produce',\n",
       " 'prepackage',\n",
       " 'news',\n",
       " 'story',\n",
       " 'intend',\n",
       " 'broadcast',\n",
       " 'distribution',\n",
       " 'united',\n",
       " 'states',\n",
       " 'story',\n",
       " 'include',\n",
       " 'clear',\n",
       " 'notification',\n",
       " 'text',\n",
       " 'audio',\n",
       " 'prepackage',\n",
       " 'news',\n",
       " 'story',\n",
       " 'prepackage',\n",
       " 'news',\n",
       " 'story',\n",
       " 'prepare',\n",
       " 'fund',\n",
       " 'executive',\n",
       " 'branch',\n",
       " 'agency']"
      ]
     },
     "execution_count": 26,
     "metadata": {},
     "output_type": "execute_result"
    }
   ],
   "source": [
    "corpus[271]"
   ]
  },
  {
   "cell_type": "code",
   "execution_count": 27,
   "metadata": {},
   "outputs": [
    {
     "data": {
      "text/plain": [
       "2136"
      ]
     },
     "execution_count": 27,
     "metadata": {},
     "output_type": "execute_result"
    }
   ],
   "source": [
    "dictionary.token2id['butterfly']"
   ]
  },
  {
   "cell_type": "code",
   "execution_count": 28,
   "metadata": {},
   "outputs": [
    {
     "name": "stdout",
     "output_type": "stream",
     "text": [
      "234\n"
     ]
    }
   ],
   "source": [
    "for i, doc in enumerate(tokened_corpus):\n",
    "    for entry in doc:\n",
    "        if entry[0] == 2136:\n",
    "            print(i)"
   ]
  },
  {
   "cell_type": "code",
   "execution_count": 30,
   "metadata": {},
   "outputs": [
    {
     "data": {
      "text/plain": [
       "HDBSCAN(algorithm='best', allow_single_cluster=False, alpha=1.0,\n",
       "    approx_min_span_tree=True, cluster_selection_method='eom',\n",
       "    core_dist_n_jobs=4, gen_min_span_tree=False, leaf_size=40,\n",
       "    match_reference_implementation=False, memory=Memory(location=None),\n",
       "    metric='euclidean', min_cluster_size=5, min_samples=None, p=None,\n",
       "    prediction_data=False)"
      ]
     },
     "execution_count": 30,
     "metadata": {},
     "output_type": "execute_result"
    }
   ],
   "source": [
    "# cluster with hdbscan\n",
    "import hdbscan\n",
    "hdb = hdbscan.HDBSCAN()\n",
    "hdb.fit(lsi_array)"
   ]
  },
  {
   "cell_type": "code",
   "execution_count": 31,
   "metadata": {},
   "outputs": [
    {
     "data": {
      "text/plain": [
       "array([-1, -1,  2, ...,  2, -1,  2])"
      ]
     },
     "execution_count": 31,
     "metadata": {},
     "output_type": "execute_result"
    }
   ],
   "source": [
    "hdb.labels_"
   ]
  },
  {
   "cell_type": "code",
   "execution_count": 32,
   "metadata": {},
   "outputs": [
    {
     "data": {
      "text/plain": [
       "3"
      ]
     },
     "execution_count": 32,
     "metadata": {},
     "output_type": "execute_result"
    }
   ],
   "source": [
    "hdb.labels_.max()"
   ]
  },
  {
   "cell_type": "code",
   "execution_count": 33,
   "metadata": {},
   "outputs": [],
   "source": [
    "outlier_docs = []\n",
    "\n",
    "for index, label in enumerate(hdb.labels_):\n",
    "    if label == -1:\n",
    "        outlier_docs.append(index)"
   ]
  },
  {
   "cell_type": "code",
   "execution_count": 34,
   "metadata": {},
   "outputs": [
    {
     "data": {
      "text/plain": [
       "471"
      ]
     },
     "execution_count": 34,
     "metadata": {},
     "output_type": "execute_result"
    }
   ],
   "source": [
    "len(outlier_docs)"
   ]
  },
  {
   "cell_type": "code",
   "execution_count": 35,
   "metadata": {},
   "outputs": [
    {
     "data": {
      "text/plain": [
       "(1248, 200)"
      ]
     },
     "execution_count": 35,
     "metadata": {},
     "output_type": "execute_result"
    }
   ],
   "source": [
    "lsi_array.shape"
   ]
  },
  {
   "cell_type": "code",
   "execution_count": null,
   "metadata": {},
   "outputs": [],
   "source": []
  }
 ],
 "metadata": {
  "kernelspec": {
   "display_name": "Python 3",
   "language": "python",
   "name": "python3"
  },
  "language_info": {
   "codemirror_mode": {
    "name": "ipython",
    "version": 3
   },
   "file_extension": ".py",
   "mimetype": "text/x-python",
   "name": "python",
   "nbconvert_exporter": "python",
   "pygments_lexer": "ipython3",
   "version": "3.6.8"
  }
 },
 "nbformat": 4,
 "nbformat_minor": 2
}
