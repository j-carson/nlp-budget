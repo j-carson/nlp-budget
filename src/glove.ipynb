{
 "cells": [
  {
   "cell_type": "code",
   "execution_count": 1,
   "metadata": {},
   "outputs": [],
   "source": [
    "import pandas as pd\n",
    "import numpy as np \n",
    "import re\n",
    "\n",
    "from pathlib import Path"
   ]
  },
  {
   "cell_type": "code",
   "execution_count": 2,
   "metadata": {},
   "outputs": [],
   "source": [
    "from gensim import corpora\n",
    "from gensim.utils import lemmatize\n",
    "from gensim.parsing.preprocessing import STOPWORDS as gs_stopwords\n",
    "from gensim.models import KeyedVectors"
   ]
  },
  {
   "cell_type": "code",
   "execution_count": 3,
   "metadata": {},
   "outputs": [],
   "source": [
    "import logging\n",
    "logging.basicConfig(format='%(asctime)s : %(levelname)s : %(message)s', level=logging.INFO)"
   ]
  },
  {
   "cell_type": "code",
   "execution_count": 4,
   "metadata": {},
   "outputs": [],
   "source": [
    "docdir = Path('../data/docs')"
   ]
  },
  {
   "cell_type": "code",
   "execution_count": 5,
   "metadata": {},
   "outputs": [],
   "source": [
    "raw_corpus = []"
   ]
  },
  {
   "cell_type": "code",
   "execution_count": 6,
   "metadata": {},
   "outputs": [],
   "source": [
    "files = list(docdir.glob('*.body'))\n",
    "for f in files:\n",
    "    with open(f, 'r') as fp:\n",
    "        raw_corpus.append(fp.read())\n",
    "        fp.close()"
   ]
  },
  {
   "cell_type": "code",
   "execution_count": 7,
   "metadata": {},
   "outputs": [],
   "source": [
    "# regex to remove three letter (or more) capitalized acronyms\n",
    "# also removes a plural acronym like HMOs by grabbing\n",
    "# until the end of the word\n",
    "tla = re.compile(r'[A-Z]{3,}\\S*?\\b')\n",
    "corpus = []\n",
    "for doc in raw_corpus:\n",
    "    doc = re.sub(tla,'',doc)\n",
    "    # from this lemmatization tutorial\n",
    "    # https://www.machinelearningplus.com/nlp/lemmatization-examples-python/\n",
    "    lemmatized = [wd.decode('utf-8').split('/')[0] for wd in lemmatize(doc, \n",
    "                                                                      min_length=4, stopwords=gs_stopwords)]\n",
    "    corpus.append(lemmatized)\n"
   ]
  },
  {
   "cell_type": "code",
   "execution_count": 8,
   "metadata": {},
   "outputs": [
    {
     "name": "stderr",
     "output_type": "stream",
     "text": [
      "2019-02-24 18:41:40,883 : INFO : adding document #0 to Dictionary(0 unique tokens: [])\n",
      "2019-02-24 18:41:41,020 : INFO : built Dictionary(4346 unique tokens: ['acquisition', 'aircraft', 'authorize', 'available', 'capital']...) from 1248 documents (total 92558 corpus positions)\n"
     ]
    }
   ],
   "source": [
    "dictionary = corpora.Dictionary(tokens for tokens in corpus)"
   ]
  },
  {
   "cell_type": "code",
   "execution_count": 9,
   "metadata": {},
   "outputs": [
    {
     "data": {
      "text/plain": [
       "dict"
      ]
     },
     "execution_count": 9,
     "metadata": {},
     "output_type": "execute_result"
    }
   ],
   "source": [
    "type(dictionary.dfs)"
   ]
  },
  {
   "cell_type": "code",
   "execution_count": 10,
   "metadata": {},
   "outputs": [
    {
     "data": {
      "text/plain": [
       "1647"
      ]
     },
     "execution_count": 10,
     "metadata": {},
     "output_type": "execute_result"
    }
   ],
   "source": [
    "rare_words = []\n",
    "for tokenid, count in dictionary.dfs.items():\n",
    "    if count < 2:\n",
    "        rare_words.append(dictionary[tokenid])\n",
    "len(rare_words)"
   ]
  },
  {
   "cell_type": "code",
   "execution_count": 11,
   "metadata": {},
   "outputs": [
    {
     "name": "stdout",
     "output_type": "stream",
     "text": [
      " moderately focused random randomized landlord promising forbid apprentice trainee unemployed delay postage\n",
      " suffrage deobligation rehire wellness dump heroin willing nonagricultural nonimmigrant committed practical\n",
      " liaison accessory exporter shipper barrel cylinder frame breech postmaster canadian maintained escalation\n",
      " helsinki reinsurance turkey turkish indictment stand coalition procedural elizabeth beach downgrade resiliency\n",
      " telemarketing correspondingly manifest packing grape varietal wine microorganism kindred dune retitle\n",
      " lakeshore nonapplication douglas redesignation miller assurance supreme cotton avian specialty zoonotic\n",
      " stockpile scrapie screwworm formulate brucellosis escort philosophical aids improper analytic confer\n",
      " alignment earlier afford roma escobare grulla salineno multiply redistribution burned furnished capitalized\n",
      " retardant equality raise setting marriage genital cutting mutilation constrain destabilizing neighboring\n",
      " abet peacebuilding lord uganda warning chad cameroon niger nigeria boko haram malawi ebola cancele darfur\n",
      " blue nile abyei referendum viable macroeconomic elephant rhinoceros tiger turtle healthplan refuse compliant\n",
      " adjudicate entrepreneurial microloan radicalization phenomenon root predatory behavior victimization\n",
      " restorative dismantlement unadopted generic biosimilar imported biologic scientist biotechnology nutritional\n",
      " mammography recall reinspection importer outsourcing distributor licensing monograph redecorate redecoration\n",
      " suite differential equipped spectrum sarbane oxley beginning programming unencumbered nonproject billable\n",
      " abandoned acid uncertified lander jupiter europa planetary decadal circulate coin numismatic coinage\n",
      " magistrate ocelot leopardu pardali alabama arizona arkansa colorado connecticut delaware illinois iowa\n",
      " louisiana maine massachusett michigan minnesota montana hampshire dakota ohio pennsylvania rhode utah\n",
      " vermont wisconsin wyoming marijuana nonrepayable refurnishing heating lighting cache uinta wasatch toiyabe\n",
      " angele bernardino sequoia cleveland ozark francis ouachita arkansas appealing overbuild protected safesite\n",
      " armored caravan automate outline redacted consistently virtue satisfactorily hospitalization sage grouse\n",
      " centrocercus distinct legitimacy fulbright edmund muskie smith lever mature unneeded lilly ledbetter\n",
      " nonmonetary repositioning legislature productive widespread breed feasibility consultancy referenced\n",
      " collected annuity shortage yacht homicide clearinghouse conveyance omitted poisoning intensive elevated\n",
      " productivity undersubscribed oversubscribe neotropical migratory olympic paralympic strict adherence\n",
      " unrecover absorptive institutional climate poach intact strife saharan latrine guaranty egyptian bail\n",
      " dismiss cairo gazette extrajudicial killing disappearance expeditious abus ballistic semi marla ruzicka\n",
      " iraqi lebanese professionalize sahara syrian legitimize proxy bashar assad inside judicially alleged\n",
      " fairly yemen firstnet hydrogenated adulterate guardianship durable santa refuge bentsen lomita butterfly\n",
      " vista ranch railway crossing deck suballocate latest learning rapid mainstream unsafe adjusted defective\n",
      " week nonreimbursable deficient decline harassment citrus greening regime gateway fault conditional preparatory\n",
      " recycling defect harmful residue genetically engineered download reproduce congestion readiness race\n",
      " oversee impass intermittently hear brady handgun geophysical gauge seismic tenure articulate published\n",
      " investor troubled dioxide nitrous oxide vapor methane nonfrivolous decent sanitary deficiency timetable\n",
      " mortgagee abate offered exclusionary infusion unsatisfactory curio relic honduras journey southwest migrant\n",
      " cooperatively prosperity triangle corrupt impunity vocational latin caribbean perpetrator deprivation\n",
      " unionist disciplinary riverine selecting haitian highland perkin strengthening postsecondary credential\n",
      " baccalaureate archived levin howard buck mckeon jerusalem jericho securitize commuter conserve soil siltation\n",
      " reservoir pollutant erect claimed allottee unrecoverable geostationary quick weekly book inadmissible\n",
      " apprehend fear enrollee immunization rehydration orphan polio neglected infect coercive birth acceptor\n",
      " quantitative bribe gratuity comprehensible inadvisable consequent pattern conscientious additionally\n",
      " counsele condom medically aquarium shot coating launder workfare drawdown tribunal yugoslavia translate\n",
      " proficiency reemployment andean counterdrug travele chartering accrual prescribed damaged purchaser exact\n",
      " owing ceremonial nonpolitical combined overflow alleviate inequity overlapping inaccurate trademark yearly\n",
      " impute leahy invent seed cultivate woodrow link examiner tourist revive jury curtail therefrom commissioned\n",
      " cohort satisfied volcanic eruption rancher environmentally village heightened exposure colonia enforceable\n",
      " zoning lack airshed particulate multipurpose seventh freedman incinerator temporarily demountable antidumping\n",
      " countervailing finally affix inscription email server automated messaging depart cognizant upkeep treasurer\n",
      " palau marshall federated britain employer preparer canine accelerant managing foreclosure demonstrably\n",
      " lasting belligerency acknowledgment demilitarized waterway occupiable usually avert preside repeatedly\n",
      " acting impartiality taught camp dignity auspice withheld montreal unsatisfied frivolous proceeding saltonstall\n",
      " prorate verifiable proration savings demolish disposed unification unassisted prepayment reissue turnover\n",
      " modeled geographical weigh density tested passing entail detonate painting portrait legalize derivative\n",
      " topography geology hydrology biology licensee deferred fusion reproduction responsive prioritization\n",
      " consensus unique harass voluntarily escrow calculation yield disparity disparate reliable consensual\n",
      " teterboro ranching wise talent layoff situational noncommercial subscribe callable carlo elementary dormitory\n",
      " accomplishment apart immersion jurisdictional educator buse piloting clemency biggert plain analyst ethanol\n",
      " flammable liquid petroleum ministry weakness achievable misuse addressed kleptocracy derogate sufficiently\n",
      " diamond accurately redaction commercially disadvantage transform mixed foreclosed packaging conscience\n",
      " extinguish possessory surrender originate vetting violated advisor david wherley adhere anaheim repossession\n",
      " pledged salmonid hatchery coho chinook marked visible fisher standardized courtroom timber indicated\n",
      " stumpage appraise cedar prevail yellow annexation crimea affirmative separatist occupation georgian abkhazia\n",
      " tskhinvali ossetia pressure automation fingerprint scorecard scorekeeping alaskan schooling league impediment\n",
      " regrettably disband normalize neighbor example penalize token save treasure landmark represented black\n",
      " magnetic levitation boll weevil highly fractionate pink bollworm depose coup état decree decisive align\n",
      " coral reef brown snake covenant reflow reopen materiel necessitate bahrain ethiopia nicaragua uzbekistan\n",
      " publically stolen intertribal pesticide insecticide fungicide rodenticide southeastern england domestically\n",
      " informer inherently multicultural evan allen remedial auxiliary trailer mangrove kelp tidal marsh seagrass\n",
      " meadow deacidify feedstock scalable software ingress egress senator statehood validity rollover repeatability\n",
      " reproducibility hangtag progressive pier dock landing elli sublease retailer staple breadth preventative\n",
      " entirety roadmap breakdown transporting taylor mailing concise informative aggression cybercrime disruption\n",
      " appendice philanthropic doctoral dissertation overstay hunt equitably reapportion duplication donate\n",
      " perpetrate physician overnight examine like fellow creditor error claimant whereabouts unknown eighth\n",
      " subleasing connectivity itemize earmark earmarked congressionally directed relending screen requested\n",
      " liable compensatory punitive contributory intentional wrongdoing checkpoint unintended checked offsite\n",
      " aerospace stimulate exhibit instrumentation reinstallation skeletal impossible unlikely americans motion\n",
      " picture blair shutdown stratospheric observatory infrared astronomy explain ingredient honey agave syrup\n",
      " maple battery midway needle syringe bequest devise graeme baker offering nonrefundable offshore waterline\n",
      " drilling gathering holling laborer reamortize floyd remodeling reforestation revested preclearance cancel\n",
      " upward cancellation multiclass cruel inhuman degrading punishment networking affirmatively underway accelerated\n",
      " unmarried dealer idaho scrutiny ideological terminated proportionally underpayment compatible announced\n",
      " prize theme unexpired lunar orbital cislunar discovery reconnaissance commencement rover moon supplant\n",
      " orientation receivable subaccount bioenergy simple unfair deceptive ticket predisaster derived manual\n",
      " systemic airworthiness safely efficiently magnuson steven registry clinical accredit healthcare deadline\n",
      " saudi arabia cyclist invalid irrevocable eleventh advancement aggravated prostitution acquired syndrome\n",
      " humane clarify manager steering levy buddhist fragile anthropology exhumation atrocity antiquity alleviation\n",
      " idea rulemake diplomacy abduction hague artistically culturally inhibit passport annuitant categorical\n",
      " antiterrorism reemploy constraint wartime feedback relevance collecting maximize pharmaceutical realistic\n",
      " stop pregnant recuperation individualized harm therapeutic restrain safest belt constrict immobilize\n",
      " holdback headquarter registered supervise journalistic shortwave wave venture privatization northeast\n",
      " corridor served nonforeign envision topic courteously impartial sexually wellhead groundwater outage\n",
      " discontinue frequency envoy persecute actor dire ethnicity livelihood undisbursed disconnected observe\n",
      " visit vein lode placer honest trained casualty tactical reconstitute instability inhumane helicopter\n",
      " landmine cluster munition submunition arming inhabit demilitarizing crowd tear excessive repress undemocratic\n",
      " reject depression submitted apportioning residency battlefield electioneering candidate expectation binding\n",
      " unpreventable presidentially modele plus performer undercover wagon hybrid conventionally fueled plug\n",
      " hydrogen stonegarden reevaluation euthanize licensed veterinarian epidemic dear colleague performed rogue\n",
      " facilitator proliferator launderer kingpin valuation alyce walter soboleff cable audiovisual logistical\n",
      " antarctic supersede mismanagement literacy tenancy socially uninvested forgone reduced blind preleas\n",
      " monument proclamation translation statutorily bedroom unoccupied economically nonviable mortgagor vacate\n",
      " lien lesser gonzale cyclic invitee extradite indict possibility kill extradition evacuate pamphlet booklet\n",
      " film confinement halfway custodial inholding consecutive wait hemisphere centralized purchasing nondomestic\n",
      " nonappropriated grantmake expressed analytical beneficial diligence punish lawsuit resettle comma footnote\n",
      " vegetable detoxification purchased referred breach suicide aftercare fall typically legally william natcher\n",
      " bowl owensboro julian carroll calvert nondivisible load dredge measuring equalize grantor headhouse beltsville\n",
      " maryland acceptance webb telescope iceland norway bacterial transfusion platelet oath minimis immunity\n",
      " generally nonprofits categorization presumptive awardee espionage sabotage chargeable lapsed null renovate\n",
      " generator mariner mobilize faculty depositor judgeship loaded containerized cargo multistate reliability\n",
      " unload loading phytosanitary repayable forecast meteorological dispatch necessity casework herbert hoover\n",
      " seat holocaust allocated benjamin gilman apprehension noncredit successfully standardization vaccination\n",
      " demographic traceability epidemiological separation infection diagnostic fieldwork knowingly grand renounce\n",
      " taliban pakistani improvise fertilizer shakil afridi osama laden trauma arbitrary rightful functioning\n",
      " peacetime lankan professionalism flexibility determined singapore australia incorporation jazz seasonal\n",
      " season collaborate bilaterally chinese implication timing noise compatibility runway incursion conveyor\n",
      " bulk successive larger properly flow roster hama hamas minister abovementioned dissolution wind tend\n",
      " feeding fractional telehealth breastfeeding infant containment mandated vendor moratorium subwatersh\n",
      " inefficient floodwater stream channel tributary erosion sediment dedicated showing promise semicolon\n",
      " taxable index convene orion lift mobile cadence crewed evictee partition substandard evict domicile relocatee\n",
      " homesite principally informational entrance theatrical musical amusement narrative gendarme multinational\n",
      " eating burning greenbook lump gorge scenic session disapprove realignment artwork artistic tenth lessor\n",
      " spent byproduct competency syndication favorable anticipation rowley signed focuse practitioner apprenticeship\n",
      " unlawfully freight inland distributing urbanize valid selective induction cyberspace repressive blogger\n",
      " circumvention bypass censorship technique authoritarian technological advantage securely audience censor\n",
      " minimize detrimental closed manure press codex alimentarius wetland fringe uninterrupted flooded onshore\n",
      " levee intrusive operationally deployed bollard fossil generating subsurface collectively modelling devote\n",
      " hardwood tariff chart nextgen companion controller airman charting cartography repurposed repurpose aggregation\n",
      " personally supervisory necessarily interpret supervised soundness executed borlaug irrespective demote\n",
      " seniority reassign prioritizing mentally addiction kevin avonte edward byrne survivability missing unidentified\n",
      " wrongful managed phone indigent collar armor vest coverdell debbie kirk bloodsworth exam parental recidivism\n",
      " replication swift success wear camera underlie listed customary remodel impaired driving commandant transcript\n",
      " testimony backfill sponsorship acknowledge investigational embryo heritable threatening volcano grasshopper\n",
      " mormon cricket assumption primacy resubmit continuity modified abrogation divestment decommission deconstruction\n",
      " excellence presuppression sodium intake truck tractor beet vale ontario nyssa imminently oriental quarantine\n",
      " collaborative ecological grassland calculated premises appurtenance calexico transmitted emphasis prospectuse\n",
      " denigrate deviate preexist noncareer round biweekly embassy proportional opening soft erbil beirut jakarta\n",
      " delhi resupply conclude healthier flooding surround importation shotgun adaptable handling inducement\n",
      " smallholder electricity blend morris udall thailand rakhine kachin karen microfinance rohingya viii ceasefire\n",
      " prospect initiated cambodia enshrine kingdom parliamentary chamber khmer undermine malicious intrusion\n",
      " database gulag trilateral tibet tibetan tradition india leader vietnam dioxin contaminate spray orange\n",
      " impairment cognitive amortizing aggregated debenture boat economist purview incidence isolation appreciation\n",
      " music impair taiwan understate refundable client incorporated inverted contracted median brownfields\n",
      " combustion deter copyright infringement admit outlined affidavit prima facie broadcaster translator nonresident\n",
      " snow categorize airfield pavement snowfall engine riegle alexandrium avenue boulevard george mount vernon\n",
      " peter webster plaque signpost bench placement wire shipyard snyder clothing making awarded motorcycle\n"
     ]
    }
   ],
   "source": [
    "wordlist = ''\n",
    "for word in rare_words:\n",
    "    wordlist = ' '.join([wordlist, word])\n",
    "    if len(wordlist) > 100:\n",
    "        print(wordlist)\n",
    "        wordlist = ''"
   ]
  },
  {
   "cell_type": "code",
   "execution_count": 12,
   "metadata": {},
   "outputs": [
    {
     "name": "stderr",
     "output_type": "stream",
     "text": [
      "2019-02-24 18:44:48,298 : INFO : loading projection weights from /Users/jlc/Downloads/glove.6B/glove.6B.100d.txt.w2v\n",
      "2019-02-24 18:45:22,184 : INFO : loaded (400000, 100) matrix from /Users/jlc/Downloads/glove.6B/glove.6B.100d.txt.w2v\n"
     ]
    }
   ],
   "source": [
    "glove_file = '/Users/jlc/Downloads/glove.6B/glove.6B.100d.txt'\n",
    "w2v_file = '/Users/jlc/Downloads/glove.6B/glove.6B.100d.txt.w2v'\n",
    "\n",
    "glove = KeyedVectors.load_word2vec_format(w2v_file, binary=False)"
   ]
  },
  {
   "cell_type": "code",
   "execution_count": 15,
   "metadata": {},
   "outputs": [
    {
     "data": {
      "text/plain": [
       "1580"
      ]
     },
     "execution_count": 15,
     "metadata": {},
     "output_type": "execute_result"
    }
   ],
   "source": [
    "for word in rare_words:\n",
    "    try:\n",
    "        glove.word_vec(word)\n",
    "    except:\n",
    "        rare_words.remove(word)\n",
    "len(rare_words)"
   ]
  },
  {
   "cell_type": "code",
   "execution_count": 17,
   "metadata": {},
   "outputs": [],
   "source": [
    "distance_arr = np.zeros((len(rare_words), len(rare_words)))\n",
    "\n",
    "for i, wordi in enumerate(rare_words):\n",
    "    for j, wordj in enumerate(rare_words):\n",
    "        if i < j:\n",
    "            distance_arr[i,j] = glove.distance(wordi, wordj)\n",
    "            distance_arr[j,i] = distance_arr[i,j]\n",
    "        elif i == j:\n",
    "            distance_arr[i,j] = 0"
   ]
  },
  {
   "cell_type": "code",
   "execution_count": 18,
   "metadata": {},
   "outputs": [],
   "source": [
    "import hdbscan"
   ]
  },
  {
   "cell_type": "code",
   "execution_count": 19,
   "metadata": {},
   "outputs": [],
   "source": [
    "hdb = hdbscan.HDBSCAN(metric='precomputed', approx_min_span_tree=False, cluster_selection_method='leaf')"
   ]
  },
  {
   "cell_type": "code",
   "execution_count": 20,
   "metadata": {},
   "outputs": [
    {
     "data": {
      "text/plain": [
       "HDBSCAN(algorithm='best', allow_single_cluster=False, alpha=1.0,\n",
       "    approx_min_span_tree=False, cluster_selection_method='leaf',\n",
       "    core_dist_n_jobs=4, gen_min_span_tree=False, leaf_size=40,\n",
       "    match_reference_implementation=False, memory=Memory(location=None),\n",
       "    metric='precomputed', min_cluster_size=5, min_samples=None, p=None,\n",
       "    prediction_data=False)"
      ]
     },
     "execution_count": 20,
     "metadata": {},
     "output_type": "execute_result"
    }
   ],
   "source": [
    "hdb.fit(distance_arr)"
   ]
  },
  {
   "cell_type": "code",
   "execution_count": 21,
   "metadata": {},
   "outputs": [],
   "source": [
    "labels = pd.Series(hdb.labels_)"
   ]
  },
  {
   "cell_type": "code",
   "execution_count": 22,
   "metadata": {},
   "outputs": [
    {
     "data": {
      "text/plain": [
       "-1    1422\n",
       " 6      53\n",
       " 5      29\n",
       " 4      26\n",
       " 7      24\n",
       " 3       7\n",
       " 2       7\n",
       " 1       6\n",
       " 0       6\n",
       "dtype: int64"
      ]
     },
     "execution_count": 22,
     "metadata": {},
     "output_type": "execute_result"
    }
   ],
   "source": [
    "labels.value_counts()"
   ]
  },
  {
   "cell_type": "code",
   "execution_count": 23,
   "metadata": {},
   "outputs": [
    {
     "name": "stdout",
     "output_type": "stream",
     "text": [
      "0 ['avian', 'aids', 'polio', 'epidemic', 'vaccination', 'infection']\n",
      "1 ['dioxide', 'oxide', 'vapor', 'methane', 'liquid', 'hydrogen']\n",
      "2 ['server', 'messaging', 'software', 'networking', 'cable', 'mobile', 'phone']\n",
      "3 ['indictment', 'alleged', 'tribunal', 'jury', 'extradition', 'lawsuit', 'infringement']\n",
      "4 ['alabama', 'arizona', 'colorado', 'connecticut', 'delaware', 'illinois', 'iowa', 'louisiana', 'maine', 'michigan', 'minnesota', 'montana', 'hampshire', 'dakota', 'ohio', 'pennsylvania', 'rhode', 'utah', 'vermont', 'wisconsin', 'wyoming', 'cleveland', 'arkansas', 'anaheim', 'idaho', 'maryland']\n",
      "5 ['turkish', 'uganda', 'cameroon', 'niger', 'nigeria', 'malawi', 'egyptian', 'iraqi', 'lebanese', 'syrian', 'yemen', 'regime', 'corrupt', 'britain', 'ministry', 'bahrain', 'ethiopia', 'saudi', 'arabia', 'taliban', 'pakistani', 'singapore', 'australia', 'chinese', 'repressive', 'thailand', 'cambodia', 'india', 'vietnam']\n",
      "6 ['focused', 'promising', 'delay', 'willing', 'practical', 'earlier', 'raise', 'refuse', 'beginning', 'fairly', 'latest', 'week', 'decline', 'offered', 'book', 'fear', 'lack', 'seventh', 'usually', 'example', 'highly', 'like', 'eighth', 'impossible', 'unlikely', 'explain', 'offering', 'announced', 'simple', 'idea', 'stop', 'reduced', 'possibility', 'film', 'consecutive', 'wait', 'fall', 'typically', 'generally', 'determined', 'showing', 'promise', 'musical', 'advantage', 'necessarily', 'interpret', 'success', 'acknowledge', 'round', 'opening', 'admit', 'making', 'away']\n"
     ]
    }
   ],
   "source": [
    "for i in range(7):\n",
    "    print(i, [w for iw, w in enumerate(rare_words) if labels[iw] == i])"
   ]
  },
  {
   "cell_type": "code",
   "execution_count": null,
   "metadata": {},
   "outputs": [],
   "source": []
  }
 ],
 "metadata": {
  "kernelspec": {
   "display_name": "Python 3",
   "language": "python",
   "name": "python3"
  },
  "language_info": {
   "codemirror_mode": {
    "name": "ipython",
    "version": 3
   },
   "file_extension": ".py",
   "mimetype": "text/x-python",
   "name": "python",
   "nbconvert_exporter": "python",
   "pygments_lexer": "ipython3",
   "version": "3.6.8"
  }
 },
 "nbformat": 4,
 "nbformat_minor": 2
}
