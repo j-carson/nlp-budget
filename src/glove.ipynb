{
 "cells": [
  {
   "cell_type": "markdown",
   "metadata": {},
   "source": [
    "# Glove\n",
    "\n",
    "In ths notebook, I'm trying to see if there\n",
    "are unique words that could be combined into larger categories to help\n",
    "documents match by using word similarity scores from a \n",
    "pretrained Glove model."
   ]
  },
  {
   "cell_type": "code",
   "execution_count": 78,
   "metadata": {},
   "outputs": [],
   "source": [
    "import pandas as pd\n",
    "import numpy as np \n",
    "\n",
    "from pathlib import Path\n",
    "\n",
    "from gensim import corpora\n",
    "from gensim.models import KeyedVectors\n",
    "\n",
    "from budget_corpus import read_documents\n",
    "\n",
    "import hdbscan"
   ]
  },
  {
   "cell_type": "code",
   "execution_count": 79,
   "metadata": {},
   "outputs": [],
   "source": [
    "corpus = read_documents()"
   ]
  },
  {
   "cell_type": "code",
   "execution_count": 80,
   "metadata": {},
   "outputs": [],
   "source": [
    "dictionary = corpora.Dictionary(tokens for tokens in corpus)"
   ]
  },
  {
   "cell_type": "code",
   "execution_count": 35,
   "metadata": {},
   "outputs": [],
   "source": [
    "glove_file = '/Users/jlc/Downloads/glove.6B/glove.6B.100d.txt'\n",
    "w2v_file = '/Users/jlc/Downloads/glove.6B/glove.6B.100d.txt.w2v'\n",
    "\n",
    "glove = KeyedVectors.load_word2vec_format(w2v_file, binary=False)"
   ]
  },
  {
   "cell_type": "code",
   "execution_count": 36,
   "metadata": {},
   "outputs": [
    {
     "data": {
      "text/plain": [
       "2839"
      ]
     },
     "execution_count": 36,
     "metadata": {},
     "output_type": "execute_result"
    }
   ],
   "source": [
    "rare_words = []\n",
    "for tokenid, count in dictionary.dfs.items():\n",
    "    if count < 5:\n",
    "        rare_words.append(dictionary[tokenid])\n",
    "\n",
    "prune = []\n",
    "for word in rare_words:\n",
    "    try:\n",
    "        glove.word_vec(word)\n",
    "    except KeyError:\n",
    "        prune.append(word)\n",
    "        \n",
    "for word in prune:\n",
    "    rare_words.remove(word)\n",
    "    \n",
    "len(rare_words)\n"
   ]
  },
  {
   "cell_type": "code",
   "execution_count": 37,
   "metadata": {},
   "outputs": [],
   "source": [
    "distance_arr = np.zeros((len(rare_words), len(rare_words)))\n",
    "\n",
    "for i, wordi in enumerate(rare_words):\n",
    "    for j, wordj in enumerate(rare_words):\n",
    "        if i < j:\n",
    "            distance_arr[i,j] = glove.distance(wordi, wordj)\n",
    "            distance_arr[j,i] = distance_arr[i,j]\n",
    "        elif i == j:\n",
    "            distance_arr[i,j] = 0"
   ]
  },
  {
   "cell_type": "code",
   "execution_count": 73,
   "metadata": {},
   "outputs": [],
   "source": [
    "hdb = hdbscan.HDBSCAN(metric='precomputed', \n",
    "                      approx_min_span_tree=False, \n",
    "                      cluster_selection_method='leaf',\n",
    "                     alpha=.0001)"
   ]
  },
  {
   "cell_type": "code",
   "execution_count": 74,
   "metadata": {},
   "outputs": [
    {
     "data": {
      "text/plain": [
       "HDBSCAN(algorithm='best', allow_single_cluster=False, alpha=0.0001,\n",
       "    approx_min_span_tree=False, cluster_selection_method='leaf',\n",
       "    core_dist_n_jobs=4, gen_min_span_tree=False, leaf_size=40,\n",
       "    match_reference_implementation=False, memory=Memory(location=None),\n",
       "    metric='precomputed', min_cluster_size=5, min_samples=None, p=None,\n",
       "    prediction_data=False)"
      ]
     },
     "execution_count": 74,
     "metadata": {},
     "output_type": "execute_result"
    }
   ],
   "source": [
    "hdb.fit(distance_arr)"
   ]
  },
  {
   "cell_type": "code",
   "execution_count": 75,
   "metadata": {},
   "outputs": [],
   "source": [
    "labels = pd.Series(hdb.labels_)"
   ]
  },
  {
   "cell_type": "code",
   "execution_count": 76,
   "metadata": {},
   "outputs": [
    {
     "data": {
      "text/plain": [
       "-1     2154\n",
       " 57      34\n",
       " 58      18\n",
       " 25      16\n",
       " 4       16\n",
       " 60      16\n",
       " 48      15\n",
       " 13      15\n",
       " 16      15\n",
       " 65      14\n",
       " 41      14\n",
       " 34      13\n",
       " 21      12\n",
       " 64      11\n",
       " 63      11\n",
       " 17      11\n",
       " 75      11\n",
       " 27      11\n",
       " 45      10\n",
       " 56      10\n",
       " 39      10\n",
       " 49      10\n",
       " 52      10\n",
       " 70      10\n",
       " 72       9\n",
       " 19       9\n",
       " 40       9\n",
       " 79       9\n",
       " 54       9\n",
       " 31       9\n",
       "       ... \n",
       " 32       6\n",
       " 28       6\n",
       " 42       6\n",
       " 80       6\n",
       " 66       6\n",
       " 11       6\n",
       " 51       6\n",
       " 15       6\n",
       " 47       6\n",
       " 77       6\n",
       " 3        5\n",
       " 18       5\n",
       " 2        5\n",
       " 69       5\n",
       " 6        5\n",
       " 59       5\n",
       " 10       5\n",
       " 55       5\n",
       " 14       5\n",
       " 53       5\n",
       " 20       5\n",
       " 5        5\n",
       " 76       5\n",
       " 68       5\n",
       " 26       5\n",
       " 33       5\n",
       " 23       5\n",
       " 78       5\n",
       " 7        5\n",
       " 0        5\n",
       "Length: 82, dtype: int64"
      ]
     },
     "execution_count": 76,
     "metadata": {},
     "output_type": "execute_result"
    }
   ],
   "source": [
    "labels.value_counts()"
   ]
  },
  {
   "cell_type": "code",
   "execution_count": 86,
   "metadata": {},
   "outputs": [
    {
     "name": "stdout",
     "output_type": "stream",
     "text": [
      "--- word cluster 0 ----\n",
      "['link', 'particulate']\n",
      "--- word cluster 1 ----\n",
      "['count', 'ideological']\n",
      "--- word cluster 2 ----\n",
      "['ally', 'maryland']\n",
      "--- word cluster 3 ----\n",
      "['daily', 'apprehend', 'therapeutic', 'safest']\n",
      "--- word cluster 4 ----\n",
      "['hear', 'portrait', 'physically', 'history', 'antiterrorism', 'carroll', 'singapore', 'soundness']\n",
      "--- word cluster 5 ----\n",
      "['quota', 'repay', 'intentionally', 'centralized']\n",
      "--- word cluster 6 ----\n",
      "['iowa', 'siltation', 'piloting']\n",
      "--- word cluster 7 ----\n",
      "['probation', 'fulbright']\n",
      "--- word cluster 8 ----\n",
      "['undersubscribed', 'del']\n",
      "--- word cluster 9 ----\n",
      "['kind', 'responsive', 'coral', 'notified']\n",
      "--- word cluster 10 ----\n",
      "['vegetable', 'fruit', 'detoxification', 'clinic', 'breach', 'suicide', 'aftercare']\n",
      "--- word cluster 11 ----\n",
      "[]\n",
      "--- word cluster 12 ----\n",
      "['cumulative', 'man', 'residential']\n",
      "--- word cluster 13 ----\n",
      "['aids', 'quarters', 'light', 'blogger']\n",
      "--- word cluster 14 ----\n",
      "['mint', 'pretrial', 'instant', 'uniformed', 'rename', 'comma', 'targeted']\n",
      "--- word cluster 15 ----\n",
      "['residue', 'pathogen', 'methane', 'hatchery']\n",
      "--- word cluster 16 ----\n",
      "['egyptian', 'pro', 'revitalize', 'disruption', 'steering', 'footnote']\n",
      "--- word cluster 17 ----\n",
      "['trainee', 'architectural', 'decline', 'hydrogen', 'audience']\n",
      "--- word cluster 18 ----\n",
      "['nonmonetary', 'outweigh', 'yacht', 'deal', 'engineer', 'repayable', 'press']\n",
      "--- word cluster 19 ----\n",
      "['firefighting', 'licensee', 'cruel']\n",
      "--- word cluster 20 ----\n",
      "['supervise', 'generating']\n",
      "--- word cluster 21 ----\n",
      "['sanctuary', 'cartel', 'tolerance', 'rollover', 'managed', 'rakhine']\n",
      "--- word cluster 22 ----\n",
      "['collected', 'defective', 'question', 'levitation', 'shakil', 'sponsorship']\n",
      "--- word cluster 23 ----\n",
      "['subscriber', 'red', 'retailer', 'threatening', 'volcano']\n",
      "--- word cluster 24 ----\n",
      "['soviet', 'scientist', 'erect', 'blair']\n",
      "--- word cluster 25 ----\n",
      "['discrimination', 'trademark', 'educator', 'unmarried', 'success']\n",
      "--- word cluster 26 ----\n",
      "['perkin', 'baccalaureate', 'belt', 'sexually', 'visit']\n",
      "--- word cluster 27 ----\n",
      "['idaho', 'seasonal']\n",
      "--- word cluster 28 ----\n",
      "['admission', 'licensing', 'feasibility', 'instance', 'claimed', 'unrecoverable', 'erroneous']\n",
      "--- word cluster 29 ----\n",
      "['recover', 'remote', 'bribe', 'painting', 'materiel', 'faculty', 'demographic']\n",
      "--- word cluster 30 ----\n",
      "['inequity', 'provisos', 'saint', 'stolen', 'soft']\n",
      "--- word cluster 31 ----\n",
      "[]\n",
      "--- word cluster 32 ----\n",
      "['intensive', 'somalia']\n",
      "--- word cluster 33 ----\n",
      "['damaged', 'demolish', 'audiovisual']\n",
      "--- word cluster 34 ----\n",
      "['theft', 'deemed']\n",
      "--- word cluster 35 ----\n",
      "['ohio', 'restructuring', 'programme', 'woodrow', 'reinstallation', 'saudi', 'riegle']\n",
      "--- word cluster 36 ----\n",
      "['biologic', 'spectrum', 'illegal', 'elevated', 'progressive']\n",
      "--- word cluster 37 ----\n",
      "['comment', 'equity', 'fisher', 'prevail', 'affirmative', 'defray']\n",
      "--- word cluster 38 ----\n",
      "['satisfaction', 'yellow', 'tskhinvali', 'pressure']\n",
      "--- word cluster 39 ----\n",
      "['viable', 'generation']\n",
      "--- word cluster 40 ----\n",
      "['latest', 'display', 'delineation', 'dioxide', 'liquidate', 'timetable', 'effectuate', 'unionist', 'combined', 'capitalization', 'messaging', 'adhere', 'euthanize', 'amusement', 'narrative', 'lump', 'tenth']\n",
      "--- word cluster 41 ----\n",
      "['neotropical', 'proper', 'occupancy', 'derivative', 'proliferator', 'referred', 'rohingya']\n",
      "--- word cluster 42 ----\n",
      "['logistic', 'monograph']\n",
      "--- word cluster 43 ----\n",
      "['parole', 'taliban', 'culture', 'handling', 'inducement', 'smallholder']\n",
      "--- word cluster 44 ----\n",
      "['barrel', 'recreation', 'void', 'cluster']\n",
      "--- word cluster 45 ----\n",
      "['promising', 'biomedical', 'outline', 'inappropriate', 'reissue', 'turnover', 'grain', 'opening']\n",
      "--- word cluster 46 ----\n",
      "['setting', 'defendant', 'appraisal', 'holling', 'registered', 'television', 'corridor', 'reevaluation']\n",
      "--- word cluster 47 ----\n",
      "['processor', 'occupation', 'abkhazia', 'presumptive', 'depositor', 'seaport', 'loaded', 'containerized', 'noncredit', 'separation', 'viii']\n",
      "--- word cluster 48 ----\n",
      "['wood', 'weekly', 'mode', 'breadth']\n",
      "--- word cluster 49 ----\n",
      "['equality', 'repositioning', 'standing', 'saltonstall', 'academic', 'alyce', 'vacate']\n",
      "--- word cluster 50 ----\n",
      "['cohort', 'gov', 'regularly']\n",
      "--- word cluster 51 ----\n",
      "['carolina', 'practical', 'variety', 'biotechnology', 'introduction']\n",
      "--- word cluster 52 ----\n",
      "['nonimmigrant', 'trail', 'redesignation', 'mile', 'leasing', 'partition']\n",
      "--- word cluster 53 ----\n",
      "['manager', 'floodwater']\n",
      "--- word cluster 54 ----\n",
      "['colorado', 'selecting', 'nonviable', 'erosion', 'orion', 'ill']\n",
      "--- word cluster 55 ----\n",
      "['appurtenant', 'imported', 'demand']\n",
      "--- word cluster 56 ----\n",
      "['agro', 'indigenous', 'preside', 'tower', 'rodenticide', 'conclude', 'conformity']\n",
      "--- word cluster 57 ----\n",
      "['merit', 'opposition', 'demilitarized', 'modeled', 'gathering', 'shotgun']\n",
      "--- word cluster 58 ----\n",
      "['lever', 'translate', 'forgiveness', 'fit', 'indicate']\n",
      "--- word cluster 59 ----\n",
      "['grow', 'harvesting', 'san', 'ozark', 'taxation', 'qualification', 'mortgagor', 'confinement', 'stream']\n",
      "--- word cluster 60 ----\n",
      "['marijuana', 'forced', 'korea', 'near', 'latin', 'accurate', 'philanthropic']\n",
      "--- word cluster 61 ----\n",
      "['reproduce', 'egress', 'directed']\n",
      "--- word cluster 62 ----\n",
      "['suffrage', 'retardant', 'egypt', 'rebate']\n",
      "--- word cluster 63 ----\n",
      "['female', 'credibly', 'dwelling']\n",
      "--- word cluster 64 ----\n",
      "['receiver', 'bar', 'reinspection', 'vaccine', 'heating', 'pan', 'levin', 'ranching', 'sufficiently', 'unmanned']\n",
      "--- word cluster 65 ----\n",
      "['paul', 'childhood', 'column', 'marshall', 'manufactured', 'compatible', 'burros']\n",
      "--- word cluster 66 ----\n",
      "['expected', 'heritage', 'inconsistent', 'hampshire', 'edmund', 'interdict', 'lethal', 'legitimize', 'penalize', 'uzbekistan']\n",
      "--- word cluster 67 ----\n",
      "['missouri', 'combatant', 'behavior', 'tract', 'focus']\n",
      "--- word cluster 68 ----\n",
      "['highest', 'turkey', 'darfur', 'dismantlement', 'vista', 'deck', 'andean', 'dietary', 'americans', 'observer']\n",
      "--- word cluster 69 ----\n",
      "['shipping', 'guatemala', 'ticket']\n",
      "--- word cluster 70 ----\n",
      "['uganda', 'abyei', 'secretariat', 'uncertified', 'micronesia', 'clearly', 'disciplinary', 'trailer', 'islamic', 'northeast', 'halfway', 'australia', 'moratorium']\n",
      "--- word cluster 71 ----\n",
      "['choice', 'pattern', 'prevailing', 'snake']\n",
      "--- word cluster 72 ----\n",
      "['illinois', 'harry', 'lab', 'medically']\n",
      "--- word cluster 73 ----\n",
      "['shelter', 'existence', 'magnuson', 'aggravated']\n",
      "--- word cluster 74 ----\n",
      "['label', 'ballistic', 'journalist', 'unemployment']\n",
      "--- word cluster 75 ----\n",
      "['disseminate', 'symbol', 'manufacture', 'save', 'jame', 'burn', 'bollard']\n",
      "--- word cluster 76 ----\n",
      "['wine', 'infectious', 'navajo', 'diminish', 'pedestrian', 'redistribution', 'incinerator', 'auditing', 'email', 'discontinuance', 'bioenergy', 'standardization']\n",
      "--- word cluster 77 ----\n",
      "['appealing', 'distinct', 'mammal', 'incremental', 'shot', 'outcome', 'vulnerability', 'cognizant', 'farming', 'traditional', 'remodeling', 'vii']\n",
      "--- word cluster 78 ----\n",
      "['sage', 'extrajudicial', 'reallocation', 'frivolous']\n",
      "--- word cluster 79 ----\n",
      "['exclusion', 'campaign', 'negative', 'confirmation', 'sheikh']\n",
      "--- word cluster 80 ----\n",
      "['douglas', 'handgun', 'context', 'proficiency', 'prescribed', 'hour', 'deferred', 'equally', 'awardee']\n"
     ]
    }
   ],
   "source": [
    "for i in range(81):\n",
    "    print(f'--- word cluster {i} ----')\n",
    "    print([w for iw, w in enumerate(rare_words) if labels[iw] == i])"
   ]
  },
  {
   "cell_type": "markdown",
   "metadata": {},
   "source": [
    "Some of these are pretty interesting:  Cluster 1 points to environmental issues, cluster 5 human rights, cluster 7 to education, cluster 10 to public health. Cluster 0 is maybe words ending in 'e'?? Looking at cluster 15, I get the impression that glove is better at clustering nouns (at least in English)."
   ]
  },
  {
   "cell_type": "markdown",
   "metadata": {},
   "source": [
    "# and what words are closest to butterfly? \n",
    "\n",
    "Butterfly was unclustered, but we can still look at the distance\n",
    "array and see what is closest."
   ]
  },
  {
   "cell_type": "code",
   "execution_count": 43,
   "metadata": {},
   "outputs": [
    {
     "data": {
      "text/plain": [
       "838"
      ]
     },
     "execution_count": 43,
     "metadata": {},
     "output_type": "execute_result"
    }
   ],
   "source": [
    "rare_words.index('butterfly')"
   ]
  },
  {
   "cell_type": "code",
   "execution_count": 44,
   "metadata": {},
   "outputs": [
    {
     "data": {
      "text/plain": [
       "array([0.96288221, 0.87520699, 0.891026  , ..., 1.0781585 , 0.81129131,\n",
       "       0.98257685])"
      ]
     },
     "execution_count": 44,
     "metadata": {},
     "output_type": "execute_result"
    }
   ],
   "source": [
    "distance_arr[838]"
   ]
  },
  {
   "cell_type": "code",
   "execution_count": 45,
   "metadata": {},
   "outputs": [],
   "source": [
    "series = pd.Series(distance_arr[838])"
   ]
  },
  {
   "cell_type": "code",
   "execution_count": 65,
   "metadata": {},
   "outputs": [
    {
     "data": {
      "text/plain": [
       "838     0.000000\n",
       "206     0.512884\n",
       "398     0.529767\n",
       "708     0.534224\n",
       "1966    0.576681\n",
       "362     0.592149\n",
       "710     0.594837\n",
       "357     0.599054\n",
       "213     0.599221\n",
       "204     0.606453\n",
       "dtype: float64"
      ]
     },
     "execution_count": 65,
     "metadata": {},
     "output_type": "execute_result"
    }
   ],
   "source": [
    "series.sort_values().head(10)"
   ]
  },
  {
   "cell_type": "code",
   "execution_count": 66,
   "metadata": {},
   "outputs": [],
   "source": [
    "words = series.sort_values().head(10).index"
   ]
  },
  {
   "cell_type": "code",
   "execution_count": 67,
   "metadata": {},
   "outputs": [
    {
     "data": {
      "text/plain": [
       "['butterfly',\n",
       " 'bird',\n",
       " 'wild',\n",
       " 'olympic',\n",
       " 'cat',\n",
       " 'turtle',\n",
       " 'paralympic',\n",
       " 'elephant',\n",
       " 'tree',\n",
       " 'insect']"
      ]
     },
     "execution_count": 67,
     "metadata": {},
     "output_type": "execute_result"
    }
   ],
   "source": [
    "printable = [ rare_words[i] for i in words ] \n",
    "printable "
   ]
  },
  {
   "cell_type": "markdown",
   "metadata": {},
   "source": [
    "# Expanding to the full dictionary \n"
   ]
  },
  {
   "cell_type": "code",
   "execution_count": 62,
   "metadata": {},
   "outputs": [
    {
     "data": {
      "text/plain": [
       "4291"
      ]
     },
     "execution_count": 62,
     "metadata": {},
     "output_type": "execute_result"
    }
   ],
   "source": [
    "all_words = list(dictionary.values())\n",
    "\n",
    "prune = []\n",
    "for word in all_words:\n",
    "    try:\n",
    "        glove.word_vec(word)\n",
    "    except KeyError:\n",
    "        prune.append(word)\n",
    "\n",
    "for word in prune:\n",
    "    all_words.remove(word)\n",
    "    \n",
    "len(all_words)"
   ]
  },
  {
   "cell_type": "code",
   "execution_count": null,
   "metadata": {},
   "outputs": [],
   "source": []
  },
  {
   "cell_type": "code",
   "execution_count": 50,
   "metadata": {},
   "outputs": [],
   "source": [
    "all_distance_arr = np.zeros((len(all_words), len(all_words)))\n",
    "\n",
    "for i, wordi in enumerate(all_words):\n",
    "    for j, wordj in enumerate(all_words):\n",
    "        if i < j:\n",
    "            all_distance_arr[i,j] = glove.distance(wordi, wordj)\n",
    "            all_distance_arr[j,i] = all_distance_arr[i,j]\n",
    "        elif i == j:\n",
    "            all_distance_arr[i,j] = 0"
   ]
  },
  {
   "cell_type": "code",
   "execution_count": 81,
   "metadata": {},
   "outputs": [],
   "source": [
    "hdb = hdbscan.HDBSCAN(metric='precomputed', \n",
    "                      approx_min_span_tree=False, \n",
    "                      cluster_selection_method='leaf', \n",
    "                     alpha=.0001)"
   ]
  },
  {
   "cell_type": "code",
   "execution_count": 82,
   "metadata": {},
   "outputs": [
    {
     "data": {
      "text/plain": [
       "HDBSCAN(algorithm='best', allow_single_cluster=False, alpha=0.0001,\n",
       "    approx_min_span_tree=False, cluster_selection_method='leaf',\n",
       "    core_dist_n_jobs=4, gen_min_span_tree=False, leaf_size=40,\n",
       "    match_reference_implementation=False, memory=Memory(location=None),\n",
       "    metric='precomputed', min_cluster_size=5, min_samples=None, p=None,\n",
       "    prediction_data=False)"
      ]
     },
     "execution_count": 82,
     "metadata": {},
     "output_type": "execute_result"
    }
   ],
   "source": [
    "hdb.fit(all_distance_arr)"
   ]
  },
  {
   "cell_type": "code",
   "execution_count": 83,
   "metadata": {},
   "outputs": [],
   "source": [
    "labels = pd.Series(hdb.labels_)"
   ]
  },
  {
   "cell_type": "code",
   "execution_count": 84,
   "metadata": {},
   "outputs": [
    {
     "data": {
      "text/plain": [
       "-1      3359\n",
       " 95       28\n",
       " 40       23\n",
       " 70       20\n",
       " 98       20\n",
       " 4        16\n",
       " 109      16\n",
       " 77       15\n",
       " 94       15\n",
       " 76       14\n",
       " 88       13\n",
       " 68       13\n",
       " 108      12\n",
       " 111      12\n",
       " 21       12\n",
       " 56       12\n",
       " 14       12\n",
       " 92       12\n",
       " 22       12\n",
       " 47       12\n",
       " 35       11\n",
       " 64       11\n",
       " 60       11\n",
       " 10       11\n",
       " 102      11\n",
       " 104      11\n",
       " 112      10\n",
       " 59       10\n",
       " 45       10\n",
       " 84       10\n",
       "        ... \n",
       " 107       5\n",
       " 103       5\n",
       " 99        5\n",
       " 91        5\n",
       " 87        5\n",
       " 67        5\n",
       " 63        5\n",
       " 51        5\n",
       " 39        5\n",
       " 27        5\n",
       " 15        5\n",
       " 11        5\n",
       " 3         5\n",
       " 110       5\n",
       " 90        5\n",
       " 78        5\n",
       " 62        5\n",
       " 50        5\n",
       " 42        5\n",
       " 38        5\n",
       " 34        5\n",
       " 30        5\n",
       " 6         5\n",
       " 113       5\n",
       " 105       5\n",
       " 81        5\n",
       " 73        5\n",
       " 69        5\n",
       " 61        5\n",
       " 0         5\n",
       "Length: 117, dtype: int64"
      ]
     },
     "execution_count": 84,
     "metadata": {},
     "output_type": "execute_result"
    }
   ],
   "source": [
    "labels.value_counts()"
   ]
  },
  {
   "cell_type": "code",
   "execution_count": null,
   "metadata": {},
   "outputs": [],
   "source": []
  },
  {
   "cell_type": "code",
   "execution_count": 85,
   "metadata": {},
   "outputs": [
    {
     "name": "stdout",
     "output_type": "stream",
     "text": [
      "--- word cluster 0 ----\n",
      "['abyei', 'kordofan', 'kachin', 'rakhine', 'rohingya']\n",
      "--- word cluster 1 ----\n",
      "['grulla', 'abus', 'état', 'totale', 'holdback', 'minimis', 'alexandrium']\n",
      "--- word cluster 2 ----\n",
      "['cooperator', 'mortgagee', 'annuitant', 'submunition', 'mortgagor']\n",
      "--- word cluster 3 ----\n",
      "['grande', 'rio', 'del', 'mar', 'vale']\n",
      "--- word cluster 4 ----\n",
      "['redesignate', 'reinspection', 'commingle', 'disaggregate', 'adulterate', 'effectuate', 'securitize', 'impute', 'prorate', 'derogate', 'reflow', 'sublease', 'subleasing', 'urbanize', 'repurpose', 'repurposed']\n",
      "--- word cluster 5 ----\n",
      "['relocation', 'demobilization', 'reintegration', 'repatriation', 'resettlement']\n",
      "--- word cluster 6 ----\n",
      "['allocation', 'allocate', 'disburse', 'earmarked', 'allocated']\n",
      "--- word cluster 7 ----\n",
      "['temporary', 'permanent', 'disruption', 'shutdown', 'outage', 'closure']\n",
      "--- word cluster 8 ----\n",
      "['reimbursement', 'allowance', 'deduction', 'deduct', 'tuition']\n",
      "--- word cluster 9 ----\n",
      "['uniform', 'furniture', 'fashion', 'store', 'retailer', 'chain', 'wear', 'clothing']\n",
      "--- word cluster 10 ----\n",
      "['carbon', 'dioxide', 'emission', 'methane', 'nitrous', 'oxide', 'vapor', 'liquid', 'hydrogen', 'greenhouse', 'combustion']\n",
      "--- word cluster 11 ----\n",
      "['exploration', 'drilling', 'offshore', 'rig', 'onshore']\n",
      "--- word cluster 12 ----\n",
      "['russian', 'soviet', 'ukraine', 'abkhazia', 'georgian', 'ossetia']\n",
      "--- word cluster 13 ----\n",
      "['award', 'recipient', 'outstanding', 'extraordinary', 'prize', 'awarding', 'exceptional', 'excellence', 'awarded']\n",
      "--- word cluster 14 ----\n",
      "['nationality', 'visa', 'citizenship', 'gender', 'identity', 'identification', 'registration', 'fingerprint', 'orientation', 'passport', 'ethnicity', 'residency']\n",
      "--- word cluster 15 ----\n",
      "['harvest', 'harvesting', 'crop', 'cultivation', 'grain']\n",
      "--- word cluster 16 ----\n",
      "['consolidation', 'downsize', 'reorganization', 'restructuring', 'restructure', 'reorganize']\n",
      "--- word cluster 17 ----\n",
      "['disposal', 'hazardous', 'waste', 'recycling', 'toxic']\n",
      "--- word cluster 18 ----\n",
      "['democracy', 'freedom', 'republic', 'equality', 'independence', 'liberty', 'yugoslavia']\n",
      "--- word cluster 19 ----\n",
      "['blue', 'white', 'green', 'red', 'yellow', 'black', 'pink', 'brown', 'orange']\n",
      "--- word cluster 20 ----\n",
      "['calculate', 'compute', 'calculation', 'accurately', 'calculated']\n",
      "--- word cluster 21 ----\n",
      "['scott', 'miller', 'walsh', 'smith', 'wilson', 'marshall', 'fisher', 'allen', 'taylor', 'baker', 'stewart', 'morris']\n",
      "--- word cluster 22 ----\n",
      "['john', 'richard', 'paul', 'francis', 'howard', 'robert', 'david', 'steven', 'william', 'edward', 'george', 'peter']\n",
      "--- word cluster 23 ----\n",
      "['heroin', 'marijuana', 'alcohol', 'drink', 'drinking', 'beverage', 'alcoholic']\n",
      "--- word cluster 24 ----\n",
      "['evaluation', 'assessment', 'examination', 'appraisal', 'exam']\n",
      "--- word cluster 25 ----\n",
      "['forbid', 'constrain', 'prohibit', 'restrict', 'curtail', 'regulate', 'restrain']\n",
      "--- word cluster 26 ----\n",
      "['elderly', 'homeless', 'refuge', 'sanctuary', 'shelter', 'disabled']\n",
      "--- word cluster 27 ----\n",
      "['tropical', 'flood', 'storm', 'flooded', 'flooding']\n",
      "--- word cluster 28 ----\n",
      "['assistance', 'emergency', 'humanitarian', 'aid', 'disaster', 'reconstruction', 'relief', 'earthquake']\n",
      "--- word cluster 29 ----\n",
      "['oversight', 'regulation', 'accountability', 'regulatory', 'supervision', 'governance', 'transparency']\n",
      "--- word cluster 30 ----\n",
      "['audits', 'auditor', 'accounting', 'audit', 'auditing']\n",
      "--- word cluster 31 ----\n",
      "['recording', 'directed', 'actor', 'film', 'jazz', 'musical', 'theatrical', 'artistic', 'music']\n",
      "--- word cluster 32 ----\n",
      "['violation', 'violate', 'violated', 'contravene', 'breach']\n",
      "--- word cluster 33 ----\n",
      "['peacekeeping', 'contingent', 'deploy', 'troop', 'deployment', 'deployed']\n",
      "--- word cluster 34 ----\n",
      "['fully', 'adequately', 'appropriately', 'handle', 'properly']\n",
      "--- word cluster 35 ----\n",
      "['incident', 'destruction', 'attack', 'target', 'assault', 'killing', 'retaliation', 'destroy', 'kill', 'suicide', 'targeted']\n",
      "--- word cluster 36 ----\n",
      "['pornography', 'illicit', 'trafficking', 'drug', 'illegal', 'prostitution']\n",
      "--- word cluster 37 ----\n",
      "['carolina', 'missouri', 'illinois', 'michigan', 'ohio', 'wisconsin']\n",
      "--- word cluster 38 ----\n",
      "['alabama', 'mississippi', 'tennessee', 'virginia', 'maryland']\n",
      "--- word cluster 39 ----\n",
      "['physical', 'mental', 'emotional', 'psychological', 'trauma']\n",
      "--- word cluster 40 ----\n",
      "['prevention', 'avian', 'bird', 'contagious', 'disease', 'infectious', 'outbreak', 'aids', 'suffer', 'ebola', 'virus', 'vaccine', 'pathogen', 'immunization', 'malaria', 'polio', 'tuberculosis', 'severe', 'illness', 'epidemic', 'bacterial', 'infection', 'vaccination']\n",
      "--- word cluster 41 ----\n",
      "['fish', 'food', 'poultry', 'seafood', 'salmon', 'livestock', 'dairy', 'meat']\n",
      "--- word cluster 42 ----\n",
      "['endangered', 'species', 'habitat', 'wetland', 'grassland']\n",
      "--- word cluster 43 ----\n",
      "['library', 'archive', 'exhibition', 'art', 'gallery', 'museum', 'painting', 'portrait', 'exhibit']\n",
      "--- word cluster 44 ----\n",
      "['design', 'architecture', 'modern', 'architectural', 'model']\n",
      "--- word cluster 45 ----\n",
      "['trade', 'export', 'exporter', 'import', 'imported', 'importer', 'manufacturer', 'manufacture', 'supplier', 'manufactured']\n",
      "--- word cluster 46 ----\n",
      "['highway', 'border', 'territory', 'occupied', 'bridge', 'crossing', 'road', 'interstate', 'route']\n",
      "--- word cluster 47 ----\n",
      "['mexico', 'puerto', 'rico', 'colombia', 'guatemala', 'haiti', 'haitian', 'honduras', 'salvador', 'venezuela', 'cuba', 'nicaragua']\n",
      "--- word cluster 48 ----\n",
      "['serve', 'elected', 'appointment', 'appointed', 'elect', 'served']\n",
      "--- word cluster 49 ----\n",
      "['document', 'description', 'copy', 'print', 'reference', 'printed', 'text', 'translation']\n",
      "--- word cluster 50 ----\n",
      "['darfur', 'sudan', 'uganda', 'ethiopia', 'somalia']\n",
      "--- word cluster 51 ----\n",
      "['compliance', 'comply', 'impose', 'enforce', 'imposition']\n",
      "--- word cluster 52 ----\n",
      "['choice', 'select', 'selected', 'selection', 'option', 'choose']\n",
      "--- word cluster 53 ----\n",
      "['prosecute', 'apprehend', 'extradite', 'extradition', 'punish']\n",
      "--- word cluster 54 ----\n",
      "['quarterly', 'annual', 'news', 'daily', 'weekly', 'yearly', 'annually', 'monthly', 'press']\n",
      "--- word cluster 55 ----\n",
      "['broadcasting', 'network', 'broadcast', 'radio', 'television', 'cable', 'channel']\n",
      "--- word cluster 56 ----\n",
      "['website', 'web', 'online', 'telephone', 'internet', 'email', 'messaging', 'mail', 'mailing', 'networking', 'mobile', 'phone']\n",
      "--- word cluster 57 ----\n",
      "['technology', 'application', 'user', 'innovation', 'innovative', 'server', 'software', 'technological']\n",
      "--- word cluster 58 ----\n",
      "['terrorism', 'extremism', 'extremist', 'terrorist', 'religious', 'religion', 'islamic']\n",
      "--- word cluster 59 ----\n",
      "['publication', 'publish', 'write', 'article', 'written', 'writing', 'story', 'published', 'book', 'publishing']\n",
      "--- word cluster 60 ----\n",
      "['supply', 'energy', 'gas', 'oil', 'mining', 'fuel', 'coal', 'crude', 'petroleum', 'demand', 'electricity']\n",
      "--- word cluster 61 ----\n",
      "['significance', 'cultural', 'historical', 'history', 'culture']\n",
      "--- word cluster 62 ----\n",
      "['structure', 'construction', 'building', 'complex', 'tower']\n",
      "--- word cluster 63 ----\n",
      "['total', 'estimate', 'estimated', 'forecast', 'projected']\n",
      "--- word cluster 64 ----\n",
      "['development', 'project', 'conservation', 'environmental', 'environment', 'wildlife', 'preservation', 'heritage', 'restoration', 'climate', 'ecological']\n",
      "--- word cluster 65 ----\n",
      "['responsibility', 'committed', 'arrest', 'responsible', 'commit', 'alleged', 'involved', 'involvement']\n",
      "--- word cluster 66 ----\n",
      "['secretary', 'director', 'officer', 'executive', 'president', 'deputy', 'senior', 'chief', 'vice', 'chairman']\n",
      "--- word cluster 67 ----\n",
      "['committee', 'board', 'commission', 'council', 'panel']\n",
      "--- word cluster 68 ----\n",
      "['child', 'family', 'life', 'woman', 'abuse', 'person', 'girl', 'man', 'sexual', 'mother', 'pregnant', 'sex', 'infant']\n",
      "--- word cluster 69 ----\n",
      "['reasonable', 'reasonably', 'fairly', 'sufficiently', 'equally']\n",
      "--- word cluster 70 ----\n",
      "['transit', 'passenger', 'vehicle', 'train', 'ship', 'fleet', 'vessel', 'naval', 'shipping', 'railway', 'rail', 'commuter', 'railroad', 'bus', 'navy', 'cargo', 'freight', 'tractor', 'truck', 'boat']\n",
      "--- word cluster 71 ----\n",
      "['aircraft', 'crew', 'flight', 'pilot', 'helicopter', 'jet']\n",
      "--- word cluster 72 ----\n",
      "['agriculture', 'agricultural', 'farm', 'forestry', 'farming', 'ranching']\n",
      "--- word cluster 73 ----\n",
      "['outside', 'room', 'inside', 'near', 'bedroom']\n",
      "--- word cluster 74 ----\n",
      "['atlantic', 'ocean', 'coast', 'sea', 'pacific', 'coastal']\n",
      "--- word cluster 75 ----\n",
      "['sell', 'sale', 'selling', 'buy', 'offered', 'offer', 'acquire', 'offering']\n",
      "--- word cluster 76 ----\n",
      "['region', 'eastern', 'middle', 'western', 'central', 'north', 'northern', 'south', 'southern', 'west', 'east', 'southwest', 'southeastern', 'northeast']\n",
      "--- word cluster 77 ----\n",
      "['canada', 'nation', 'europe', 'country', 'asia', 'african', 'zimbabwe', 'asian', 'america', 'world', 'africa', 'britain', 'european', 'england', 'australia']\n",
      "--- word cluster 78 ----\n",
      "['meet', 'delegation', 'conference', 'meeting', 'visit']\n",
      "--- word cluster 79 ----\n",
      "['justification', 'belief', 'faith', 'contrary', 'justify', 'justified']\n",
      "--- word cluster 80 ----\n",
      "['security', 'air', 'corps', 'force', 'military', 'army', 'civilian', 'armed', 'command']\n",
      "--- word cluster 81 ----\n",
      "['violence', 'violent', 'conflict', 'strife', 'war']\n",
      "--- word cluster 82 ----\n",
      "['leadership', 'political', 'education', 'educational', 'social', 'curriculum']\n",
      "--- word cluster 83 ----\n",
      "['health', 'care', 'medical', 'medicine', 'hospital', 'healthcare', 'clinic']\n",
      "--- word cluster 84 ----\n",
      "['indian', 'iraq', 'iraqi', 'afghanistan', 'pakistan', 'afghan', 'pakistani', 'taliban', 'delhi', 'india']\n",
      "--- word cluster 85 ----\n",
      "['sentence', 'prison', 'conviction', 'detainee', 'detention', 'guilty', 'guantanamo', 'punishment', 'imprisonment']\n",
      "--- word cluster 86 ----\n",
      "['egypt', 'lebanese', 'lebanon', 'syria', 'syrian', 'arabia', 'saudi']\n",
      "--- word cluster 87 ----\n",
      "['palestinian', 'israel', 'gaza', 'israeli', 'hamas']\n",
      "--- word cluster 88 ----\n",
      "['school', 'campus', 'student', 'graduate', 'enroll', 'university', 'elementary', 'college', 'undergraduate', 'dissertation', 'doctoral', 'enrolled', 'faculty']\n",
      "--- word cluster 89 ----\n",
      "['research', 'study', 'science', 'institute', 'scientific', 'mathematics']\n",
      "--- word cluster 90 ----\n",
      "['notify', 'consult', 'advise', 'inform', 'notified']\n",
      "--- word cluster 91 ----\n",
      "['congress', 'senate', 'congressional', 'mccain', 'senator']\n",
      "--- word cluster 92 ----\n",
      "['party', 'presidential', 'election', 'referendum', 'vote', 'legislature', 'democratic', 'legislative', 'opposition', 'voting', 'candidate', 'parliamentary']\n",
      "--- word cluster 93 ----\n",
      "['percent', 'market', 'exchange', 'share', 'percentage', 'stock', 'trading']\n",
      "--- word cluster 94 ----\n",
      "['business', 'corporation', 'marketing', 'industry', 'sector', 'company', 'industrial', 'consultancy', 'consulting', 'consultant', 'firm', 'advertising', 'manufacturing', 'venture', 'subsidiary']\n",
      "--- word cluster 95 ----\n",
      "['evaluate', 'justice', 'criminal', 'investigation', 'prosecution', 'crime', 'investigate', 'hearing', 'case', 'court', 'trial', 'assess', 'attorney', 'judge', 'supreme', 'appeal', 'counsel', 'witness', 'defendant', 'proceedings', 'testify', 'suit', 'jury', 'complaint', 'inquiry', 'examine', 'lawsuit', 'testimony']\n",
      "--- word cluster 96 ----\n",
      "['official', 'statement', 'letter', 'comment', 'ministry']\n",
      "--- word cluster 97 ----\n",
      "['income', 'revenue', 'tax', 'profit', 'net', 'spending']\n",
      "--- word cluster 98 ----\n",
      "['asset', 'increase', 'economic', 'investment', 'reduction', 'decrease', 'credit', 'reduce', 'financial', 'eliminate', 'banking', 'substantially', 'raise', 'growth', 'increased', 'dramatically', 'economy', 'significantly', 'decline', 'reduced']\n",
      "--- word cluster 99 ----\n",
      "['high', 'higher', 'low', 'lower', 'upper']\n",
      "--- word cluster 100 ----\n",
      "['commitment', 'determination', 'pledged', 'pledge', 'promise']\n",
      "--- word cluster 101 ----\n",
      "['plan', 'measure', 'approval', 'proposed', 'approve', 'approved', 'proposal', 'amendment', 'legislation', 'compromise']\n",
      "--- word cluster 102 ----\n",
      "['consolidate', 'encourage', 'expand', 'improve', 'enhance', 'promote', 'strengthen', 'expanded', 'strengthening', 'reinforce', 'improved']\n",
      "--- word cluster 103 ----\n",
      "['usually', 'normally', 'typically', 'generally', 'tend']\n",
      "--- word cluster 104 ----\n",
      "['october', 'september', 'april', 'july', 'november', 'august', 'december', 'june', 'march', 'january', 'february']\n",
      "--- word cluster 105 ----\n",
      "['return', 'stay', 'rest', 'leave', 'wait']\n",
      "--- word cluster 106 ----\n",
      "['consider', 'willing', 'accept', 'agree', 'oppose', 'reject']\n",
      "--- word cluster 107 ----\n",
      "['agreement', 'accord', 'negotiate', 'deal', 'negotiated']\n",
      "--- word cluster 108 ----\n",
      "['second', 'sixth', 'final', 'match', 'seventh', 'fourth', 'half', 'eighth', 'eleventh', 'fifth', 'tenth', 'round']\n",
      "--- word cluster 109 ----\n",
      "['appropriate', 'adequate', 'allow', 'enable', 'necessary', 'require', 'ensure', 'inadequate', 'permit', 'facilitate', 'guarantee', 'guaranteed', 'sufficient', 'required', 'insufficient', 'assure']\n",
      "--- word cluster 110 ----\n",
      "['mean', 'meaning', 'instead', 'means', 'making']\n",
      "--- word cluster 111 ----\n",
      "['begin', 'continue', 'later', 'previously', 'end', 'subsequently', 'initially', 'early', 'beginning', 'start', 'continued', 'continuing']\n",
      "--- word cluster 112 ----\n",
      "['day', 'year', 'previous', 'month', 'expected', 'time', 'earlier', 'likely', 'week', 'unlikely']\n",
      "--- word cluster 113 ----\n",
      "['specific', 'certain', 'particular', 'instance', 'example']\n",
      "--- word cluster 114 ----\n",
      "['need', 'good', 'needs', 'able', 'better', 'unable']\n",
      "--- word cluster 115 ----\n",
      "['reason', 'know', 'kind', 'fact', 'believe', 'thing']\n",
      "--- word cluster 116 ----\n",
      "[]\n"
     ]
    }
   ],
   "source": [
    "for i in range(117):\n",
    "    print(f'--- word cluster {i} ----')\n",
    "    print([w for iw, w in enumerate(all_words) if labels[iw] == i])"
   ]
  },
  {
   "cell_type": "code",
   "execution_count": 68,
   "metadata": {},
   "outputs": [
    {
     "data": {
      "text/plain": [
       "2095"
      ]
     },
     "execution_count": 68,
     "metadata": {},
     "output_type": "execute_result"
    }
   ],
   "source": [
    "all_words.index('butterfly')"
   ]
  },
  {
   "cell_type": "code",
   "execution_count": 71,
   "metadata": {},
   "outputs": [
    {
     "data": {
      "text/plain": [
       "['butterfly',\n",
       " 'species',\n",
       " 'bird',\n",
       " 'wild',\n",
       " 'olympic',\n",
       " 'cat',\n",
       " 'holder',\n",
       " 'turtle',\n",
       " 'paralympic',\n",
       " 'event']"
      ]
     },
     "execution_count": 71,
     "metadata": {},
     "output_type": "execute_result"
    }
   ],
   "source": [
    "butterfly_links = [all_words[i] for i in  pd.Series(all_distance_arr[2095]).sort_values().head(10).index]\n",
    "butterfly_links"
   ]
  },
  {
   "cell_type": "markdown",
   "metadata": {},
   "source": [
    "The butterfly is an animal, but also an event in Olympic swimming."
   ]
  },
  {
   "cell_type": "code",
   "execution_count": null,
   "metadata": {},
   "outputs": [],
   "source": []
  }
 ],
 "metadata": {
  "kernelspec": {
   "display_name": "Python 3",
   "language": "python",
   "name": "python3"
  },
  "language_info": {
   "codemirror_mode": {
    "name": "ipython",
    "version": 3
   },
   "file_extension": ".py",
   "mimetype": "text/x-python",
   "name": "python",
   "nbconvert_exporter": "python",
   "pygments_lexer": "ipython3",
   "version": "3.6.8"
  }
 },
 "nbformat": 4,
 "nbformat_minor": 2
}
