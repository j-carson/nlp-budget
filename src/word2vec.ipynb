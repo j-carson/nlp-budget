{
 "cells": [
  {
   "cell_type": "code",
   "execution_count": 1,
   "metadata": {},
   "outputs": [],
   "source": [
    "import pandas as pd\n",
    "import numpy as np \n",
    "import re\n",
    "\n",
    "from pathlib import Path"
   ]
  },
  {
   "cell_type": "code",
   "execution_count": 46,
   "metadata": {},
   "outputs": [],
   "source": [
    "from gensim import corpora\n",
    "from gensim.utils import lemmatize\n",
    "from gensim.parsing.preprocessing import STOPWORDS as gs_stopwords\n",
    "from gensim.models import KeyedVectors"
   ]
  },
  {
   "cell_type": "code",
   "execution_count": 28,
   "metadata": {},
   "outputs": [],
   "source": [
    "import logging\n",
    "logging.basicConfig(format='%(asctime)s : %(levelname)s : %(message)s', level=logging.INFO)"
   ]
  },
  {
   "cell_type": "code",
   "execution_count": 29,
   "metadata": {},
   "outputs": [],
   "source": [
    "docdir = Path('../data/docs')"
   ]
  },
  {
   "cell_type": "code",
   "execution_count": 30,
   "metadata": {},
   "outputs": [],
   "source": [
    "raw_corpus = []"
   ]
  },
  {
   "cell_type": "code",
   "execution_count": 31,
   "metadata": {},
   "outputs": [],
   "source": [
    "files = list(docdir.glob('*.body'))\n",
    "for f in files:\n",
    "    with open(f, 'r') as fp:\n",
    "        raw_corpus.append(fp.read())\n",
    "        fp.close()"
   ]
  },
  {
   "cell_type": "code",
   "execution_count": 36,
   "metadata": {},
   "outputs": [],
   "source": [
    "# regex to remove three letter (or more) capitalized acronyms\n",
    "# also removes a plural acronym like HMOs by grabbing\n",
    "# until the end of the word\n",
    "tla = re.compile(r'[A-Z]{3,}\\S*?\\b')\n",
    "corpus = []\n",
    "for doc in raw_corpus:\n",
    "    doc = re.sub(tla,'',doc)\n",
    "    # from this lemmatization tutorial\n",
    "    # https://www.machinelearningplus.com/nlp/lemmatization-examples-python/\n",
    "    lemmatized = [wd.decode('utf-8').split('/')[0] for wd in lemmatize(doc, \n",
    "                                                                      min_length=4, stopwords=gs_stopwords)]\n",
    "    corpus.append(lemmatized)\n"
   ]
  },
  {
   "cell_type": "code",
   "execution_count": 37,
   "metadata": {},
   "outputs": [
    {
     "name": "stderr",
     "output_type": "stream",
     "text": [
      "2019-02-24 17:26:51,080 : INFO : adding document #0 to Dictionary(0 unique tokens: [])\n",
      "2019-02-24 17:26:51,161 : INFO : built Dictionary(4346 unique tokens: ['acquisition', 'aircraft', 'authorize', 'available', 'capital']...) from 1248 documents (total 92558 corpus positions)\n"
     ]
    }
   ],
   "source": [
    "dictionary = corpora.Dictionary(tokens for tokens in corpus)"
   ]
  },
  {
   "cell_type": "code",
   "execution_count": 38,
   "metadata": {},
   "outputs": [
    {
     "data": {
      "text/plain": [
       "dict"
      ]
     },
     "execution_count": 38,
     "metadata": {},
     "output_type": "execute_result"
    }
   ],
   "source": [
    "type(dictionary.dfs)"
   ]
  },
  {
   "cell_type": "code",
   "execution_count": 42,
   "metadata": {},
   "outputs": [
    {
     "data": {
      "text/plain": [
       "1647"
      ]
     },
     "execution_count": 42,
     "metadata": {},
     "output_type": "execute_result"
    }
   ],
   "source": [
    "rare_words = []\n",
    "for tokenid, count in dictionary.dfs.items():\n",
    "    if count < 2:\n",
    "        rare_words.append(dictionary[tokenid])\n",
    "len(rare_words)"
   ]
  },
  {
   "cell_type": "code",
   "execution_count": null,
   "metadata": {},
   "outputs": [],
   "source": [
    "wordlist = ''\n",
    "for word in rare_words:\n",
    "    wordlist = ' '.join([wordlist, word])\n",
    "    if len(wordlist) > 100:\n",
    "        print(wordlist)\n",
    "        wordlist = ''"
   ]
  },
  {
   "cell_type": "code",
   "execution_count": 48,
   "metadata": {},
   "outputs": [
    {
     "name": "stderr",
     "output_type": "stream",
     "text": [
      "2019-02-24 17:51:12,251 : INFO : loading projection weights from /Users/jlc/Downloads/GoogleNews-vectors-negative300.bin\n",
      "2019-02-24 17:51:57,374 : INFO : loaded (3000000, 300) matrix from /Users/jlc/Downloads/GoogleNews-vectors-negative300.bin\n"
     ]
    }
   ],
   "source": [
    "google_vec_path = '/Users/jlc/Downloads/GoogleNews-vectors-negative300.bin'\n",
    "google_vec = KeyedVectors.load_word2vec_format(google_vec_path, binary=True)"
   ]
  },
  {
   "cell_type": "code",
   "execution_count": 56,
   "metadata": {},
   "outputs": [
    {
     "data": {
      "text/plain": [
       "1533"
      ]
     },
     "execution_count": 56,
     "metadata": {},
     "output_type": "execute_result"
    }
   ],
   "source": [
    "for word in rare_words:\n",
    "    try:\n",
    "        google_vec.word_vec(word)\n",
    "    except:\n",
    "        rare_words.remove(word)\n",
    "len(rare_words)"
   ]
  },
  {
   "cell_type": "code",
   "execution_count": 57,
   "metadata": {},
   "outputs": [],
   "source": [
    "distance_arr = np.zeros((len(rare_words), len(rare_words)))\n",
    "\n",
    "for i, wordi in enumerate(rare_words):\n",
    "    for j, wordj in enumerate(rare_words):\n",
    "        if i < j:\n",
    "            distance_arr[i,j] = google_vec.distance(wordi, wordj)\n",
    "            distance_arr[j,i] = distance_arr[i,j]\n",
    "        elif i == j:\n",
    "            distance_arr[i,j] = 0"
   ]
  },
  {
   "cell_type": "code",
   "execution_count": 58,
   "metadata": {},
   "outputs": [],
   "source": [
    "import hdbscan"
   ]
  },
  {
   "cell_type": "code",
   "execution_count": 68,
   "metadata": {},
   "outputs": [],
   "source": [
    "hdb = hdbscan.HDBSCAN(metric='precomputed', approx_min_span_tree=False, cluster_selection_method='leaf')"
   ]
  },
  {
   "cell_type": "code",
   "execution_count": 69,
   "metadata": {},
   "outputs": [
    {
     "data": {
      "text/plain": [
       "HDBSCAN(algorithm='best', allow_single_cluster=False, alpha=1.0,\n",
       "    approx_min_span_tree=False, cluster_selection_method='leaf',\n",
       "    core_dist_n_jobs=4, gen_min_span_tree=False, leaf_size=40,\n",
       "    match_reference_implementation=False, memory=Memory(location=None),\n",
       "    metric='precomputed', min_cluster_size=5, min_samples=None, p=None,\n",
       "    prediction_data=False)"
      ]
     },
     "execution_count": 69,
     "metadata": {},
     "output_type": "execute_result"
    }
   ],
   "source": [
    "hdb.fit(distance_arr)"
   ]
  },
  {
   "cell_type": "code",
   "execution_count": 70,
   "metadata": {},
   "outputs": [],
   "source": [
    "labels = pd.Series(hdb.labels_)"
   ]
  },
  {
   "cell_type": "code",
   "execution_count": 71,
   "metadata": {},
   "outputs": [
    {
     "data": {
      "text/plain": [
       "-1     1356\n",
       " 9       50\n",
       " 12      17\n",
       " 4       16\n",
       " 10      14\n",
       " 6       13\n",
       " 13      11\n",
       " 5       10\n",
       " 7        8\n",
       " 11       7\n",
       " 3        7\n",
       " 2        7\n",
       " 8        6\n",
       " 1        6\n",
       " 0        5\n",
       "dtype: int64"
      ]
     },
     "execution_count": 71,
     "metadata": {},
     "output_type": "execute_result"
    }
   ],
   "source": [
    "labels.value_counts()"
   ]
  },
  {
   "cell_type": "code",
   "execution_count": 72,
   "metadata": {},
   "outputs": [
    {
     "name": "stdout",
     "output_type": "stream",
     "text": [
      "0 ['seventh', 'marked', 'eighth', 'consecutive', 'tenth']\n",
      "1 ['blue', 'yellow', 'black', 'pink', 'brown', 'orange']\n",
      "2 ['formulate', 'outline', 'articulate', 'examine', 'explain', 'clarify', 'acknowledge']\n",
      "3 ['accrual', 'prepayment', 'receivable', 'undisbursed', 'repayable', 'amortizing', 'debenture']\n",
      "4 ['landlord', 'nonfrivolous', 'mortgagee', 'allottee', 'purchaser', 'foreclosed', 'possessory', 'claimant', 'subaccount', 'annuitant', 'tenancy', 'mortgagor', 'lien', 'grantor', 'taxable', 'lessor']\n",
      "5 ['environmentally', 'inherently', 'artistically', 'culturally', 'socially', 'economically', 'generally', 'tend', 'necessarily', 'ecological']\n",
      "6 ['automate', 'automated', 'sufficiently', 'automation', 'scalable', 'software', 'connectivity', 'efficiently', 'centralized', 'reliability', 'standardization', 'properly', 'database']\n",
      "7 ['redecorate', 'redecoration', 'refurnishing', 'demolish', 'remodeling', 'renovate', 'evict', 'remodel']\n",
      "8 ['biosimilar', 'biologic', 'physician', 'clinical', 'healthcare', 'pharmaceutical']\n",
      "9 ['grape', 'dune', 'turtle', 'lander', 'citrus', 'geophysical', 'seismic', 'dioxide', 'vapor', 'methane', 'siltation', 'reservoir', 'pollutant', 'particulate', 'waterway', 'geology', 'hydrology', 'biology', 'ethanol', 'weevil', 'bollworm', 'coral', 'reef', 'pesticide', 'insecticide', 'fungicide', 'mangrove', 'marsh', 'seagrass', 'feedstock', 'pier', 'doctoral', 'astronomy', 'drilling', 'lunar', 'orbital', 'rover', 'anthropology', 'groundwater', 'hydrogen', 'telescope', 'fertilizer', 'tributary', 'sediment', 'wetland', 'subsurface', 'truck', 'flooding', 'boat', 'combustion']\n",
      "10 ['constrain', 'harmful', 'curtail', 'disruption', 'inhibit', 'harm', 'constrict', 'extradite', 'indict', 'punish', 'detrimental', 'undermine', 'impair', 'deter']\n",
      "11 ['corrupt', 'inhuman', 'unfair', 'inhumane', 'undemocratic', 'arbitrary', 'repressive']\n",
      "12 ['alabama', 'arizona', 'colorado', 'connecticut', 'delaware', 'illinois', 'iowa', 'louisiana', 'michigan', 'minnesota', 'ohio', 'utah', 'wisconsin', 'wyoming', 'arkansas', 'idaho', 'maryland']\n",
      "13 ['douglas', 'francis', 'howard', 'david', 'william', 'julian', 'webb', 'kevin', 'edward', 'george', 'snyder']\n"
     ]
    }
   ],
   "source": [
    "for i in range(14):\n",
    "    print(i, [w for iw, w in enumerate(rare_words) if labels[iw] == i])"
   ]
  },
  {
   "cell_type": "code",
   "execution_count": 73,
   "metadata": {},
   "outputs": [
    {
     "data": {
      "text/plain": [
       "291"
      ]
     },
     "execution_count": 73,
     "metadata": {},
     "output_type": "execute_result"
    }
   ],
   "source": []
  },
  {
   "cell_type": "code",
   "execution_count": null,
   "metadata": {},
   "outputs": [],
   "source": []
  }
 ],
 "metadata": {
  "kernelspec": {
   "display_name": "Python 3",
   "language": "python",
   "name": "python3"
  },
  "language_info": {
   "codemirror_mode": {
    "name": "ipython",
    "version": 3
   },
   "file_extension": ".py",
   "mimetype": "text/x-python",
   "name": "python",
   "nbconvert_exporter": "python",
   "pygments_lexer": "ipython3",
   "version": "3.6.8"
  }
 },
 "nbformat": 4,
 "nbformat_minor": 2
}
