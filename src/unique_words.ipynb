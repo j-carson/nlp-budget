{
 "cells": [
  {
   "cell_type": "code",
   "execution_count": 1,
   "metadata": {},
   "outputs": [],
   "source": [
    "import pandas as pd\n",
    "import numpy as np \n",
    "\n",
    "from pathlib import Path"
   ]
  },
  {
   "cell_type": "code",
   "execution_count": 2,
   "metadata": {},
   "outputs": [],
   "source": [
    "from gensim import corpora\n",
    "from gensim.utils import lemmatize, simple_preprocess\n",
    "from gensim.parsing.preprocessing import STOPWORDS as gs_stopwords"
   ]
  },
  {
   "cell_type": "code",
   "execution_count": 3,
   "metadata": {},
   "outputs": [],
   "source": [
    "import logging\n",
    "logging.basicConfig(format='%(asctime)s : %(levelname)s : %(message)s', level=logging.INFO)"
   ]
  },
  {
   "cell_type": "code",
   "execution_count": 4,
   "metadata": {},
   "outputs": [],
   "source": [
    "docdir = Path('../data/docs')"
   ]
  },
  {
   "cell_type": "code",
   "execution_count": 5,
   "metadata": {},
   "outputs": [],
   "source": [
    "raw_corpus = []"
   ]
  },
  {
   "cell_type": "code",
   "execution_count": 6,
   "metadata": {},
   "outputs": [],
   "source": [
    "files = list(docdir.glob('*.body'))\n",
    "for f in files:\n",
    "    with open(f, 'r') as fp:\n",
    "        raw_corpus.append(fp.read())\n",
    "        fp.close()"
   ]
  },
  {
   "cell_type": "code",
   "execution_count": 7,
   "metadata": {},
   "outputs": [],
   "source": [
    "corpus = []\n",
    "for doc in raw_corpus:\n",
    "    # from this lemmatization tutorial\n",
    "    # https://www.machinelearningplus.com/nlp/lemmatization-examples-python/\n",
    "    lemmatized = [wd.decode('utf-8').split('/')[0] for wd in lemmatize(doc)]\n",
    "    corpus.append(lemmatized)\n"
   ]
  },
  {
   "cell_type": "code",
   "execution_count": 8,
   "metadata": {},
   "outputs": [],
   "source": [
    "# strip short words and stop words from the lemmatized corpus \n",
    "def strip_list(wordlist):\n",
    "    return [w for w in wordlist if len(w)> 3 and w not in gs_stopwords]\n",
    "\n",
    "corpus = [ strip_list(words) for words in corpus ]"
   ]
  },
  {
   "cell_type": "code",
   "execution_count": 9,
   "metadata": {},
   "outputs": [
    {
     "name": "stderr",
     "output_type": "stream",
     "text": [
      "2019-02-24 11:14:49,307 : INFO : adding document #0 to Dictionary(0 unique tokens: [])\n",
      "2019-02-24 11:14:49,382 : INFO : built Dictionary(4414 unique tokens: ['acquisition', 'aircraft', 'authorize', 'available', 'capital']...) from 1248 documents (total 92870 corpus positions)\n"
     ]
    }
   ],
   "source": [
    "dictionary = corpora.Dictionary(tokens for tokens in corpus)"
   ]
  },
  {
   "cell_type": "code",
   "execution_count": 10,
   "metadata": {},
   "outputs": [],
   "source": [
    "tokened_corpus = [dictionary.doc2bow(words) for words in corpus ]"
   ]
  },
  {
   "cell_type": "code",
   "execution_count": 11,
   "metadata": {},
   "outputs": [
    {
     "data": {
      "text/plain": [
       "1699"
      ]
     },
     "execution_count": 11,
     "metadata": {},
     "output_type": "execute_result"
    }
   ],
   "source": [
    "odd_tokens = []\n",
    "for token,freq in dictionary.dfs.items():\n",
    "    if freq == 1:\n",
    "        odd_tokens.append(token)\n",
    "len(odd_tokens)"
   ]
  },
  {
   "cell_type": "code",
   "execution_count": 36,
   "metadata": {},
   "outputs": [
    {
     "name": "stdout",
     "output_type": "stream",
     "text": [
      "phas moderately focused random randomized landlord promising forbid apprentice trainee unemployed delay \n",
      "postage suffrage deobligation rehire wellness dump heroin willing nonagricultural nonimmigrant committed \n",
      "practical liaison accessory itar exporter shipper barrel cylinder frame breech postmaster canadian maintained \n",
      "escalation helsinki reinsurance turkey turkish tppd indictment stand coalition procedural elizabeth beach \n",
      "downgrade resiliency telemarketing correspondingly manifest packing grape varietal wine microorganism \n",
      "kindred dune retitle lakeshore nonapplication douglas redesignation miller assurance supreme cotton avian \n",
      "specialty zoonotic stockpile scrapie screwworm formulate brucellosis escort philosophical improper analytic \n",
      "confer alignment earlier afford roma escobare grulla salineno multiply redistribution burned furnished \n",
      "capitalized retardant nbaf equality raise setting marriage genital cutting mutilation constrain destabilizing \n",
      "neighboring abet peacebuilding lord uganda warning chad cameroon niger nigeria boko haram malawi ebola \n",
      "cancele darfur blue nile abyei referendum viable macroeconomic elephant rhinoceros tiger turtle healthplan \n",
      "refuse compliant adjudicate entrepreneurial microloan radicalization phenomenon root predatory behavior \n",
      "victimization jovs restorative dismantlement unadopted generic biosimilar imported biologic scientist \n",
      "biotechnology nutritional mammography recall reinspection importer outsourcing distributor licensing \n",
      "monograph redecorate redecoration suite differential equipped ntia spectrum sarbane oxley beginning programming \n",
      "unencumbered nonproject billable abandoned acid uncertified lander jupiter europa planetary decadal circulate \n",
      "coin numismatic coinage magistrate ocelot leopardu pardali alabama arizona arkansa colorado connecticut \n",
      "delaware illinois iowa louisiana maine massachusett michigan minnesota montana hampshire dakota ohio \n",
      "pennsylvania rhode utah vermont wisconsin wyoming marijuana nonrepayable refurnishing heating lighting \n",
      "cache uinta wasatch toiyabe angele bernardino sequoia cleveland ozark francis ouachita arkansas appealing \n",
      "overbuild protected safesite armored caravan automate outline redacted consistently virtue satisfactorily \n",
      "hospitalization sage grouse centrocercus distinct legitimacy fulbright edmund muskie smith lever mature \n",
      "unneeded gina lilly ledbetter nonmonetary repositioning legislature productive widespread breed feasibility \n",
      "consultancy referenced collected annuity shortage yacht uscirf homicide clearinghouse conveyance omitted \n",
      "poisoning intensive elevated productivity undersubscribed oversubscribe neotropical migratory olympic \n",
      "paralympic strict adherence unrecover absorptive institutional climate poach intact strife saharan latrine \n",
      "guaranty egyptian bail dismiss cairo gazette extrajudicial killing disappearance expeditious abus ballistic \n",
      "semi marla ruzicka iraqi lebanese professionalize sahara syrian legitimize proxy bashar assad inside \n",
      "judicially alleged fairly yemen firstnet hydrogenated adulterate guardianship durable santa refuge bentsen \n",
      "lomita butterfly vista ranch railway crossing fast deck suballocate latest learning rapid mainstream \n",
      "unsafe adjusted defective week nonreimbursable deficient decline wiin harassment citrus greening regime \n",
      "gateway fault conditional preparatory iaea recycling defect harmful residue genetically engineered download \n",
      "reproduce congestion readiness nahasda race oversee impass intermittently hear brady handgun geophysical \n",
      "gauge seismic tenure hidta articulate published investor troubled dioxide nitrous oxide vapor methane \n",
      "nonfrivolous decent sanitary deficiency reac timetable mortgagee upcs abate offered exclusionary infusion \n",
      "unsatisfactory curio relic honduras journey southwest migrant cooperatively prosperity triangle corrupt \n",
      "impunity vocational latin caribbean perpetrator deprivation unionist disciplinary riverine selecting \n",
      "haitian highland perkin strengthening postsecondary credential baccalaureate archived levin howard buck \n",
      "mckeon jerusalem jericho securitize commuter conserve soil siltation reservoir pollutant erect fadr claimed \n",
      "allottee unrecoverable geostationary quick weekly book inadmissible apprehend fear enrollee immunization \n",
      "rehydration orphan polio neglected infect gavi coercive birth acceptor quantitative bribe gratuity comprehensible \n",
      "inadvisable consequent pattern conscientious additionally counsele condom medically aquarium shot coating \n",
      "launder fasab workfare drawdown tribunal yugoslavia translate proficiency reemployment andean counterdrug \n",
      "travele chartering accrual prescribed damaged purchaser exact owing ceremonial nonpolitical combined \n",
      "overflow alleviate inequity overlapping inaccurate trademark uspto fehb fegli yearly impute leahy invent \n",
      "cultivate woodrow link examiner tourist revive jury curtail therefrom commissioned cohort satisfied volcanic \n",
      "eruption rancher environmentally village heightened exposure colonia enforceable zoning lack airshed \n",
      "particulate multipurpose seventh freedman cccc dddd incinerator temporarily demountable antidumping countervailing \n",
      "finally affix inscription email server automated messaging depart cognizant upkeep treasurer palau marshall \n",
      "federated britain employer preparer canine accelerant managing foreclosure demonstrably lasting belligerency \n",
      "acknowledgment demilitarized waterway occupiable usually avert preside repeatedly unrwa acting impartiality \n",
      "taught camp dignity auspice withheld montreal unsatisfied frivolous proceeding saltonstall prorate verifiable \n",
      "proration vash savings demolish disposed unification unassisted prepayment reissue turnover modeled geographical \n",
      "weigh density tested passing entail detonate painting portrait legalize derivative topography geology \n",
      "hydrology biology licensee deferred fusion reproduction responsive prioritization consensus unique harass \n",
      "voluntarily escrow calculation yield disparity nass disparate reliable noaa consensual teterboro ranching \n",
      "wise talent layoff situational noncommercial subscribe callable carlo elementary dormitory accomplishment \n",
      "apart immersion jurisdictional educator buse piloting clemency interpol biggert plain analyst ethanol \n",
      "flammable liquid petroleum ministry weakness achievable misuse addressed kleptocracy derogate sufficiently \n",
      "diamond accurately redaction commercially disadvantage transform mixed foreclosed packaging conscience \n",
      "extinguish possessory surrender originate fhwa vetting violated advisor david wherley adhere anaheim \n",
      "repossession pledged salmonid hatchery coho chinook marked visible fisher standardized courtroom timber \n",
      "indicated stumpage appraise cedar prevail yellow annexation crimea affirmative separatist occupation \n",
      "georgian abkhazia tskhinvali ossetia pressure automation fingerprint paygo scorecard scorekeeping alaskan \n",
      "schooling league impediment regrettably disband normalize neighbor example penalize token save treasure \n",
      "landmark represented black magnetic levitation boll weevil highly fractionate pink bollworm depose coup \n",
      "état decree decisive align coral reef brown snake covenant reflow reopen materiel necessitate bahrain \n",
      "ethiopia nicaragua uzbekistan publically stolen intertribal pesticide insecticide fungicide rodenticide \n",
      "fifra southeastern england domestically informer inherently multicultural evan allen remedial auxiliary \n",
      "trailer transam mangrove kelp tidal marsh seagrass meadow deacidify feedstock scalable software ingress \n",
      "egress senator statehood validity rollover repeatability reproducibility hangtag progressive rovs pier \n",
      "dock landing elli sublease retailer snap staple breadth preventative entirety roadmap breakdown transporting \n",
      "taylor mailing concise informative aggression cybercrime disruption appendice philanthropic doctoral \n",
      "dissertation iipic overstay hunt equitably reapportion duplication donate perpetrate physician overnight \n",
      "examine like fellow creditor error claimant whereabouts unknown eighth subleasing connectivity itemize \n",
      "earmark earmarked congressionally directed xliv relending screen requested liable compensatory punitive \n",
      "contributory intentional wrongdoing checkpoint unintended checked offsite aerospace stimulate exhibit \n",
      "instrumentation reinstallation skeletal impossible unlikely americans motion picture blair shutdown stratospheric \n",
      "observatory infrared astronomy explain ingredient honey agave syrup maple battery midway needle syringe \n",
      "bequest devise graeme baker offering nonrefundable offshore waterline drilling gathering holling laborer \n",
      "reamortize floyd remodeling reforestation revested preclearance cancel upward cancellation multiclass \n",
      "cruel inhuman degrading punishment networking affirmatively underway accelerated unmarried dealer idaho \n",
      "scrutiny ideological terminated proportionally underpayment compatible announced prize theme unexpired \n",
      "lunar orbital cislunar discovery reconnaissance commencement rover moon supplant orientation receivable \n",
      "subaccount bioenergy simple unfair deceptive ticket predisaster derived manual systemic airworthiness \n",
      "safely efficiently magnuson steven registry atsdr clinical accredit healthcare deadline saudi arabia \n",
      "cyclist invalid irrevocable eleventh advancement aggravated prostitution acquired syndrome humane clarify \n",
      "manager steering levy buddhist fragile anthropology exhumation atrocity antiquity alleviation idea rulemake \n",
      "diplomacy abduction hague artistically culturally inhibit passport annuitant categorical antiterrorism \n",
      "reemploy constraint wartime feedback relevance collecting maximize pharmaceutical realistic usagm pregnant \n",
      "recuperation individualized harm therapeutic restrain safest belt constrict immobilize holdback headquarter \n",
      "registered supervise journalistic shortwave wave venture privatization northeast corridor served nonforeign \n",
      "envision reap topic courteously impartial sexually wellhead groundwater outage discontinue frequency \n",
      "envoy persecute actor dire ethnicity livelihood undisbursed disconnected observe visit vein lode placer \n",
      "honest trained casualty tactical nato reconstitute instability inhumane helicopter landmine cluster munition \n",
      "submunition arming inhabit demilitarizing crowd tear excessive repress undemocratic reject unfpa depression \n",
      "submitted apportioning residency battlefield electioneering candidate expectation binding unpreventable \n",
      "presidentially modele plus performer undercover wagon hybrid conventionally fueled plug hydrogen stonegarden \n",
      "reevaluation euthanize licensed veterinarian epidemic dear colleague performed rogue facilitator proliferator \n",
      "launderer kingpin valuation alyce walter soboleff cable audiovisual logistical antarctic supersede mismanagement \n",
      "literacy tenancy socially uninvested forgone reduced blind preleas monument proclamation translation \n",
      "statutorily bedroom unoccupied economically nonviable mortgagor vacate lien lesser gonzale cyclic invitee \n",
      "extradite indict possibility kill extradition evacuate pamphlet booklet film confinement halfway custodial \n",
      "inholding consecutive wait hemisphere centralized purchasing nondomestic nonappropriated grantmake expressed \n",
      "analytical beneficial diligence punish lawsuit resettle comma footnote vegetable detoxification purchased \n",
      "referred breach suicide aftercare fall xviii typically legally william natcher bowl owensboro julian \n",
      "carroll calvert nondivisible load dredge measuring equalize grantor headhouse beltsville maryland acceptance \n",
      "webb telescope jwst iceland norway bacterial transfusion platelet oath minimis immunity generally nonprofits \n",
      "categorization presumptive awardee espionage sabotage chargeable lapsed null renovate generator mariner \n",
      "mobilize faculty depositor judgeship loaded containerized cargo multistate reliability unload loading \n",
      "phytosanitary repayable forecast meteorological dispatch necessity casework herbert hoover seat holocaust \n",
      "allocated benjamin gilman apprehension noncredit successfully standardization vaccination demographic \n",
      "traceability epidemiological separation infection diagnostic fieldwork knowingly grand renounce taliban \n",
      "pakistani improvise fertilizer shakil afridi osama laden trauma arbitrary rightful functioning peacetime \n",
      "lankan professionalism flexibility determined nofa singapore australia incorporation jazz seasonal season \n",
      "ostp collaborate bilaterally chinese implication timing noise compatibility runway incursion conveyor \n",
      "bulk successive larger properly flow roster hama hamas minister abovementioned dissolution wind tend \n",
      "feeding fractional telehealth breastfeeding infant containment mandated vendor moratorium subwatersh \n",
      "inefficient floodwater stream channel tributary erosion sediment dedicated showing promise semicolon \n",
      "taxable index convene orion lift mobile cadence crewed evictee partition substandard evict domicile relocatee \n",
      "homesite principally informational entrance theatrical musical amusement narrative gendarme multinational \n",
      "eating burning greenbook lump gorge scenic session disapprove realignment usadf artwork artistic tenth \n",
      "lessor spent byproduct competency syndication favorable anticipation rowley signed focuse practitioner \n",
      "apprenticeship unlawfully freight inland distributing urbanize valid selective induction cyberspace repressive \n",
      "blogger circumvention bypass censorship technique authoritarian technological advantage securely audience \n",
      "censor minimize detrimental closed manure press codex alimentarius wetland fringe uninterrupted flooded \n",
      "onshore levee intrusive operationally deployed bollard fossil generating subsurface collectively modelling \n",
      "devote hardwood tariff chart nextgen companion controller airman charting cartography repurposed repurpose \n",
      "aggregation personally supervisory necessarily interpret supervised soundness executed borlaug irrespective \n",
      "demote seniority reassign prioritizing mentally addiction cara kevin avonte edward byrne survivability \n",
      "valor missing unidentified wrongful managed phone indigent collar armor vest coverdell debbie kirk bloodsworth \n",
      "exam parental recidivism replication swift success wear camera underlie listed customary remodel impaired \n",
      "driving commandant transcript testimony backfill sponsorship acknowledge investigational embryo heritable \n",
      "threatening volcano grasshopper mormon cricket assumption primacy cedcap resubmit continuity fslic modified \n",
      "abrogation viius divestment decommission deconstruction excellence presuppression sodium intake truck \n",
      "tractor beet vale ontario nyssa imminently oriental quarantine collaborative ecological grassland calculated \n",
      "premises appurtenance calexico transmitted emphasis prospectuse denigrate deviate preexist noncareer \n",
      "round biweekly embassy proportional opening soft erbil beirut jakarta delhi resupply conclude healthier \n",
      "flooding surround importation shotgun adaptable handling inducement smallholder electricity blend morris \n",
      "udall thailand rakhine kachin karen microfinance rohingya ceasefire prospect initiated cambodia enshrine \n",
      "kingdom parliamentary chamber khmer undermine malicious intrusion database gulag trilateral tibet tibetan \n",
      "tradition india leader vietnam dioxin contaminate spray orange impairment cognitive amortizing aggregated \n",
      "debenture boat patriot economist purview incidence isolation appreciation music impair taiwan understate \n",
      "refundable client incorporated inverted contracted median brownfields combustion tsca deter copyright \n",
      "infringement admit outlined affidavit prima facie broadcaster translator nonresident snow categorize \n",
      "npias airfield pavement snowfall engine riegle cdfi alexandrium avenue boulevard george mount vernon \n",
      "peter webster plaque signpost bench placement usgsa wire shipyard snyder clothing making awarded motorcycle \n"
     ]
    }
   ],
   "source": [
    "# print the first 200\n",
    "words = [ dictionary[s] for s in odd_tokens ]\n",
    "output = \"\"\n",
    "for word in words:\n",
    "    output += word  + ' '\n",
    "    if len(output) > 100:\n",
    "        print(output)\n",
    "        output = ''"
   ]
  },
  {
   "cell_type": "code",
   "execution_count": 30,
   "metadata": {},
   "outputs": [],
   "source": [
    "odd_docs = []\n",
    "for index, doc in enumerate(tokened_corpus):\n",
    "    doc_tokens = [ t for t,_ in  doc ]\n",
    "    for token in doc_tokens:\n",
    "        if token in odd_tokens:\n",
    "            odd_docs.append(index)\n",
    "            break"
   ]
  },
  {
   "cell_type": "code",
   "execution_count": 31,
   "metadata": {},
   "outputs": [
    {
     "data": {
      "text/plain": [
       "534"
      ]
     },
     "execution_count": 31,
     "metadata": {},
     "output_type": "execute_result"
    }
   ],
   "source": [
    "len(odd_docs)"
   ]
  },
  {
   "cell_type": "code",
   "execution_count": 32,
   "metadata": {},
   "outputs": [
    {
     "name": "stdout",
     "output_type": "stream",
     "text": [
      "---\n",
      "235.(a) Authority The Secretary of Housing and Urban Development (in this section referred to as the Secretary ) may carry out a mobility demonstration program to enable public housing agencies to administer housing choice voucher assistance under section 8(o) of the United States Housing Act of 1937 ( 42 U.S.C. 1437f(o) ) in a manner designed to encourage families receiving such voucher assistance to move to lower-poverty areas and expand access to opportunity areas.(b) Selection of PHAs (1) Requirements The Secretary shall establish requirements for public housing agencies to participate in the demonstration program under this section, which shall provide that the following public housing agencies may participate: (A) Public housing agencies that together— (i) serve areas with high concentrations of holders of rental assistance vouchers under section 8(o) of the United States Housing Act of 1937 ( 42 U.S.C. 1437f(o) ) in poor, low-opportunity neighborhoods; and (ii) have an adequate number of moderately priced rental units in higher-opportunity areas. (B) Planned consortia or partial consortia of public housing agencies that— (i) include at least one agency with a high-performing Family Self-Sufficiency (FSS) program; and (ii) will enable participating families to continue in such program if they relocate to the jurisdiction served by any other agency of the consortium. (C) Planned consortia or partial consortia of public housing agencies that— (i) serve jurisdictions within a single region; (ii) include one or more small agencies; and (iii) will consolidate mobility focused operations. (D) Such other public housing agencies as the Secretary considers appropriate. (2) Selection criteria The Secretary shall establish competitive selection criteria for public housing agencies eligible under paragraph (1) to participate in the demonstration program under this section. (3) Random selection of families The Secretary may require participating agencies to use a randomized selection process to select among the families eligible to receive mobility assistance under the demonstration program.(c) Regional housing mobility plan The Secretary shall require each public housing agency applying to participate in the demonstration program under this section to submit a Regional Housing Mobility Plan (in this section referred to as a Plan ), which shall— (1) identify the public housing agencies that will participate under the Plan and the number of vouchers each participating agency will make available out of their existing programs in connection with the demonstration; (2) identify any community-based organizations, nonprofit organizations, businesses, and other entities that will participate under the Plan and describe the commitments for such participation made by each such entity; (3) identify any waivers or alternative requirements under subparagraph (e) requested for the execution of the Plan; (4) identify any specific actions that the public housing agencies and other entities will undertake to accomplish the goals of the demonstration, which shall include a comprehensive approach to enable a successful transition to opportunity areas and may include counseling and continued support for families; (5) specify the criteria that the public housing agencies would use to identify opportunity areas under the plan; (6) provide for establishment of priority and preferences for participating families, including a preference for families with young children, as such term is defined by the Secretary, based on regional housing needs and priorities; and (7) comply with any other requirements established by the Secretary.(d) Funding for Mobility-Related Services (1) Use of administrative fees Public housing agencies participating in the demonstration program under this section may use administrative fees under section 8(q) of the United States Housing Act of 1937 ( 42 U.S.C. 1437f(q) ), their administrative fee reserves, and funding from private entities to provide mobility-related services in connection with the demonstration program, including services such as counseling, portability coordination, landlord outreach, security deposits, and administrative activities associated with establishing and operating regional mobility programs. (2) Use of housing assistance funds Public housing agencies participating in the demonstration under this section may use housing assistance payments funds under section 8(o) of the United States Housing Act of 1937 ( 42 U.S.C. 1437f(o) ) for security deposits if necessary to enable families to lease units with vouchers in designated opportunity areas.(e) Waivers; alternative requirements (1) Waivers To allow for public housing agencies to implement and administer their Regional Housing Mobility Plans, the Secretary may waive or specify alternative requirements for the following provisions of the United States Housing Act of 1937: (A) Sections 8(o)(7)(A) and 8(o)(13)(E)(i) (relating to the term of a lease and mobility requirements). (B) Section 8(o)(13)(C)(i) (relating to the public housing plan for an agency). (C) Section 8(r)(2) (relating to the responsibility of a public housing agency to administer ported assistance). (2) Alternative Requirements for consortia The Secretary shall provide alternative administrative requirements for public housing agencies in a selected region to— (A) form a consortium that has a single housing choice voucher funding contract; or (B) enter into a partial consortium to operate all or portions of the Regional Housing Mobility Plan, which may include agencies participating in the Moving To Work Demonstration program. (3) Effective date Any waiver or alternative requirements pursuant to this subsection shall not take effect before the expiration of the 10-day period beginning upon publication of notice of such waiver or alternative requirement in the Federal Register.(f) Implementation The Secretary may implement the demonstration, including its terms, procedures, requirements, and conditions, by notice.(g) Evaluation Not later than five years after implementation of the regional housing mobility programs under the demonstration program under this section, the Secretary shall submit to the Congress and publish in the Federal Register a report evaluating the effectiveness of the strategies pursued under the demonstration, subject to the availability of funding to conduct the evaluation. Through official websites and other methods, the Secretary shall disseminate interim findings as they become available, and shall, if promising strategies are identified, notify the Congress of the amount of funds that would be required to expand the testing of these strategies in additional types of public housing agencies and housing markets.(h) Termination The demonstration program under this section shall terminate on October 1, 2028.\n",
      "---\n",
      "191.The Department of Transportation may use funds provided by this Act, or any other Act, to assist a contract under title 49 U.S.C. or title 23 U.S.C. utilizing geographic, economic, or any other hiring preference not otherwise authorized by law, or to amend a rule, regulation, policy or other measure that forbids a recipient of a Federal Highway Administration or Federal Transit Administration grant from imposing such hiring preference on a contract or construction project with which the Department of Transportation is assisting, only if the grant recipient certifies the following:(1) that except with respect to apprentices or trainees, a pool of readily available but unemployed individuals possessing the knowledge, skill, and ability to perform the work that the contract requires resides in the jurisdiction;(2) that the grant recipient will include appropriate provisions in its bid document ensuring that the contractor does not displace any of its existing employees in order to satisfy such hiring preference; and(3) that any increase in the cost of labor, training, or delays resulting from the use of such hiring preference does not delay or displace any transportation project in the applicable Statewide Transportation Improvement Program or Transportation Improvement Program.This title may be cited as the Department of Transportation Appropriations Act, 2019 .\n",
      "---\n",
      "For necessary expenses of the Internal Revenue Service to support taxpayer services and enforcement programs, including rent payments; facilities services; printing; postage; physical security; headquarters and other IRS-wide administration activities; research and statistics of income; telecommunications; information technology development, enhancement, operations, maintenance, and security; the hire of passenger motor vehicles ( 31 U.S.C. 1343(b) ); the operations of the Internal Revenue Service Oversight Board; and other services as authorized by 5 U.S.C. 3109 , at such rates as may be determined by the Commissioner; $3,724,000,000, of which not to exceed $50,000,000 shall remain available until September 30, 2020; of which not to exceed $10,000,000 shall remain available until expended for acquisition of equipment and construction, repair and renovation of facilities; of which not to exceed $1,000,000 shall remain available until September 30, 2021, for research; of which not to exceed $20,000 shall be for official reception and representation expenses: Provided , That not later than 30 days after the end of each quarter, the Internal Revenue Service shall submit a report to the Committees on Appropriations of the House of Representatives and the Senate and the Comptroller General of the United States detailing the cost and schedule performance for its major information technology investments, including the purpose and life-cycle stages of the investments; the reasons for any cost and schedule variances; the risks of such investments and strategies the Internal Revenue Service is using to mitigate such risks; and the expected developmental milestones to be achieved and costs to be incurred in the next quarter: Provided further , That the Internal Revenue Service shall include, in its budget justification for fiscal year 2020, a summary of cost and schedule performance information for its major information technology systems.\n",
      "---\n",
      "For necessary expenses for the Women’s Suffrage Centennial Commission, as authorized by the Women’s Suffrage Centennial Commission Act (section 431(a)(3) of division G of Public Law 115–31 ), $1,000,000, to remain available until expended.\n",
      "---\n",
      "For activities authorized by the Violent Crime Control and Law Enforcement Act of 1994 ( Public Law 103–322 ); the Omnibus Crime Control and Safe Streets Act of 1968 ( the 1968 Act ); the Violence Against Women and Department of Justice Reauthorization Act of 2005 ( Public Law 109–162 ) ( the 2005 Act ); and the SUPPORT for Patients and Communities Act ( Public Law 115–271 ), $303,500,000, to remain available until expended: Provided , That any balances made available through prior year deobligations shall only be available in accordance with section 505 of this Act: Provided further , That of the amount provided under this heading— $228,500,000 is for grants under section 1701 of title I of the 1968 Act ( 34 U.S.C. 10381 ) for the hiring and rehiring of additional career law enforcement officers under part Q of such title notwithstanding subsection (i) of such section: Provided , That, notwithstanding section 1704(c) of such title ( 34 U.S.C. 10384(c) ), funding for hiring or rehiring a career law enforcement officer may not exceed $125,000 unless the Director of the Office of Community Oriented Policing Services grants a waiver from this limitation: Provided further , That within the amounts appropriated under this paragraph, $27,000,000 is for improving tribal law enforcement, including hiring, equipment, training, anti-methamphetamine activities, and anti-opioid activities: Provided further , That of the amounts appropriated under this paragraph, $6,500,000 is for community policing development activities in furtherance of the purposes in section 1701: Provided further , That of the amounts appropriated under this paragraph $37,000,000 is for regional information sharing activities, as authorized by part M of title I of the 1968 Act, which shall be transferred to and merged with Research, Evaluation, and Statistics for administration by the Office of Justice Programs: Provided further , That within the amounts appropriated under this paragraph, no less than $3,000,000 is to support the Tribal Access Program: Provided further , That within the amounts appropriated under this paragraph, $2,000,000 is for training, peer mentoring, and mental health program activities as authorized under the Law Enforcement Mental Health and Wellness Act ( Public Law 115–113 ); $10,000,000 is for activities authorized by the POLICE Act of 2016 ( Public Law 114–199 ); $8,000,000 is for competitive grants to State law enforcement agencies in States with high seizures of precursor chemicals, finished methamphetamine, laboratories, and laboratory dump seizures: Provided , That funds appropriated under this paragraph shall be utilized for investigative purposes to locate or investigate illicit activities, including precursor diversion, laboratories, or methamphetamine traffickers; $32,000,000 is for competitive grants to statewide law enforcement agencies in States with high rates of primary treatment admissions for heroin and other opioids: Provided , That these funds shall be utilized for investigative purposes to locate or investigate illicit activities, including activities related to the distribution of heroin or unlawful distribution of prescription opioids, or unlawful heroin and prescription opioid traffickers through statewide collaboration; and $25,000,000 is for competitive grants to be administered by the Community Oriented Policing Services Office for purposes authorized under the STOP School Violence Act (title V of division S of Public Law 115–141 ).\n",
      "---\n",
      "105.Notwithstanding the numerical limitation set forth in section 214(g)(1)(B) of the Immigration and Nationality Act ( 8 U.S.C. 1184(g)(1)(B) ), the Secretary of Homeland Security, after consultation with the Secretary of Labor, and upon the determination that the needs of American businesses cannot be satisfied in fiscal year 2019 with United States workers who are willing, qualified, and able to perform temporary nonagricultural labor, may increase the total number of aliens who may receive a visa under section 101(a)(15)(H)(ii)(b) of such Act ( 8 U.S.C. 1101(a)(15)(H)(ii)(b) ) in such fiscal year above such limitation by not more than the highest number of H–2B nonimmigrants who participated in the H–2B returning worker program in any fiscal year in which returning workers were exempt from such numerical limitation.\n",
      "---\n",
      "415.The Department of the Interior, the Environmental Protection Agency, the Forest Service, and the Indian Health Service shall provide the Committees on Appropriations of the House of Representatives and Senate quarterly reports on the status of balances of appropriations including all uncommitted, committed, and unobligated funds in each program and activity.\n",
      "---\n",
      "For necessary expenses of the Office of the Secretary, $46,603,000, of which not to exceed $5,051,000 shall be available for the immediate Office of the Secretary; not to exceed $800,000 shall be available for the Office of the Assistant to the Secretary for Rural Development: Provided , That funds made available by this Act to an agency in the Rural Development mission area for salaries and expenses are available to fund up to one administrative support staff for the Office; not to exceed $1,496,000 shall be available for the Office of Homeland Security; not to exceed $4,711,000 shall be available for the Office of Partnerships and Public Engagement; not to exceed $23,176,000 shall be available for the Office of the Assistant Secretary for Administration, of which $22,301,000 shall be available for Departmental Administration to provide for necessary expenses for management support services to offices of the Department and for general administration, security, repairs and alterations, and other miscellaneous supplies and expenses not otherwise provided for and necessary for the practical and efficient work of the Department: Provided further , That funds made available by this Act to an agency in the Administration mission area for salaries and expenses are available to fund up to one administrative support staff for the Office; not to exceed $3,869,000 shall be available for the Office of Assistant Secretary for Congressional Relations to carry out the programs funded by this Act, including programs involving intergovernmental affairs and liaison within the executive branch; and not to exceed $7,500,000 shall be available for the Office of Communications: Provided further , That the Secretary of Agriculture is authorized to transfer funds appropriated for any office of the Office of the Secretary to any other office of the Office of the Secretary: Provided further , That no appropriation for any office shall be increased or decreased by more than 5 percent: Provided further , That not to exceed $22,000 of the amount made available under this paragraph for the immediate Office of the Secretary shall be available for official reception and representation expenses, not otherwise provided for, as determined by the Secretary: Provided further , That the amount made available under this heading for Departmental Administration shall be reimbursed from applicable appropriations in this Act for travel expenses incident to the holding of hearings as required by 5 U.S.C. 551–558: Provided further , That funds made available under this heading for the Office of the Assistant Secretary for Congressional Relations may be transferred to agencies of the Department of Agriculture funded by this Act to maintain personnel at the agency level: Provided further , That no funds made available under this heading for the Office of Assistant Secretary for Congressional Relations may be obligated after 30 days from the date of enactment of this Act, unless the Secretary has notified the Committees on Appropriations of both Houses of Congress on the allocation of these funds by USDA agency.\n",
      "---\n",
      "516.(a) Notwithstanding any other provision of law or treaty, none of the funds appropriated or otherwise made available under this Act or any other Act may be expended or obligated by a department, agency, or instrumentality of the United States to pay administrative expenses or to compensate an officer or employee of the United States in connection with requiring an export license for the export to Canada of components, parts, accessories or attachments for firearms listed in Category I, section 121.1 of title 22, Code of Federal Regulations (International Trafficking in Arms Regulations (ITAR), part 121, as it existed on April 1, 2005) with a total value not exceeding $500 wholesale in any transaction, provided that the conditions of subsection (b) of this section are met by the exporting party for such articles.(b) The foregoing exemption from obtaining an export license— (1) does not exempt an exporter from filing any Shipper's Export Declaration or notification letter required by law, or from being otherwise eligible under the laws of the United States to possess, ship, transport, or export the articles enumerated in subsection (a); and (2) does not permit the export without a license of— (A) fully automatic firearms and components and parts for such firearms, other than for end use by the Federal Government, or a Provincial or Municipal Government of Canada; (B) barrels, cylinders, receivers (frames) or complete breech mechanisms for any firearm listed in Category I, other than for end use by the Federal Government, or a Provincial or Municipal Government of Canada; or (C) articles for export from Canada to another foreign destination.(c) In accordance with this section, the District Directors of Customs and postmasters shall permit the permanent or temporary export without a license of any unclassified articles specified in subsection (a) to Canada for end use in Canada or return to the United States, or temporary import of Canadian-origin items from Canada for end use in the United States or return to Canada for a Canadian citizen.(d) The President may require export licenses under this section on a temporary basis if the President determines, upon publication first in the Federal Register, that the Government of Canada has implemented or maintained inadequate import controls for the articles specified in subsection (a), such that a significant diversion of such articles has and continues to take place for use in international terrorism or in the escalation of a conflict in another nation. The President shall terminate the requirements of a license when reasons for the temporary requirements have ceased.\n",
      "---\n",
      "7046.(a) Assistance (1) Georgia Of the funds appropriated by this Act under titles III and IV, not less than $127,025,000 shall be made available for assistance for Georgia. (2) Ukraine Of the funds appropriated by this Act under titles III and IV, not less than $445,700,000 shall be made available for assistance for Ukraine.(b) Limitation None of the funds appropriated by this Act may be made available for assistance for a government of an Independent State of the former Soviet Union if such government directs any action in violation of the territorial integrity or national sovereignty of any other Independent State of the former Soviet Union, such as those violations included in the Helsinki Final Act: Provided , That except as otherwise provided in section 7047(a) of this Act, funds may be made available without regard to the restriction in this subsection if the President determines that to do so is in the national security interest of the United States: Provided further , That prior to executing the authority contained in the previous proviso, the Secretary of State shall consult with the Committees on Appropriations on how such assistance supports the national security interest of the United States.(c) Section 907 of the Freedom Support Act Section 907 of the FREEDOM Support Act ( 22 U.S.C. 5812 note) shall not apply to— (1) activities to support democracy or assistance under title V of the FREEDOM Support Act ( 22 U.S.C. 5851 et seq.) and section 1424 of the Defense Against Weapons of Mass Destruction Act of 1996 ( 50 U.S.C. 2333 ) or non-proliferation assistance; (2) any assistance provided by the Trade and Development Agency under section 661 of the Foreign Assistance Act of 1961 ( 22 U.S.C. 2421 ); (3) any activity carried out by a member of the United States and Foreign Commercial Service while acting within his or her official capacity; (4) any insurance, reinsurance, guarantee, or other assistance provided by the Overseas Private Investment Corporation under title IV of chapter 2 of part I of the Foreign Assistance Act of 1961 ( 22 U.S.C. 2191 et seq.); (5) any financing provided under the Export-Import Bank Act of 1945 ( Public Law 79–173 ); or (6) humanitarian assistance.(d) Turkey (1) Turkish presidential protection directorate None of the funds made available by this Act may be used to facilitate or support the sale of defense articles or defense services to the Turkish Presidential Protection Directorate (TPPD) under chapter 2 of the Arms Export Control Act ( 22 U.S.C. 2761 et seq.), unless the Secretary of State determines and reports to the appropriate congressional committees that members of the TPPD that are named in the July 17, 2017 indictment by the Superior Court of the District of Columbia, and against whom charges are pending, have returned to the United States to stand trial in connection with the offenses contained in such indictment or have otherwise been brought to justice: Provided , That the limitation in this paragraph shall not apply to the use of funds made available by this Act for border security purposes, for North Atlantic Treaty Organization or coalition operations, or to enhance the protection of United States officials and facilities in Turkey. (2) Restriction on funds (A) Not later than November 1, 2019, but no sooner than six months after enactment of this Act, the Secretary of State, in consultation with the Secretary of Defense, shall submit an update to the report required by section 1282 of the John S. McCain National Defense Authorization Act for Fiscal Year 2019 ( Public Law 115–232 ) regarding the purchase by the Republic of Turkey of the S–400 missile defense system from the Russian Federation: Provided , That such report shall also include a detailed description of plans for the imposition of sanctions, if appropriate, for such purchase pursuant to section 231 of the Countering Russian Influence in Europe and Eurasia Act of 2017 ( Public Law 115–44 ). (B) None of the funds appropriated by this Act and prior Acts making appropriations for the Department of State, foreign operations, and related programs may be made available to deliver F–35 aircraft to the territory of the Republic of Turkey until the report in subparagraph (A) is submitted to the Congress.\n"
     ]
    }
   ],
   "source": [
    "for doc in odd_docs[:10]:\n",
    "    print(\"---\")\n",
    "    print(raw_corpus[doc])"
   ]
  },
  {
   "cell_type": "code",
   "execution_count": 37,
   "metadata": {},
   "outputs": [
    {
     "data": {
      "text/plain": [
       "68"
      ]
     },
     "execution_count": 37,
     "metadata": {},
     "output_type": "execute_result"
    }
   ],
   "source": [
    "dictionary.dfs[0]"
   ]
  },
  {
   "cell_type": "code",
   "execution_count": 39,
   "metadata": {},
   "outputs": [
    {
     "data": {
      "text/plain": [
       "1717"
      ]
     },
     "execution_count": 39,
     "metadata": {},
     "output_type": "execute_result"
    }
   ],
   "source": [
    "dictionary.token2id['cache']"
   ]
  },
  {
   "cell_type": "code",
   "execution_count": 40,
   "metadata": {},
   "outputs": [
    {
     "data": {
      "text/plain": [
       "1"
      ]
     },
     "execution_count": 40,
     "metadata": {},
     "output_type": "execute_result"
    }
   ],
   "source": [
    "dictionary.dfs[1717]"
   ]
  },
  {
   "cell_type": "code",
   "execution_count": 74,
   "metadata": {},
   "outputs": [],
   "source": [
    "words = 'exterior boundary'"
   ]
  },
  {
   "cell_type": "code",
   "execution_count": 75,
   "metadata": {},
   "outputs": [],
   "source": [
    "words = words.split()"
   ]
  },
  {
   "cell_type": "code",
   "execution_count": 76,
   "metadata": {},
   "outputs": [],
   "source": [
    "ids = [ dictionary.token2id[w] for w in words]"
   ]
  },
  {
   "cell_type": "code",
   "execution_count": 77,
   "metadata": {},
   "outputs": [
    {
     "name": "stdout",
     "output_type": "stream",
     "text": [
      "2\n",
      "8\n"
     ]
    }
   ],
   "source": [
    "for i in ids:\n",
    "    print(dictionary.dfs[i])"
   ]
  },
  {
   "cell_type": "code",
   "execution_count": null,
   "metadata": {},
   "outputs": [],
   "source": []
  }
 ],
 "metadata": {
  "kernelspec": {
   "display_name": "Python 3",
   "language": "python",
   "name": "python3"
  },
  "language_info": {
   "codemirror_mode": {
    "name": "ipython",
    "version": 3
   },
   "file_extension": ".py",
   "mimetype": "text/x-python",
   "name": "python",
   "nbconvert_exporter": "python",
   "pygments_lexer": "ipython3",
   "version": "3.6.8"
  }
 },
 "nbformat": 4,
 "nbformat_minor": 2
}
