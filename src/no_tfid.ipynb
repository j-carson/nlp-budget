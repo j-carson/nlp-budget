{
 "cells": [
  {
   "cell_type": "code",
   "execution_count": 1,
   "metadata": {},
   "outputs": [],
   "source": [
    "import pandas as pd\n",
    "import numpy as np \n",
    "\n",
    "from pathlib import Path"
   ]
  },
  {
   "cell_type": "code",
   "execution_count": 10,
   "metadata": {},
   "outputs": [],
   "source": [
    "from gensim import corpora\n",
    "from gensim.parsing.preprocessing import strip_non_alphanum, strip_numeric\n",
    "from gensim.parsing.preprocessing import strip_punctuation, strip_short, remove_stopwords\n",
    "from gensim.parsing.preprocessing import preprocess_string, STOPWORDS\n",
    "from gensim.utils import lemmatize"
   ]
  },
  {
   "cell_type": "code",
   "execution_count": 3,
   "metadata": {},
   "outputs": [],
   "source": [
    "import logging\n",
    "logging.basicConfig(format='%(asctime)s : %(levelname)s : %(message)s', level=logging.INFO)"
   ]
  },
  {
   "cell_type": "code",
   "execution_count": 4,
   "metadata": {},
   "outputs": [],
   "source": [
    "docdir = Path('../data/docs')"
   ]
  },
  {
   "cell_type": "code",
   "execution_count": 5,
   "metadata": {},
   "outputs": [],
   "source": [
    "raw_corpus = []"
   ]
  },
  {
   "cell_type": "code",
   "execution_count": 6,
   "metadata": {},
   "outputs": [],
   "source": [
    "files = list(docdir.glob('*.body'))\n",
    "for f in files:\n",
    "    with open(f, 'r') as fp:\n",
    "        raw_corpus.append(fp.read())\n",
    "        fp.close()"
   ]
  },
  {
   "cell_type": "code",
   "execution_count": 7,
   "metadata": {},
   "outputs": [],
   "source": [
    "corpus = []\n",
    "for doc in raw_corpus:\n",
    "    # from this lemmatization tutorial\n",
    "    # https://www.machinelearningplus.com/nlp/lemmatization-examples-python/\n",
    "    lemmatized = [wd.decode('utf-8').split('/')[0] for wd in lemmatize(doc)]\n",
    "    corpus.append(lemmatized)\n"
   ]
  },
  {
   "cell_type": "code",
   "execution_count": 11,
   "metadata": {},
   "outputs": [],
   "source": [
    "# strip short words and stop words from the lemmatized corpus \n",
    "def strip_list(wordlist):\n",
    "    return [w for w in wordlist if len(w)> 3 and w not in STOPWORDS ]\n",
    "\n",
    "corpus = [ strip_list(words) for words in corpus ]"
   ]
  },
  {
   "cell_type": "code",
   "execution_count": 12,
   "metadata": {},
   "outputs": [
    {
     "name": "stderr",
     "output_type": "stream",
     "text": [
      "2019-02-23 19:07:46,166 : INFO : adding document #0 to Dictionary(0 unique tokens: [])\n",
      "2019-02-23 19:07:46,244 : INFO : built Dictionary(4417 unique tokens: ['acquisition', 'aircraft', 'authorize', 'available', 'capital']...) from 1248 documents (total 93137 corpus positions)\n"
     ]
    }
   ],
   "source": [
    "dictionary = corpora.Dictionary(tokens for tokens in corpus)"
   ]
  },
  {
   "cell_type": "code",
   "execution_count": 13,
   "metadata": {},
   "outputs": [],
   "source": [
    "tokened_corpus = [dictionary.doc2bow(tokens) for tokens in corpus ]"
   ]
  },
  {
   "cell_type": "code",
   "execution_count": 15,
   "metadata": {},
   "outputs": [],
   "source": [
    "# dimensionality reduction\n",
    "from gensim.models import TfidfModel, LsiModel"
   ]
  },
  {
   "cell_type": "code",
   "execution_count": 14,
   "metadata": {},
   "outputs": [],
   "source": [
    "# first convert words to tfidf values\n",
    "tfidf = TfidfModel(dictionary=dictionary, normalize=True)\n",
    "vectored_corpus = [ tfidf[doc] for doc in tokened_corpus]"
   ]
  },
  {
   "cell_type": "code",
   "execution_count": 16,
   "metadata": {},
   "outputs": [
    {
     "name": "stderr",
     "output_type": "stream",
     "text": [
      "2019-02-23 19:08:36,187 : INFO : using serial LSI version on this node\n",
      "2019-02-23 19:08:36,188 : INFO : updating model with new documents\n",
      "2019-02-23 19:08:36,188 : INFO : using 100 extra samples and 3 power iterations\n",
      "2019-02-23 19:08:36,189 : INFO : 1st phase: constructing (4417, 300) action matrix\n",
      "2019-02-23 19:08:36,190 : INFO : PROGRESS: at document #0\n",
      "2019-02-23 19:08:36,293 : INFO : running power iteration #1\n",
      "2019-02-23 19:08:36,308 : INFO : PROGRESS: at document #0/1248\n",
      "2019-02-23 19:08:36,386 : INFO : running power iteration #2\n",
      "2019-02-23 19:08:36,390 : INFO : PROGRESS: at document #0/1248\n",
      "2019-02-23 19:08:36,460 : INFO : running power iteration #3\n",
      "2019-02-23 19:08:36,464 : INFO : PROGRESS: at document #0/1248\n",
      "2019-02-23 19:08:36,536 : INFO : 2nd phase: constructing (300, 300) covariance matrix\n",
      "2019-02-23 19:08:36,537 : INFO : PROGRESS: at document #0/1248\n",
      "2019-02-23 19:08:36,574 : INFO : running dense decomposition on (300, 300) covariance matrix\n",
      "2019-02-23 19:08:36,602 : INFO : computing the final decomposition\n",
      "2019-02-23 19:08:36,603 : INFO : keeping 200 factors (discarding 2.605% of energy spectrum)\n"
     ]
    }
   ],
   "source": [
    "# next do dimensionalty reduction\n",
    "lsi = LsiModel(corpus=tokened_corpus, num_topics=200, id2word=dictionary, onepass=False, power_iters=3)"
   ]
  },
  {
   "cell_type": "code",
   "execution_count": 17,
   "metadata": {},
   "outputs": [
    {
     "data": {
      "text/plain": [
       "(1248, 200)"
      ]
     },
     "execution_count": 17,
     "metadata": {},
     "output_type": "execute_result"
    }
   ],
   "source": [
    "lsi_corpus = [ lsi[doc] for doc in tokened_corpus ]\n",
    "\n",
    "lsi_array = np.array(lsi_corpus)\n",
    "lsi_array = lsi_array[:,:,1]\n",
    "lsi_array.shape"
   ]
  },
  {
   "cell_type": "code",
   "execution_count": 18,
   "metadata": {},
   "outputs": [
    {
     "name": "stderr",
     "output_type": "stream",
     "text": [
      "2019-02-23 19:09:14,528 : WARNING : scanning corpus to determine the number of features (consider setting `num_features` explicitly)\n",
      "2019-02-23 19:09:14,549 : INFO : creating matrix with 1248 documents and 200 features\n"
     ]
    }
   ],
   "source": [
    "from gensim import similarities\n",
    "\n",
    "index = similarities.MatrixSimilarity(lsi_corpus)"
   ]
  },
  {
   "cell_type": "code",
   "execution_count": 19,
   "metadata": {},
   "outputs": [],
   "source": [
    "sims = index[lsi_corpus]\n"
   ]
  },
  {
   "cell_type": "code",
   "execution_count": 20,
   "metadata": {},
   "outputs": [
    {
     "data": {
      "text/plain": [
       "(1248, 1248)"
      ]
     },
     "execution_count": 20,
     "metadata": {},
     "output_type": "execute_result"
    }
   ],
   "source": [
    "sims.shape"
   ]
  },
  {
   "cell_type": "code",
   "execution_count": 21,
   "metadata": {},
   "outputs": [],
   "source": [
    "df = pd.DataFrame(sims).agg(np.mean).sort_values().head(10)"
   ]
  },
  {
   "cell_type": "code",
   "execution_count": 22,
   "metadata": {},
   "outputs": [
    {
     "data": {
      "text/plain": [
       "735    0.034269\n",
       "144    0.036719\n",
       "745    0.038520\n",
       "528    0.041917\n",
       "265    0.044572\n",
       "768    0.046974\n",
       "134    0.047918\n",
       "734    0.049715\n",
       "400    0.052492\n",
       "723    0.056578\n",
       "dtype: float32"
      ]
     },
     "execution_count": 22,
     "metadata": {},
     "output_type": "execute_result"
    }
   ],
   "source": [
    "df"
   ]
  },
  {
   "cell_type": "code",
   "execution_count": 23,
   "metadata": {},
   "outputs": [
    {
     "data": {
      "text/plain": [
       "array([[<matplotlib.axes._subplots.AxesSubplot object at 0x1a30442278>,\n",
       "        <matplotlib.axes._subplots.AxesSubplot object at 0x1a303d9c88>,\n",
       "        <matplotlib.axes._subplots.AxesSubplot object at 0x1a3044b5c0>],\n",
       "       [<matplotlib.axes._subplots.AxesSubplot object at 0x1a3045d940>,\n",
       "        <matplotlib.axes._subplots.AxesSubplot object at 0x1a304e7b70>,\n",
       "        <matplotlib.axes._subplots.AxesSubplot object at 0x1a304d53c8>],\n",
       "       [<matplotlib.axes._subplots.AxesSubplot object at 0x1a304d8748>,\n",
       "        <matplotlib.axes._subplots.AxesSubplot object at 0x1a305c7080>,\n",
       "        <matplotlib.axes._subplots.AxesSubplot object at 0x1a305c72e8>],\n",
       "       [<matplotlib.axes._subplots.AxesSubplot object at 0x1a305d8160>,\n",
       "        <matplotlib.axes._subplots.AxesSubplot object at 0x1a30587da0>,\n",
       "        <matplotlib.axes._subplots.AxesSubplot object at 0x1a3056d630>]],\n",
       "      dtype=object)"
      ]
     },
     "execution_count": 23,
     "metadata": {},
     "output_type": "execute_result"
    },
    {
     "data": {
      "image/png": "[encoded data removed]",
      "text/plain": [
       "<Figure size 432x288 with 12 Axes>"
      ]
     },
     "metadata": {
      "needs_background": "light"
     },
     "output_type": "display_data"
    }
   ],
   "source": [
    "%matplotlib inline \n",
    "pd.DataFrame(sims).loc[:,df.index].hist()"
   ]
  },
  {
   "cell_type": "code",
   "execution_count": 24,
   "metadata": {},
   "outputs": [
    {
     "data": {
      "text/plain": [
       "'For acquisition of lands within the exterior boundaries of the Cache, Uinta, and Wasatch National Forests, Utah; the Toiyabe National Forest, Nevada; and the Angeles, San Bernardino, Sequoia, and Cleveland National Forests, California; and the Ozark-St. Francis and Ouachita National Forests, Arkansas; as authorized by law, $700,000, to be derived from forest receipts.'"
      ]
     },
     "execution_count": 24,
     "metadata": {},
     "output_type": "execute_result"
    }
   ],
   "source": [
    "raw_corpus[144]"
   ]
  },
  {
   "cell_type": "code",
   "execution_count": 34,
   "metadata": {},
   "outputs": [
    {
     "data": {
      "text/plain": [
       "['authorize',\n",
       " 'exist',\n",
       " 'fund',\n",
       " 'provide',\n",
       " 'executive',\n",
       " 'branch',\n",
       " 'agency',\n",
       " 'produce',\n",
       " 'prepackage',\n",
       " 'news',\n",
       " 'story',\n",
       " 'intend',\n",
       " 'broadcast',\n",
       " 'distribution',\n",
       " 'united',\n",
       " 'states',\n",
       " 'story',\n",
       " 'include',\n",
       " 'clear',\n",
       " 'notification',\n",
       " 'text',\n",
       " 'audio',\n",
       " 'prepackage',\n",
       " 'news',\n",
       " 'story',\n",
       " 'prepackage',\n",
       " 'news',\n",
       " 'story',\n",
       " 'prepare',\n",
       " 'fund',\n",
       " 'executive',\n",
       " 'branch',\n",
       " 'agency']"
      ]
     },
     "execution_count": 34,
     "metadata": {},
     "output_type": "execute_result"
    }
   ],
   "source": [
    "corpus[271]"
   ]
  },
  {
   "cell_type": "code",
   "execution_count": 39,
   "metadata": {},
   "outputs": [
    {
     "data": {
      "text/plain": [
       "2136"
      ]
     },
     "execution_count": 39,
     "metadata": {},
     "output_type": "execute_result"
    }
   ],
   "source": [
    "dictionary.token2id['butterfly']"
   ]
  },
  {
   "cell_type": "code",
   "execution_count": 41,
   "metadata": {},
   "outputs": [
    {
     "name": "stdout",
     "output_type": "stream",
     "text": [
      "234\n"
     ]
    }
   ],
   "source": [
    "for i, doc in enumerate(tokened_corpus):\n",
    "    for entry in doc:\n",
    "        if entry[0] == 2136:\n",
    "            print(i)"
   ]
  },
  {
   "cell_type": "code",
   "execution_count": 42,
   "metadata": {},
   "outputs": [
    {
     "data": {
      "text/plain": [
       "<matplotlib.axes._subplots.AxesSubplot at 0x1a3cdeda58>"
      ]
     },
     "execution_count": 42,
     "metadata": {},
     "output_type": "execute_result"
    },
    {
     "data": {
      "image/png": "[encoded data removed]",
      "text/plain": [
       "<Figure size 432x288 with 1 Axes>"
      ]
     },
     "metadata": {
      "needs_background": "light"
     },
     "output_type": "display_data"
    }
   ],
   "source": [
    "df.loc[:,234].hist()"
   ]
  },
  {
   "cell_type": "code",
   "execution_count": 61,
   "metadata": {},
   "outputs": [
    {
     "data": {
      "text/plain": [
       "HDBSCAN(algorithm='best', allow_single_cluster=False, alpha=1.0,\n",
       "    approx_min_span_tree=True, cluster_selection_method='eom',\n",
       "    core_dist_n_jobs=4, gen_min_span_tree=False, leaf_size=40,\n",
       "    match_reference_implementation=False, memory=Memory(location=None),\n",
       "    metric='euclidean', min_cluster_size=5, min_samples=None, p=None,\n",
       "    prediction_data=False)"
      ]
     },
     "execution_count": 61,
     "metadata": {},
     "output_type": "execute_result"
    }
   ],
   "source": [
    "# cluster with hdbscan\n",
    "import hdbscan\n",
    "hdb = hdbscan.HDBSCAN()\n",
    "hdb.fit(lsi_array)"
   ]
  },
  {
   "cell_type": "code",
   "execution_count": 62,
   "metadata": {},
   "outputs": [
    {
     "data": {
      "text/plain": [
       "array([ 1, -1,  1, ...,  1,  1,  1])"
      ]
     },
     "execution_count": 62,
     "metadata": {},
     "output_type": "execute_result"
    }
   ],
   "source": [
    "hdb.labels_"
   ]
  },
  {
   "cell_type": "code",
   "execution_count": 63,
   "metadata": {},
   "outputs": [
    {
     "data": {
      "text/plain": [
       "2"
      ]
     },
     "execution_count": 63,
     "metadata": {},
     "output_type": "execute_result"
    }
   ],
   "source": [
    "hdb.labels_.max()"
   ]
  },
  {
   "cell_type": "code",
   "execution_count": 64,
   "metadata": {},
   "outputs": [],
   "source": [
    "outlier_docs = []\n",
    "\n",
    "for index, label in enumerate(hdb.labels_):\n",
    "    if label == -1:\n",
    "        outlier_docs.append(index)"
   ]
  },
  {
   "cell_type": "code",
   "execution_count": 65,
   "metadata": {},
   "outputs": [
    {
     "data": {
      "text/plain": [
       "200"
      ]
     },
     "execution_count": 65,
     "metadata": {},
     "output_type": "execute_result"
    }
   ],
   "source": [
    "len(outlier_docs)"
   ]
  },
  {
   "cell_type": "code",
   "execution_count": null,
   "metadata": {},
   "outputs": [],
   "source": []
  }
 ],
 "metadata": {
  "kernelspec": {
   "display_name": "Python 3",
   "language": "python",
   "name": "python3"
  },
  "language_info": {
   "codemirror_mode": {
    "name": "ipython",
    "version": 3
   },
   "file_extension": ".py",
   "mimetype": "text/x-python",
   "name": "python",
   "nbconvert_exporter": "python",
   "pygments_lexer": "ipython3",
   "version": "3.6.8"
  }
 },
 "nbformat": 4,
 "nbformat_minor": 2
}
